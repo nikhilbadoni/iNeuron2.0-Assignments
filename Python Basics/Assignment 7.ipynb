{
 "cells": [
  {
   "cell_type": "markdown",
   "id": "68aa4cff",
   "metadata": {},
   "source": [
    "# Python Basics | Assignment 7"
   ]
  },
  {
   "cell_type": "markdown",
   "id": "4a74e8e7",
   "metadata": {},
   "source": [
    "# Q1.\n",
    "### What is the name of the feature responsible for generating Regex objects?"
   ]
  },
  {
   "cell_type": "markdown",
   "id": "4bfa0d92",
   "metadata": {},
   "source": [
    "The feature responsible for generating regular expression objects is the **re** module. This module provides functions and methods for working with regular expressions in Python. "
   ]
  },
  {
   "cell_type": "markdown",
   "id": "a8e3ed59",
   "metadata": {},
   "source": [
    "# Q2.\n",
    "### Why do raw strings often appear in Regex objects?"
   ]
  },
  {
   "cell_type": "markdown",
   "id": "23d7fdb0",
   "metadata": {},
   "source": [
    "Raw strings are commonly used in regular expressions (Regex) to handle backslashes and special characters more easily. A raw string literal is denoted by the **r** prefix before the string.\n",
    "Raw strings treat backslashes **(\\)** as literal characters and do not interpret them as escape characters. "
   ]
  },
  {
   "cell_type": "markdown",
   "id": "c87e62e3",
   "metadata": {},
   "source": [
    "# Q3.\n",
    "### What is the return value of the search() method?"
   ]
  },
  {
   "cell_type": "markdown",
   "id": "a5bc63ab",
   "metadata": {},
   "source": [
    "The **search()** method from the **re** module in Python returns a match object if a match is found, or None if no match is found. The match object contains information about the matched substring, starting and endling location etc. and there are different method to access these values\n",
    "###### Below is the **Example**"
   ]
  },
  {
   "cell_type": "code",
   "execution_count": 3,
   "id": "f961d68a",
   "metadata": {},
   "outputs": [
    {
     "name": "stdout",
     "output_type": "stream",
     "text": [
      "Match found: Python\n",
      "Start position: 7\n",
      "End position: 13\n",
      "Start and end positions: (7, 13)\n"
     ]
    }
   ],
   "source": [
    "import re\n",
    "\n",
    "text = \"Hello, Python is awesome!\"\n",
    "pattern = r\"Python\"\n",
    "\n",
    "match = re.search(pattern, text)\n",
    "\n",
    "if match:\n",
    "    print(\"Match found:\", match.group())\n",
    "    print(\"Start position:\", match.start())\n",
    "    print(\"End position:\", match.end())\n",
    "    print(\"Start and end positions:\", match.span())\n",
    "else:\n",
    "    print(\"No match found.\")\n"
   ]
  },
  {
   "cell_type": "markdown",
   "id": "bf099604",
   "metadata": {},
   "source": [
    "# Q4.\n",
    "### From a Match item, how do you get the actual strings that match the pattern?"
   ]
  },
  {
   "cell_type": "markdown",
   "id": "3c96df8f",
   "metadata": {},
   "source": [
    "To retrieve the actual strings that match the pattern from a match object, we use the **group()** method. The **group()** method without any arguments returns the entire matched substring.\n",
    "###### Below is the **Example**"
   ]
  },
  {
   "cell_type": "code",
   "execution_count": 2,
   "id": "97728002",
   "metadata": {},
   "outputs": [
    {
     "name": "stdout",
     "output_type": "stream",
     "text": [
      "Match found: Python\n"
     ]
    }
   ],
   "source": [
    "import re\n",
    "\n",
    "text = \"Hello, Python is awesome!\"\n",
    "pattern = r\"Python\"\n",
    "\n",
    "match = re.search(pattern, text)\n",
    "\n",
    "if match:\n",
    "    print(\"Match found:\", match.group())\n",
    "else:\n",
    "    print(\"No match found.\")\n"
   ]
  },
  {
   "cell_type": "markdown",
   "id": "7eb6c37f",
   "metadata": {},
   "source": [
    "# Q5.\n",
    "### In the regex which created from the r&#39;(\\d\\d\\d)-(\\d\\d\\d-\\d\\d\\d\\d)&#39;, what does group zero cover?Group 2? Group 1?"
   ]
  },
  {
   "cell_type": "markdown",
   "id": "c50bb098",
   "metadata": {},
   "source": [
    "In the regular expression r'(\\d\\d\\d)-(\\d\\d\\d-\\d\\d\\d\\d)', the groups are defined by the parentheses. \n",
    "- **Group Zero** covers the entire matched substring, including all the characters that match the pattern.\n",
    "- **Group One** refers to the portion of the match enclosed in the first set of parentheses (\\d\\d\\d). It captures and represents a three-digit sequence.\n",
    "- **Group Two** refers to the part of the match enclosed in the second set of parentheses (\\d\\d\\d-\\d\\d\\d\\d). It captures and represents a seven-character sequence in the format of three digits followed by a hyphen and four digits.\n",
    "###### below is the **Example**"
   ]
  },
  {
   "cell_type": "code",
   "execution_count": 4,
   "id": "91401c4d",
   "metadata": {},
   "outputs": [
    {
     "name": "stdout",
     "output_type": "stream",
     "text": [
      "Group 0 (entire match): 123-456-7890\n",
      "Group 1: 123\n",
      "Group 2: 456-7890\n"
     ]
    }
   ],
   "source": [
    "import re\n",
    "\n",
    "text = \"Phone numbers: 123-456-7890, 987-654-3210\"\n",
    "pattern = r'(\\d\\d\\d)-(\\d\\d\\d-\\d\\d\\d\\d)'\n",
    "\n",
    "match = re.search(pattern, text)\n",
    "\n",
    "if match:\n",
    "    print(\"Group 0 (entire match):\", match.group(0))\n",
    "    print(\"Group 1:\", match.group(1))\n",
    "    print(\"Group 2:\", match.group(2))\n",
    "else:\n",
    "    print(\"No match found.\")\n"
   ]
  },
  {
   "cell_type": "markdown",
   "id": "d5d006bd",
   "metadata": {},
   "source": [
    "# Q6.\n",
    "### In standard expression syntax, parentheses and intervals have distinct meanings. How can you tell a regex that you want it to fit real parentheses and periods?"
   ]
  },
  {
   "cell_type": "markdown",
   "id": "78a1f5ae",
   "metadata": {},
   "source": [
    " We can use the backslash '\\' as an escape character. By preceding a metacharacter with a backslash, we can tell the regex engine to treat it as a literal character instead of its special meaning.\n",
    " ###### Below is the **Example**"
   ]
  },
  {
   "cell_type": "code",
   "execution_count": 9,
   "id": "489eaa15",
   "metadata": {},
   "outputs": [
    {
     "name": "stdout",
     "output_type": "stream",
     "text": [
      "Match found: (some) parentheses and a period.\n"
     ]
    }
   ],
   "source": [
    "import re\n",
    "\n",
    "text = \"I have (some) parentheses and a period.\"\n",
    "pattern = r'\\(some\\) parentheses and a period\\.'\n",
    "\n",
    "match = re.search(pattern, text)\n",
    "\n",
    "if match:\n",
    "    print(\"Match found:\", match.group())\n",
    "else:\n",
    "    print(\"No match found.\")\n"
   ]
  },
  {
   "cell_type": "markdown",
   "id": "294d08b2",
   "metadata": {},
   "source": [
    "# Q7.\n",
    "### The findall() method returns a string list or a list of string tuples. What causes it to return one of the two options?"
   ]
  },
  {
   "cell_type": "markdown",
   "id": "0556e0f2",
   "metadata": {},
   "source": [
    "The **findall()** method from the re module in Python returns a list of strings when the regular expression pattern being searched does not contain any capturing groups **(parentheses)**.\n",
    "If the pattern contains one or more capturing groups, the **findall()** method returns a list of tuples"
   ]
  },
  {
   "cell_type": "markdown",
   "id": "b2532825",
   "metadata": {},
   "source": [
    "# Q8.\n",
    "### In standard expressions, what does the | character mean?"
   ]
  },
  {
   "cell_type": "markdown",
   "id": "924a6513",
   "metadata": {},
   "source": [
    "The vertical bar **|** is used as the bitwise OR operator. It performs a bitwise OR operation on the binary representations of two integers"
   ]
  },
  {
   "cell_type": "code",
   "execution_count": 19,
   "id": "fcd69758",
   "metadata": {},
   "outputs": [
    {
     "name": "stdout",
     "output_type": "stream",
     "text": [
      "7\n"
     ]
    }
   ],
   "source": [
    "a = 5    # binary: 0101\n",
    "b = 3    # binary: 0011\n",
    "result = a | b    # binary: 0111 (decimal: 7)\n",
    "print(result)    # Output: 7\n"
   ]
  },
  {
   "cell_type": "markdown",
   "id": "c0a7727a",
   "metadata": {},
   "source": [
    "# Q9.\n",
    "### In regular expressions, what does the character stand for?"
   ]
  },
  {
   "cell_type": "markdown",
   "id": "bd109d6c",
   "metadata": {},
   "source": [
    "In regular expressions, the **|** character, known as the vertical bar, represents the logical OR operator. It allows you to specify multiple alternatives within a regular expression pattern. The **|** character acts as a separator between the alternatives, indicating that the pattern should match any of the alternatives.\n",
    "###### Below is the **Example**"
   ]
  },
  {
   "cell_type": "code",
   "execution_count": 18,
   "id": "47b83c46",
   "metadata": {},
   "outputs": [
    {
     "name": "stdout",
     "output_type": "stream",
     "text": [
      "Matches: ['cats', 'dogs']\n"
     ]
    }
   ],
   "source": [
    "import re\n",
    "\n",
    "text = \"I love cats and dogs.\"\n",
    "\n",
    "pattern = r\"cats|dogs\"  # Matches either \"cats\" or \"dogs\"\n",
    "\n",
    "matches = re.findall(pattern, text)\n",
    "\n",
    "print(\"Matches:\", matches)\n"
   ]
  },
  {
   "cell_type": "markdown",
   "id": "6034b6f1",
   "metadata": {},
   "source": [
    "# Q10.\n",
    "### In regular expressions, what is the difference between the + and * characters?"
   ]
  },
  {
   "cell_type": "markdown",
   "id": "2ce3d657",
   "metadata": {},
   "source": [
    "n regular expressions, both the + and * characters are used to quantify the preceding element in the pattern, but they have different meanings:\n",
    "\n",
    "*  `*` (Asterisk):\n",
    "The * character means \"zero or more occurrences\" of the preceding element. In other words, it allows the preceding element to appear any number of times, including zero times. For example, the pattern a* matches strings like \"aa\", \"aaa\", \"aaaa\", and even an empty string.\n",
    "+  `+` (Plus):\n",
    "The + character means \"one or more occurrences\" of the preceding element. It requires the preceding element to appear at least once in the string. For example, the pattern a+ matches strings like \"a\", \"aa\", \"aaa\", but not an empty string."
   ]
  },
  {
   "cell_type": "markdown",
   "id": "f949c754",
   "metadata": {},
   "source": [
    "# Q11.\n",
    "### What is the difference between {4} and {4,5} in regular expression?"
   ]
  },
  {
   "cell_type": "markdown",
   "id": "b7548d69",
   "metadata": {},
   "source": [
    "{4}:\n",
    "\n",
    "This specifies that the preceding element should occur exactly 4 times.\n",
    "For example, the pattern [0-9]{4} would match any sequence of exactly four digits.\n",
    "\n",
    "{4,5}:\n",
    "\n",
    "This specifies that the preceding element should occur between 4 and 5 times, inclusive.\n",
    "For example, the pattern [0-9]{4,5} would match sequences of either four or five digits."
   ]
  },
  {
   "cell_type": "markdown",
   "id": "a32da1f6",
   "metadata": {},
   "source": [
    "# Q12.\n",
    "### What do you mean by the \\d, \\w, and \\s shorthand character classes signify in regular expressions?"
   ]
  },
  {
   "cell_type": "markdown",
   "id": "e26823a7",
   "metadata": {},
   "source": [
    "1. \\d:\n",
    "This shorthand character class represents any digit character (0-9). It is equivalent to the character class [0-9]. So, \\d matches any single digit.\n",
    "For example, the pattern \\d{3} would match any sequence of three consecutive digits.\n",
    "2. \\w:\n",
    "This shorthand character class represents any word character. A word character is typically an alphanumeric character (a-z, A-Z, 0-9) or an underscore (_). It is equivalent to the character class [a-zA-Z0-9_].\n",
    "For example, the pattern \\w+ would match one or more consecutive word characters.\n",
    "3. \\s:\n",
    "This shorthand character class represents any whitespace character, including spaces, tabs, and newline characters. It is equivalent to the character class [\\t\\n\\f\\r ].\n",
    "For example, the pattern \\s+ would match one or more consecutive whitespace characters."
   ]
  },
  {
   "cell_type": "markdown",
   "id": "ce872e09",
   "metadata": {},
   "source": [
    "# Q13.\n",
    "### What do means by \\D, \\W, and \\S shorthand character classes signify in regular expressions?"
   ]
  },
  {
   "cell_type": "markdown",
   "id": "90cb01fa",
   "metadata": {},
   "source": [
    "1. \\D:\n",
    "This shorthand character class represents any character that is not a digit. It is the opposite of \\d. It matches any character except the digits 0 to 9.\n",
    "For example, the pattern \\D{3} would match any sequence of three consecutive non-digit characters.\n",
    "2. \\W:\n",
    "This shorthand character class represents any character that is not a word character. It is the opposite of \\w. It matches any character that is not an alphanumeric character (a-z, A-Z, 0-9) or an underscore (_).\n",
    "For example, the pattern \\W+ would match one or more consecutive non-word characters.\n",
    "3. \\S:\n",
    "This shorthand character class represents any character that is not a whitespace character. It is the opposite of \\s. It matches any character that is not a space, tab, newline, carriage return, or form feed.\n",
    "For example, the pattern \\S+ would match one or more consecutive non-whitespace characters.`"
   ]
  },
  {
   "cell_type": "markdown",
   "id": "7cfa11b6",
   "metadata": {},
   "source": [
    "# Q14.\n",
    "### What is the difference between .*? and .?"
   ]
  },
  {
   "cell_type": "markdown",
   "id": "fc7deb80",
   "metadata": {},
   "source": [
    "* .*?:\n",
    ".*? is a non-greedy or lazy quantifier. It matches any sequence of characters (including none) but in a non-greedy way. This means it will try to match as few characters as possible while still allowing the rest of the pattern to match.\n",
    "For example, in the pattern a.*?b, if you apply it to the string \"aabcab\", it would match \"aab\" instead of the entire string \"aabcab\".\n",
    "* .?:\n",
    ".? is a quantifier that matches the preceding element (in this case, . which represents any character) zero or one time. It's essentially saying \"match zero or one of the preceding character or element\".\n",
    "For example, the pattern a.?b would match both \"ab\" and \"a\" followed by \"b\", making the character between \"a\" and \"b\" optional.\n"
   ]
  },
  {
   "cell_type": "markdown",
   "id": "f2fc2cea",
   "metadata": {},
   "source": [
    "# Q15.\n",
    "### What is the syntax for matching both numbers and lowercase letters with a character class?"
   ]
  },
  {
   "cell_type": "markdown",
   "id": "4fad0352",
   "metadata": {},
   "source": [
    "To match both numbers and lowercase letters using a character class in a regular expression, you can combine the character ranges for numbers (0-9) and lowercase letters (a-z). The syntax for this is:\n",
    "`[0-9a-z]`"
   ]
  },
  {
   "cell_type": "markdown",
   "id": "684f7fee",
   "metadata": {},
   "source": [
    "# Q16.\n",
    "### What is the procedure for making a normal expression in regax case insensitive?"
   ]
  },
  {
   "cell_type": "markdown",
   "id": "a0bf1bb1",
   "metadata": {},
   "source": [
    "To make a regular expression case-insensitive, you can use the appropriate flags or modifiers provided by the programming language or regular expression library you are using. \n",
    "\n",
    " ###### Below is the **Example**"
   ]
  },
  {
   "cell_type": "code",
   "execution_count": 1,
   "id": "c8b866d2",
   "metadata": {},
   "outputs": [
    {
     "name": "stdout",
     "output_type": "stream",
     "text": [
      "['Example']\n"
     ]
    }
   ],
   "source": [
    "import re\n",
    "\n",
    "pattern = r\"example\"\n",
    "text = \"Example text\"\n",
    "matches = re.findall(pattern, text, re.IGNORECASE)  \n",
    "print(matches)  "
   ]
  },
  {
   "cell_type": "markdown",
   "id": "2be8c333",
   "metadata": {},
   "source": [
    "# Q17.\n",
    "### What does the . character normally match? What does it match if re.DOTALL is passed as 2nd argument in re.compile()?"
   ]
  },
  {
   "cell_type": "markdown",
   "id": "8045407a",
   "metadata": {},
   "source": [
    "In a regular expression, the . character normally matches any character except a newline (\\n). It's often used as a wildcard to represent any character within a pattern.\n",
    "\n",
    "If we pass the re.DOTALL flag (or re.S as an alias) as the second argument when compiling a regular expression using the re.compile() function, it changes the behavior of the . character to match any character, including newline characters.\n",
    "\n",
    " ###### Below is the **Example**"
   ]
  },
  {
   "cell_type": "code",
   "execution_count": 3,
   "id": "2022a44c",
   "metadata": {},
   "outputs": [
    {
     "name": "stdout",
     "output_type": "stream",
     "text": [
      "['Hello', 'World']\n",
      "['Hello\\nWorld']\n"
     ]
    }
   ],
   "source": [
    "import re\n",
    "\n",
    "text = \"Hello\\nWorld\"\n",
    "\n",
    "# Without DOTALL\n",
    "pattern1 = re.compile(r\".+\")\n",
    "result1 = pattern1.findall(text)\n",
    "print(result1)  \n",
    "\n",
    "# With DOTALL\n",
    "pattern2 = re.compile(r\".+\", re.DOTALL)\n",
    "result2 = pattern2.findall(text)\n",
    "print(result2) \n"
   ]
  },
  {
   "cell_type": "markdown",
   "id": "88cb3d70",
   "metadata": {},
   "source": [
    "# Q18.\n",
    "### If numReg = re.compile(r&#39;\\d+&#39;), what will numRegex.sub(&#39;X&#39;, &#39;11 drummers, 10 pipers, five rings, 4 hen&#39;) return?"
   ]
  },
  {
   "cell_type": "code",
   "execution_count": null,
   "id": "2e41010d",
   "metadata": {},
   "outputs": [],
   "source": []
  },
  {
   "cell_type": "markdown",
   "id": "f59dd926",
   "metadata": {},
   "source": [
    "# Q19.\n",
    "### What does passing re.VERBOSE as the 2nd argument to re.compile() allow to do?"
   ]
  },
  {
   "cell_type": "code",
   "execution_count": null,
   "id": "9474daf3",
   "metadata": {},
   "outputs": [],
   "source": []
  },
  {
   "cell_type": "markdown",
   "id": "0099198a",
   "metadata": {},
   "source": [
    "# Q20.\n",
    "### How would you write a regex that match a number with comma for every three digits? It must match the given following:\n",
    "### &#39;42&#39;\n",
    "### &#39;1,234&#39;\n",
    "### &#39;6,368,745&#39;\n",
    "### but not the following:\n",
    "### &#39;12,34,567&#39; (which has only two digits between the commas)\n",
    "### &#39;1234&#39; (which lacks commas)"
   ]
  },
  {
   "cell_type": "code",
   "execution_count": null,
   "id": "f39dec25",
   "metadata": {},
   "outputs": [],
   "source": []
  },
  {
   "cell_type": "markdown",
   "id": "f03fe1a6",
   "metadata": {},
   "source": [
    "# Q21.\n",
    "### How would you write a regex that matches the full name of someone whose last name is Watanabe? You can assume that the first name that comes before it will always be one word that begins with a capital letter. The regex must match the following:\n",
    "### &#39;Haruto Watanabe&#39;\n",
    "### &#39;Alice Watanabe&#39;\n",
    "### &#39;RoboCop Watanabe&#39;\n",
    "### but not the following:\n",
    "### &#39;haruto Watanabe&#39; (where the first name is not capitalized)\n",
    "### &#39;Mr. Watanabe&#39; (where the preceding word has a nonletter character)\n",
    "### &#39;Watanabe&#39; (which has no first name)\n",
    "### &#39;Haruto watanabe&#39; (where Watanabe is not capitalized)"
   ]
  },
  {
   "cell_type": "code",
   "execution_count": null,
   "id": "67a9bf61",
   "metadata": {},
   "outputs": [],
   "source": []
  },
  {
   "cell_type": "markdown",
   "id": "54352e5a",
   "metadata": {},
   "source": [
    "# Q22.\n",
    "### How would you write a regex that matches a sentence where the first word is either Alice, Bob, or Carol; the second word is either eats, pets, or throws; the third word is apples, cats, or baseballs; and the sentence ends with a period? This regex should be case-insensitive. It must match the following:\n",
    "### &#39;Alice eats apples.&#39;\n",
    "### &#39;Bob pets cats.&#39;\n",
    "### &#39;Carol throws baseballs.&#39;\n",
    "### &#39;Alice throws Apples.&#39;\n",
    "### &#39;BOB EATS CATS.&#39;\n",
    "### but not the following:\n",
    "### &#39;RoboCop eats apples.&#39;\n",
    "### &#39;ALICE THROWS FOOTBALLS.&#39;\n",
    "### &#39;Carol eats 7 cats.&#39;"
   ]
  },
  {
   "cell_type": "code",
   "execution_count": null,
   "id": "f2ce1164",
   "metadata": {},
   "outputs": [],
   "source": []
  }
 ],
 "metadata": {
  "kernelspec": {
   "display_name": "Python 3 (ipykernel)",
   "language": "python",
   "name": "python3"
  },
  "language_info": {
   "codemirror_mode": {
    "name": "ipython",
    "version": 3
   },
   "file_extension": ".py",
   "mimetype": "text/x-python",
   "name": "python",
   "nbconvert_exporter": "python",
   "pygments_lexer": "ipython3",
   "version": "3.10.9"
  }
 },
 "nbformat": 4,
 "nbformat_minor": 5
}
