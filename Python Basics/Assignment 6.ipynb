{
 "cells": [
  {
   "cell_type": "markdown",
   "id": "a2641968",
   "metadata": {},
   "source": [
    "# Python Basics | Assignment 6"
   ]
  },
  {
   "cell_type": "markdown",
   "id": "7d0bc14b",
   "metadata": {},
   "source": [
    "# Q1.\n",
    "### What are escape characters, and how do you use them?"
   ]
  },
  {
   "cell_type": "markdown",
   "id": "54248358",
   "metadata": {},
   "source": [
    "Escape characters are special characters that are used to represent certain non-printable or special characters within strings. They are indicated by a backslash '\\' followed by a particular character.\n",
    "Some commonly used escape characters in Python are:\n",
    "\n",
    "\\n: Newline - Inserts a newline character.\n",
    "\\t: Tab - Inserts a tab character.\n",
    "\": Double quote - Inserts a double quote character.\n",
    "': Single quote - Inserts a single quote character.\n",
    "###### Below is the **Example** "
   ]
  },
  {
   "cell_type": "code",
   "execution_count": 1,
   "id": "43fe7fe3",
   "metadata": {},
   "outputs": [
    {
     "name": "stdout",
     "output_type": "stream",
     "text": [
      "Hello\n",
      "World\n",
      "Hello\tWorld\n",
      "He said, \"Python is awesome!\"\n",
      "I'm learning Python.\n",
      "C:\\path\\to\\file\n"
     ]
    }
   ],
   "source": [
    "# Newline and Tab characters\n",
    "print(\"Hello\\nWorld\")\n",
    "print(\"Hello\\tWorld\")\n",
    "\n",
    "# Double and Single quotes\n",
    "print(\"He said, \\\"Python is awesome!\\\"\")\n",
    "print('I\\'m learning Python.')\n",
    "\n",
    "# Backslash\n",
    "print(\"C:\\\\path\\\\to\\\\file\")"
   ]
  },
  {
   "cell_type": "markdown",
   "id": "6221ebff",
   "metadata": {},
   "source": [
    "# Q2.\n",
    "### What do the escape characters n and t stand for?"
   ]
  },
  {
   "cell_type": "markdown",
   "id": "50113439",
   "metadata": {},
   "source": [
    "### 'n': Newline\n",
    "- The '\\n' escape character represents a newline. It is used to insert a line break in a string and causes the text to continue on a new line.\n",
    "### '\\t': Tab\n",
    "- The '\\t' escape character represents a horizontal tab. It is used to insert a tabulation character in a string, creating horizontal space.\n",
    "###### Below is the **Example**"
   ]
  },
  {
   "cell_type": "code",
   "execution_count": 2,
   "id": "4390b519",
   "metadata": {},
   "outputs": [
    {
     "name": "stdout",
     "output_type": "stream",
     "text": [
      "Hello\n",
      "World\n",
      "Python\tProgramming\n"
     ]
    }
   ],
   "source": [
    "print(\"Hello\\nWorld\")\n",
    "print(\"Python\\tProgramming\")"
   ]
  },
  {
   "cell_type": "markdown",
   "id": "7131444b",
   "metadata": {},
   "source": [
    "# Q3.\n",
    "### What is the way to include backslash characters in a string?"
   ]
  },
  {
   "cell_type": "markdown",
   "id": "34fb15be",
   "metadata": {},
   "source": [
    "To include a backslash character itself in a string, we can use the escape character **'\\'** before the backslash. This tells the interpreter to treat the following backslash as a literal character rather than an escape character.\n",
    "###### Below is the **Example**"
   ]
  },
  {
   "cell_type": "code",
   "execution_count": 3,
   "id": "ae2f0d89",
   "metadata": {},
   "outputs": [
    {
     "name": "stdout",
     "output_type": "stream",
     "text": [
      "This is a backslash: \\\n"
     ]
    }
   ],
   "source": [
    "print(\"This is a backslash: \\\\\")"
   ]
  },
  {
   "cell_type": "markdown",
   "id": "bbc27a77",
   "metadata": {},
   "source": [
    "# Q4.\n",
    "### The string &quot;Howl&#39;s Moving Castle&quot; is a correct value. Why isn&#39;t the single quote character in the word Howl&#39;s not escaped a problem?"
   ]
  },
  {
   "cell_type": "markdown",
   "id": "962834e3",
   "metadata": {},
   "source": [
    "In Python, we can use either single quotes ('') or double quotes (\"\") to define string literals. When a string is enclosed in double quotes, like in the example \"Howl's Moving Castle\", any single quote characters within the string are treated as literal characters and do not need to be escaped."
   ]
  },
  {
   "cell_type": "markdown",
   "id": "ca5b6265",
   "metadata": {},
   "source": [
    "# Q5.\n",
    "### How do you write a string of newlines if you don&#39;t want to use the n character?"
   ]
  },
  {
   "cell_type": "markdown",
   "id": "99c70c4c",
   "metadata": {},
   "source": [
    "If we don't want to use the '\\n' escape character to represent newlines in a string, we can achieve the same result by using triple quotes (either ''' or \"\"\") to define a multi-line string literal. \n",
    "###### Below is the **Example**"
   ]
  },
  {
   "cell_type": "code",
   "execution_count": 4,
   "id": "dcbc1c95",
   "metadata": {},
   "outputs": [
    {
     "name": "stdout",
     "output_type": "stream",
     "text": [
      "This is a\n",
      "multi-line\n",
      "string.\n"
     ]
    }
   ],
   "source": [
    "multiline_string = \"\"\"This is a\n",
    "multi-line\n",
    "string.\"\"\"\n",
    "print(multiline_string)"
   ]
  },
  {
   "cell_type": "markdown",
   "id": "77d6532c",
   "metadata": {},
   "source": [
    "# Q6.\n",
    "### What are the values of the given expressions?\n",
    "### &#39;Hello, world!&#39;[1]\n",
    "### &#39;Hello, world!&#39;[0:5]\n",
    "### &#39;Hello, world!&#39;[:5]\n",
    "### &#39;Hello, world!&#39;[3:]"
   ]
  },
  {
   "cell_type": "markdown",
   "id": "972b01f0",
   "metadata": {},
   "source": [
    "- 'Hello, world!'[1] gives result 'e'.\n",
    "- 'Hello, world!'[0:5] gives result 'Hello'.\n",
    "- 'Hello, world!'[:5] gives result 'Hello'.\n",
    "- 'Hello, world!'[3:] gives result 'lo, world!'."
   ]
  },
  {
   "cell_type": "markdown",
   "id": "eff0ac7e",
   "metadata": {},
   "source": [
    "# Q7.\n",
    "### What are the values of the following expressions?\n",
    "### &#39;Hello&#39;.upper()\n",
    "### &#39;Hello&#39;.upper().isupper()\n",
    "### &#39;Hello&#39;.upper().lower()\n",
    "\n"
   ]
  },
  {
   "cell_type": "markdown",
   "id": "cce75d97",
   "metadata": {},
   "source": [
    "- 'Hello'.upper() gives result 'HELLO'.\n",
    "- 'Hello'.upper().isupper() gives result True.\n",
    "- 'Hello'.upper().lower() gives result 'hello'."
   ]
  },
  {
   "cell_type": "markdown",
   "id": "fa7f7964",
   "metadata": {},
   "source": [
    "# Q8. \n",
    "### What are the values of the following expressions?\n",
    "### &#39;Remember, remember, the fifth of July.&#39;.split()\n",
    "### &#39;-&#39;.join(&#39;There can only one.&#39;.split())"
   ]
  },
  {
   "cell_type": "markdown",
   "id": "a7d907c0",
   "metadata": {},
   "source": [
    "- Remember, remember, the fifth of July.'.split() gives result ['Remember,', 'remember,', 'the', 'fifth', 'of', 'July.'].\n",
    "- '-'.join('There can only one.'.split()) gives result 'There-can-only-one.'."
   ]
  },
  {
   "cell_type": "markdown",
   "id": "6a200e5e",
   "metadata": {},
   "source": [
    "# Q9.\n",
    "### What are the methods for right-justifying, left-justifying, and centering a string?"
   ]
  },
  {
   "cell_type": "markdown",
   "id": "ac047c81",
   "metadata": {},
   "source": [
    "### For right-justifying  str.rjust(width, fillchar)\n",
    "- To right justify a string we use the method **str.rjust(width)** here 'width' tells how how we want to adjust the string to right.\n",
    "### For left-justifying\n",
    "- To left justify a string we use the method **str.ljust(width)** here 'width' tells how how we want to adjust the string to left.\n",
    "### For centering a string\n",
    "- To center a string we use the method **str.center(width)** here 'width' tells how how we want to adjust the string to center it.\n",
    "###### Below is the **Example**"
   ]
  },
  {
   "cell_type": "code",
   "execution_count": 12,
   "id": "0ffe8d0a",
   "metadata": {},
   "outputs": [
    {
     "name": "stdout",
     "output_type": "stream",
     "text": [
      "Right-justified:      Hello\n",
      "Left-justified: Hello     \n",
      "Centered:   Hello   \n"
     ]
    }
   ],
   "source": [
    "text = \"Hello\"\n",
    "width = 10\n",
    "\n",
    "right_justified = text.rjust(width)\n",
    "left_justified = text.ljust(width)\n",
    "centered = text.center(width)\n",
    "\n",
    "print(\"Right-justified:\", right_justified)\n",
    "print(\"Left-justified:\", left_justified)\n",
    "print(\"Centered:\", centered)\n"
   ]
  },
  {
   "cell_type": "markdown",
   "id": "b3b2b961",
   "metadata": {},
   "source": [
    "# Q10. \n",
    "### What is the best way to remove whitespace characters from the start or end?"
   ]
  },
  {
   "cell_type": "markdown",
   "id": "c2159a81",
   "metadata": {},
   "source": [
    "#### There are many ways to remove whitespace characters in python.\n",
    "- To remove whitespace characters from the start and end both we can use **.strip()** method.\n",
    "- To remove whitespace characters from the start(left) we can use **.lstrip()** method.\n",
    "- To remove whitespace characters from the end(right) we can use **.rstrip()** method.\n",
    "###### Below is the **Example**"
   ]
  },
  {
   "cell_type": "code",
   "execution_count": 13,
   "id": "f747e72a",
   "metadata": {},
   "outputs": [
    {
     "name": "stdout",
     "output_type": "stream",
     "text": [
      "Hello\n",
      "Hello    \n",
      "   Hello\n"
     ]
    }
   ],
   "source": [
    "text = \"   Hello    \"\n",
    "print(text.strip())\n",
    "print(text.lstrip())\n",
    "print(text.rstrip())"
   ]
  }
 ],
 "metadata": {
  "kernelspec": {
   "display_name": "Python 3 (ipykernel)",
   "language": "python",
   "name": "python3"
  },
  "language_info": {
   "codemirror_mode": {
    "name": "ipython",
    "version": 3
   },
   "file_extension": ".py",
   "mimetype": "text/x-python",
   "name": "python",
   "nbconvert_exporter": "python",
   "pygments_lexer": "ipython3",
   "version": "3.10.9"
  }
 },
 "nbformat": 4,
 "nbformat_minor": 5
}
