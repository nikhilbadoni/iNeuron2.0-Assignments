{
 "cells": [
  {
   "cell_type": "markdown",
   "id": "68aa4cff",
   "metadata": {},
   "source": [
    "# Python Basics | Assignment 8"
   ]
  },
  {
   "cell_type": "markdown",
   "id": "4a74e8e7",
   "metadata": {},
   "source": [
    "# Q1.\n",
    "### Is the Python Standard Library included with PyInputPlus?"
   ]
  },
  {
   "cell_type": "code",
   "execution_count": null,
   "id": "52543592",
   "metadata": {},
   "outputs": [],
   "source": []
  },
  {
   "cell_type": "markdown",
   "id": "a8e3ed59",
   "metadata": {},
   "source": [
    "# Q2.\n",
    "### Why is PyInputPlus commonly imported with import pyinputplus as pypi?"
   ]
  },
  {
   "cell_type": "code",
   "execution_count": null,
   "id": "bad57b8c",
   "metadata": {},
   "outputs": [],
   "source": []
  },
  {
   "cell_type": "markdown",
   "id": "c87e62e3",
   "metadata": {},
   "source": [
    "# Q3.\n",
    "### How do you distinguish between inputInt() and inputFloat()?"
   ]
  },
  {
   "cell_type": "code",
   "execution_count": null,
   "id": "a32051d5",
   "metadata": {},
   "outputs": [],
   "source": []
  },
  {
   "cell_type": "markdown",
   "id": "bf099604",
   "metadata": {},
   "source": [
    "# Q4.\n",
    "### Using PyInputPlus, how do you ensure that the user enters a whole number between 0 and 99?"
   ]
  },
  {
   "cell_type": "code",
   "execution_count": null,
   "id": "d80c5aaf",
   "metadata": {},
   "outputs": [],
   "source": []
  },
  {
   "cell_type": "markdown",
   "id": "7eb6c37f",
   "metadata": {},
   "source": [
    "# Q5.\n",
    "### What is transferred to the keyword arguments allowRegexes and blockRegexes?"
   ]
  },
  {
   "cell_type": "code",
   "execution_count": null,
   "id": "f0688d98",
   "metadata": {},
   "outputs": [],
   "source": []
  },
  {
   "cell_type": "markdown",
   "id": "d5d006bd",
   "metadata": {},
   "source": [
    "# Q6.\n",
    "### If a blank input is entered three times, what does inputStr(limit=3) do?"
   ]
  },
  {
   "cell_type": "code",
   "execution_count": null,
   "id": "986b27e5",
   "metadata": {},
   "outputs": [],
   "source": []
  },
  {
   "cell_type": "markdown",
   "id": "294d08b2",
   "metadata": {},
   "source": [
    "# Q7.\n",
    "### If blank input is entered three times, what does inputStr(limit=3, default=&#39;hello&#39;) do?"
   ]
  },
  {
   "cell_type": "code",
   "execution_count": null,
   "id": "404cddc7",
   "metadata": {},
   "outputs": [],
   "source": []
  }
 ],
 "metadata": {
  "kernelspec": {
   "display_name": "Python 3 (ipykernel)",
   "language": "python",
   "name": "python3"
  },
  "language_info": {
   "codemirror_mode": {
    "name": "ipython",
    "version": 3
   },
   "file_extension": ".py",
   "mimetype": "text/x-python",
   "name": "python",
   "nbconvert_exporter": "python",
   "pygments_lexer": "ipython3",
   "version": "3.10.9"
  }
 },
 "nbformat": 4,
 "nbformat_minor": 5
}
