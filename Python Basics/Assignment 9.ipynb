{
 "cells": [
  {
   "cell_type": "markdown",
   "id": "68aa4cff",
   "metadata": {},
   "source": [
    "# Python Basics | Assignment 9"
   ]
  },
  {
   "cell_type": "markdown",
   "id": "4a74e8e7",
   "metadata": {},
   "source": [
    "# Q1.\n",
    "### To what does a relative path refer?"
   ]
  },
  {
   "cell_type": "markdown",
   "id": "99c8b6cf",
   "metadata": {},
   "source": [
    "A relative path refers to the location of a file or directory relative to the current working directory or another reference point. It specifies the path to a file or directory starting from a specific location within the file system hierarchy."
   ]
  },
  {
   "cell_type": "markdown",
   "id": "a8e3ed59",
   "metadata": {},
   "source": [
    "# Q2.\n",
    "### What does an absolute path start with your operating system?"
   ]
  },
  {
   "cell_type": "markdown",
   "id": "c19a4ee3",
   "metadata": {},
   "source": [
    "An absolute path starts with the root directory. The root directory is the highest level in the file system hierarchy and serves as the starting point for specifying the complete path to a file or directory."
   ]
  },
  {
   "cell_type": "markdown",
   "id": "c87e62e3",
   "metadata": {},
   "source": [
    "# Q3.\n",
    "### What do the functions os.getcwd() and os.chdir() do?"
   ]
  },
  {
   "cell_type": "markdown",
   "id": "d2e12bad",
   "metadata": {},
   "source": [
    "**os.getcwd()**: This function returns the current working directory (CWD) as a string. The current working directory is the directory in which the Python script or the interactive shell is currently executing.\n",
    "\n",
    "**os.chdir(path)**: This function changes the current working directory to the specified path. It takes a string argument path that represents the directory path to which we want to navigate. The os.chdir() function allows to switch between directories within the Python script.\n",
    "###### Below is the **Example**"
   ]
  },
  {
   "cell_type": "code",
   "execution_count": 7,
   "id": "24ffaa6b",
   "metadata": {},
   "outputs": [
    {
     "name": "stdout",
     "output_type": "stream",
     "text": [
      "/Users/nikhilbadoni/Documents/FSDS Assignment/Python Basics\n"
     ]
    }
   ],
   "source": [
    "import os\n",
    "\n",
    "current_directory = os.getcwd()\n",
    "print(current_directory)\n",
    "\n",
    "os.chdir('/Users/nikhilbadoni/Documents/FSDS Assignment/Python Basics')"
   ]
  },
  {
   "cell_type": "markdown",
   "id": "bf099604",
   "metadata": {},
   "source": [
    "# Q4.\n",
    "### What are the . and .. folders?"
   ]
  },
  {
   "cell_type": "markdown",
   "id": "93309199",
   "metadata": {},
   "source": [
    "The . (dot) and .. (dot dot) folders are special directories used for referencing and navigating the file system hierarchy.\n",
    "**.** : The . directory refers to the current directory itself. It is a way to represent the current working directory explicitly\n",
    "**..** : The .. directory refers to the parent directory of the current directory. It allows you to navigate up one level in the directory hierarchy.\n",
    "###### Below is the **Example** "
   ]
  },
  {
   "cell_type": "code",
   "execution_count": 11,
   "id": "d5fb3e77",
   "metadata": {},
   "outputs": [
    {
     "name": "stdout",
     "output_type": "stream",
     "text": [
      "Current Directory: /Users/nikhilbadoni/Documents/FSDS Assignment\n",
      "Parent Directory: /Users/nikhilbadoni/Documents\n"
     ]
    }
   ],
   "source": [
    "import os\n",
    "\n",
    "os.chdir(\".\")\n",
    "current_directory = os.getcwd()\n",
    "print(\"Current Directory:\", current_directory)\n",
    "\n",
    "os.chdir(\"..\")\n",
    "parent_directory = os.getcwd()\n",
    "print(\"Parent Directory:\", parent_directory)"
   ]
  },
  {
   "cell_type": "markdown",
   "id": "7eb6c37f",
   "metadata": {},
   "source": [
    "# Q5.\n",
    "### In C:\\bacon\\eggs\\spam.txt, which part is the dir name, and which part is the base name?"
   ]
  },
  {
   "cell_type": "markdown",
   "id": "f122ec71",
   "metadata": {},
   "source": [
    "In the path **\"C:\\bacon\\eggs\\spam.txt\"**, the directory name and the base name can be identified as follows:\n",
    "\n",
    "**Directory Name: \"C:\\bacon\\eggs\"**\n",
    "The directory name refers to the path of the directory that contains the file.\n",
    "In this case, \"C:\\bacon\\eggs\" is the directory name.\n",
    "\n",
    "**Base Name: \"spam.txt\"**\n",
    "The base name refers to the name of the file itself, without the directory path.\n",
    "In this case, \"spam.txt\" is the base name."
   ]
  },
  {
   "cell_type": "markdown",
   "id": "d5d006bd",
   "metadata": {},
   "source": [
    "# Q6.\n",
    "### What are the three “mode” arguments that can be passed to the open() function?"
   ]
  },
  {
   "cell_type": "markdown",
   "id": "af017580",
   "metadata": {},
   "source": [
    "The **open()** function in Python can take the following three \"mode\" arguments:\n",
    "\n",
    "**Read Mode ('r')**: This is the default mode and is used for reading files. It allows you to open an existing file and read its contents.\n",
    "\n",
    "**Write Mode ('w')**: This mode is used for writing to files. It will create a new file if it doesn't exist, or override the existing file.\n",
    "\n",
    "**Append Mode ('a')**: This mode is used for appending data to an existing file. It will create a new file if it doesn't exist. If the file exists, the new content will be added at the end of the file"
   ]
  },
  {
   "cell_type": "markdown",
   "id": "294d08b2",
   "metadata": {},
   "source": [
    "# Q7.\n",
    "### What happens if an existing file is opened in write mode?"
   ]
  },
  {
   "cell_type": "markdown",
   "id": "ace7f1d9",
   "metadata": {},
   "source": [
    "This mode is used for writing to files. It will create a new file if it doesn't exist, or override the existing file. If the file already exists, the previous content will be discarded. The file is opened with write only access and we can't read the content of the file."
   ]
  },
  {
   "cell_type": "markdown",
   "id": "b2532825",
   "metadata": {},
   "source": [
    "# Q8.\n",
    "### How do you tell the difference between read() and readlines()?"
   ]
  },
  {
   "cell_type": "markdown",
   "id": "c55ce168",
   "metadata": {},
   "source": [
    "The **read()** and **readlines()** methods are used to read data from a file, but they have different ways:\n",
    "\n",
    "**read()**: \n",
    "- The read() method reads the entire contents of a file as a single string or bytes object\n",
    "- It reads from the current position in the file until the end of the file.\n",
    "\n",
    "**readlines()**: \n",
    "- The readlines() method reads the contents of a file line by line and returns a list of strings\n",
    "-  reads from the current position in the file until the end of the file.\n",
    "- Each line in the file is represented as a separate string element in the list"
   ]
  },
  {
   "cell_type": "markdown",
   "id": "c0a7727a",
   "metadata": {},
   "source": [
    "# Q9.\n",
    "### What data structure does a shelf value resemble?"
   ]
  },
  {
   "cell_type": "markdown",
   "id": "9ea3ed4d",
   "metadata": {},
   "source": [
    "The data structure that a shelf value in Python resembles is a **dictionary**.\n"
   ]
  }
 ],
 "metadata": {
  "kernelspec": {
   "display_name": "Python 3 (ipykernel)",
   "language": "python",
   "name": "python3"
  },
  "language_info": {
   "codemirror_mode": {
    "name": "ipython",
    "version": 3
   },
   "file_extension": ".py",
   "mimetype": "text/x-python",
   "name": "python",
   "nbconvert_exporter": "python",
   "pygments_lexer": "ipython3",
   "version": "3.10.9"
  }
 },
 "nbformat": 4,
 "nbformat_minor": 5
}
