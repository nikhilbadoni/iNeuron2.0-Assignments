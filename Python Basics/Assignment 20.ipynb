{
 "cells": [
  {
   "cell_type": "markdown",
   "id": "2941cb3d",
   "metadata": {},
   "source": [
    "# Python Basics | Assignment 20"
   ]
  },
  {
   "cell_type": "markdown",
   "id": "e90176de",
   "metadata": {},
   "source": [
    "# Q1. \n",
    "### Set the variable test1 to the string &#39;This is a test of the emergency text system,&#39; and save test1 to a file named test.txt."
   ]
  },
  {
   "cell_type": "code",
   "execution_count": 1,
   "id": "3555fd64",
   "metadata": {},
   "outputs": [
    {
     "name": "stdout",
     "output_type": "stream",
     "text": [
      "File 'test.txt' created and text saved successfully.\n"
     ]
    }
   ],
   "source": [
    "test1 = 'This is a test of the emergency text system.'\n",
    "filename = 'test.txt'\n",
    "\n",
    "with open(filename, 'w') as file:\n",
    "    file.write(test1)\n",
    "\n",
    "print(\"File 'test.txt' created and text saved successfully.\")\n"
   ]
  },
  {
   "cell_type": "markdown",
   "id": "a4bd1066",
   "metadata": {},
   "source": [
    "# Q2.\n",
    "### Read the contents of the file test.txt into the variable test2. Is there a difference between test 1 and test 2?"
   ]
  },
  {
   "cell_type": "code",
   "execution_count": 2,
   "id": "2d4a1b3b",
   "metadata": {},
   "outputs": [
    {
     "name": "stdout",
     "output_type": "stream",
     "text": [
      "test1 and test2 have the same content.\n"
     ]
    }
   ],
   "source": [
    "filename = 'test.txt'\n",
    "\n",
    "with open(filename, 'r') as file:\n",
    "    test2 = file.read()\n",
    "\n",
    "# Compare test1 and test2\n",
    "if test1 == test2:\n",
    "    print(\"test1 and test2 have the same content.\")\n",
    "else:\n",
    "    print(\"test1 and test2 have different content.\")\n"
   ]
  },
  {
   "cell_type": "markdown",
   "id": "416ce9c2",
   "metadata": {},
   "source": [
    "# Q3.\n",
    "### Create a CSV file called books.csv by using these lines:\n",
    "##### title,author,year\n",
    "##### The Weirdstone of Brisingamen,Alan Garner,1960\n",
    "##### Perdido Street Station,China Miéville,2000\n",
    "##### Thud!,Terry Pratchett,2005\n",
    "##### The Spellman Files,Lisa Lutz,2007\n",
    "##### Small Gods,Terry Pratchett,1992 "
   ]
  },
  {
   "cell_type": "code",
   "execution_count": 4,
   "id": "373549a5",
   "metadata": {},
   "outputs": [
    {
     "name": "stdout",
     "output_type": "stream",
     "text": [
      "CSV file 'books.csv' created successfully.\n"
     ]
    }
   ],
   "source": [
    "import csv\n",
    "\n",
    "data = [\n",
    "    ['title', 'author', 'year'],\n",
    "    ['The Weirdstone of Brisingamen', 'Alan Garner', '1960'],\n",
    "    ['Perdido Street Station', 'China Miéville', '2000'],\n",
    "    ['Thud!', 'Terry Pratchett', '2005'],\n",
    "    ['The Spellman Files', 'Lisa Lutz', '2007'],\n",
    "    ['Small Gods', 'Terry Pratchett', '1992']\n",
    "]\n",
    "\n",
    "filename= 'books.csv'\n",
    "\n",
    "with open(filename, 'w', newline='') as file:\n",
    "    writer= csv.writer(file)\n",
    "    writer.writerows(data)\n",
    "    \n",
    "print(f\"CSV file '{filename}' created successfully.\")"
   ]
  },
  {
   "cell_type": "markdown",
   "id": "c56ec279",
   "metadata": {},
   "source": [
    "# Q4.\n",
    "### Use the sqlite3 module to create a SQLite database called books.db, and a table called books with these fields: title (text), author (text), and year (integer)."
   ]
  },
  {
   "cell_type": "code",
   "execution_count": 5,
   "id": "66c49e66",
   "metadata": {},
   "outputs": [
    {
     "name": "stdout",
     "output_type": "stream",
     "text": [
      "SQLite database 'books.db' and table 'books' created successfully.\n"
     ]
    }
   ],
   "source": [
    "import sqlite3\n",
    "\n",
    "conn = sqlite3.connect('books.db')\n",
    "\n",
    "cursor = conn.cursor()\n",
    "\n",
    "cursor.execute('''\n",
    "    CREATE TABLE books (\n",
    "        title TEXT,\n",
    "        author TEXT,\n",
    "        year INTEGER\n",
    "    )\n",
    "''')\n",
    "\n",
    "conn.commit()\n",
    "conn.close()\n",
    "\n",
    "print(\"SQLite database 'books.db' and table 'books' created successfully.\")\n"
   ]
  },
  {
   "cell_type": "markdown",
   "id": "a4658b1b",
   "metadata": {},
   "source": [
    "# Q5.\n",
    "### Read books.csv and insert its data into the book table."
   ]
  },
  {
   "cell_type": "code",
   "execution_count": 7,
   "id": "fa39088e",
   "metadata": {},
   "outputs": [
    {
     "name": "stdout",
     "output_type": "stream",
     "text": [
      "Data from 'books.csv' inserted into the 'books' table successfully.\n"
     ]
    }
   ],
   "source": [
    "import sqlite3\n",
    "import csv\n",
    "\n",
    "conn= sqlite3.connect('books.db')\n",
    "\n",
    "cursor= conn.cursor()\n",
    "\n",
    "with open('books.csv', 'r') as file:\n",
    "    reader= csv.reader(file)\n",
    "    next(reader) # Skip the header row\n",
    "    for row in reader:\n",
    "        title, author, year= row\n",
    "        cursor.execute('''\n",
    "        INSERT INTO books (title, author, year)\n",
    "        VALUES (?, ?, ?)\n",
    "        ''',(title, author, int(year)))\n",
    "        \n",
    "conn.commit()\n",
    "conn.close()\n",
    "\n",
    "print(\"Data from 'books.csv' inserted into the 'books' table successfully.\")"
   ]
  },
  {
   "cell_type": "markdown",
   "id": "653d6ed5",
   "metadata": {},
   "source": [
    "# Q6.\n",
    "### Select and print the title column from the book table in alphabetical order."
   ]
  },
  {
   "cell_type": "code",
   "execution_count": 8,
   "id": "3444f183",
   "metadata": {},
   "outputs": [
    {
     "name": "stdout",
     "output_type": "stream",
     "text": [
      "Perdido Street Station\n",
      "Small Gods\n",
      "The Spellman Files\n",
      "The Weirdstone of Brisingamen\n",
      "Thud!\n"
     ]
    }
   ],
   "source": [
    "import sqlite3\n",
    "\n",
    "conn= sqlite3.connect('books.db')\n",
    "\n",
    "cursor= conn.cursor()\n",
    "\n",
    "cursor.execute('''\n",
    "SELECT title FROM books\n",
    "ORDER BY title ASC''')\n",
    "\n",
    "rows= cursor.fetchall()\n",
    "\n",
    "for row in rows:\n",
    "    print(row[0])\n",
    "    \n",
    "conn.close()"
   ]
  },
  {
   "cell_type": "markdown",
   "id": "6bd87271",
   "metadata": {},
   "source": [
    "# Q7.\n",
    "### From the book table, select and print all columns in the order of publication."
   ]
  },
  {
   "cell_type": "code",
   "execution_count": 9,
   "id": "24544c0e",
   "metadata": {},
   "outputs": [
    {
     "name": "stdout",
     "output_type": "stream",
     "text": [
      "('The Weirdstone of Brisingamen', 'Alan Garner', 1960)\n",
      "('Small Gods', 'Terry Pratchett', 1992)\n",
      "('Perdido Street Station', 'China Miéville', 2000)\n",
      "('Thud!', 'Terry Pratchett', 2005)\n",
      "('The Spellman Files', 'Lisa Lutz', 2007)\n"
     ]
    }
   ],
   "source": [
    "import sqlite3\n",
    "\n",
    "conn= sqlite3.connect('books.db')\n",
    "\n",
    "cursor= conn.cursor()\n",
    "\n",
    "cursor.execute('''\n",
    "SELECT * FROM books\n",
    "ORDER BY year ASC''')\n",
    "\n",
    "rows= cursor.fetchall()\n",
    "\n",
    "for row in rows:\n",
    "    print(row)\n",
    "    \n",
    "conn.close()"
   ]
  },
  {
   "cell_type": "markdown",
   "id": "e8f0b3c9",
   "metadata": {},
   "source": [
    "# Q8.\n",
    "### Use the sqlalchemy module to connect to the sqlite3 database books.db that you just made in exercise 6."
   ]
  },
  {
   "cell_type": "code",
   "execution_count": 10,
   "id": "d5dad7d1",
   "metadata": {},
   "outputs": [
    {
     "name": "stdout",
     "output_type": "stream",
     "text": [
      "Connected to the SQLite database successfully.\n"
     ]
    }
   ],
   "source": [
    "from sqlalchemy import create_engine\n",
    "\n",
    "engine = create_engine('sqlite:///books.db')\n",
    "\n",
    "conn = engine.connect()\n",
    "\n",
    "print(\"Connected to the SQLite database successfully.\")\n"
   ]
  },
  {
   "cell_type": "markdown",
   "id": "0486ac16",
   "metadata": {},
   "source": [
    "# Q9.\n",
    "### Install the Redis server and the Python redis library (pip install redis) on your computer. Create a Redis hash called test with the fields count (1) and name (&#39;Fester Bestertester&#39;). Print all the fields for test."
   ]
  },
  {
   "cell_type": "code",
   "execution_count": 14,
   "id": "1af66bec",
   "metadata": {},
   "outputs": [
    {
     "name": "stdout",
     "output_type": "stream",
     "text": [
      "count: 1\n",
      "name: Fester Bestertester\n"
     ]
    }
   ],
   "source": [
    "import redis\n",
    "\n",
    "# Connect to the Redis server\n",
    "r = redis.Redis()\n",
    "\n",
    "# Create the Redis hash\n",
    "r.hset(\"test\", \"count\", 1)\n",
    "r.hset(\"test\", \"name\", \"Fester Bestertester\")\n",
    "\n",
    "# Print all the fields for \"test\"\n",
    "fields = r.hgetall(\"test\")\n",
    "for field, value in fields.items():\n",
    "    print(f\"{field.decode()}: {value.decode()}\")\n"
   ]
  },
  {
   "cell_type": "markdown",
   "id": "f4d4683a",
   "metadata": {},
   "source": [
    "# Q10.\n",
    "### Increment the count field of test and print it."
   ]
  },
  {
   "cell_type": "code",
   "execution_count": 15,
   "id": "853c89fa",
   "metadata": {},
   "outputs": [
    {
     "name": "stdout",
     "output_type": "stream",
     "text": [
      "Updated count value: 2\n"
     ]
    }
   ],
   "source": [
    "import redis\n",
    "\n",
    "r= redis.Redis()\n",
    "\n",
    "r.hincrby(\"test\", \"count\", 1)\n",
    "count = r.hget(\"test\", \"count\")\n",
    "\n",
    "print(f\"Updated count value: {count.decode()}\")"
   ]
  },
  {
   "cell_type": "code",
   "execution_count": null,
   "id": "e6d94b81",
   "metadata": {},
   "outputs": [],
   "source": []
  }
 ],
 "metadata": {
  "kernelspec": {
   "display_name": "Python 3 (ipykernel)",
   "language": "python",
   "name": "python3"
  },
  "language_info": {
   "codemirror_mode": {
    "name": "ipython",
    "version": 3
   },
   "file_extension": ".py",
   "mimetype": "text/x-python",
   "name": "python",
   "nbconvert_exporter": "python",
   "pygments_lexer": "ipython3",
   "version": "3.10.9"
  }
 },
 "nbformat": 4,
 "nbformat_minor": 5
}
