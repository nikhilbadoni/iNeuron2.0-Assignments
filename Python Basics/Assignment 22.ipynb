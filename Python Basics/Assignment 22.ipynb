{
 "cells": [
  {
   "cell_type": "markdown",
   "id": "d0ce1f11",
   "metadata": {},
   "source": [
    "# Python Basics | Assignment 22"
   ]
  },
  {
   "cell_type": "markdown",
   "id": "73c23078",
   "metadata": {},
   "source": [
    "# Q1.\n",
    "### What is the result of the code, and explain?\n",
    "### &gt;&gt;&gt; X = &#39;iNeuron&#39;\n",
    "### &gt;&gt;&gt; def func():\n",
    "### print(X)\n",
    "\n",
    "### &gt;&gt;&gt; func()"
   ]
  },
  {
   "cell_type": "code",
   "execution_count": 5,
   "id": "4d6e4b26",
   "metadata": {},
   "outputs": [
    {
     "name": "stdout",
     "output_type": "stream",
     "text": [
      "iNeuron\n"
     ]
    }
   ],
   "source": [
    "X = 'iNeuron'\n",
    "def func():\n",
    "    print(X)\n",
    "func()"
   ]
  },
  {
   "cell_type": "markdown",
   "id": "e49de188",
   "metadata": {},
   "source": [
    "The Output of the program is 'iNeuron' because the variable X which is being called in function **func()** is a grobal Variable. So when we call the function **func()** it will check for variable X in local scope but if it not finds it in local scope it will check for global scope and then it will print **iNeuron** "
   ]
  },
  {
   "cell_type": "markdown",
   "id": "23e8525e",
   "metadata": {},
   "source": [
    "# Q2.\n",
    "### What is the result of the code, and explain?\n",
    "### &gt;&gt;&gt; X = &#39;iNeuron&#39;\n",
    "### &gt;&gt;&gt; def func():\n",
    "### X = &#39;NI!&#39;\n",
    "\n",
    "### &gt;&gt;&gt; func()\n",
    "### &gt;&gt;&gt; print(X)"
   ]
  },
  {
   "cell_type": "code",
   "execution_count": 18,
   "id": "21642634",
   "metadata": {},
   "outputs": [
    {
     "name": "stdout",
     "output_type": "stream",
     "text": [
      "iNeuron\n"
     ]
    }
   ],
   "source": [
    "X = 'iNeuron'\n",
    "def func():\n",
    "    X = 'NI!'\n",
    "func()\n",
    "print(X)"
   ]
  },
  {
   "cell_type": "markdown",
   "id": "783886e0",
   "metadata": {},
   "source": [
    "The local variable X defined within the func() function does not affect the outer variable X. When we print X after calling the func() function, it will output the value assigned outside the function, which is 'iNeuron'. "
   ]
  },
  {
   "cell_type": "markdown",
   "id": "13001f15",
   "metadata": {},
   "source": [
    "# Q3.\n",
    "### What does this code print, and why?\n",
    "### &gt;&gt;&gt; X = &#39;iNeuron&#39;\n",
    "### &gt;&gt;&gt; def func():\n",
    "### X = &#39;NI&#39;\n",
    "### print(X)\n",
    "\n",
    "### &gt;&gt;&gt; func()\n",
    "### &gt;&gt;&gt; print(X)"
   ]
  },
  {
   "cell_type": "code",
   "execution_count": 20,
   "id": "6033dd43",
   "metadata": {},
   "outputs": [
    {
     "name": "stdout",
     "output_type": "stream",
     "text": [
      "NI\n",
      "iNeuron\n"
     ]
    }
   ],
   "source": [
    "X = 'iNeuron'\n",
    "def func():\n",
    "    X = 'NI'\n",
    "    print(X)\n",
    "func()\n",
    "print(X)"
   ]
  },
  {
   "cell_type": "markdown",
   "id": "58fa90ab",
   "metadata": {},
   "source": [
    "The local variable **X** defined within the func() function is separate from the outer variable **X**. When we print **X** inside the func() function, it refers to the local variable. However, when we print **X** outside the func() function, it refers to the outer variable."
   ]
  },
  {
   "cell_type": "markdown",
   "id": "7988c7fa",
   "metadata": {},
   "source": [
    "# Q4.\n",
    "### What output does this code produce? Why?\n",
    "### &gt;&gt;&gt; X = &#39;iNeuron&#39;\n",
    "### &gt;&gt;&gt; def func():\n",
    "### global X\n",
    "### X = &#39;NI&#39;\n",
    "\n",
    "### &gt;&gt;&gt; func()\n",
    "### &gt;&gt;&gt; print(X)"
   ]
  },
  {
   "cell_type": "code",
   "execution_count": 22,
   "id": "a15c7e02",
   "metadata": {},
   "outputs": [
    {
     "name": "stdout",
     "output_type": "stream",
     "text": [
      "NI\n"
     ]
    }
   ],
   "source": [
    "X = 'iNeuron'\n",
    "def func():\n",
    "    global X\n",
    "    X = 'NI'\n",
    "func()\n",
    "print(X)"
   ]
  },
  {
   "cell_type": "markdown",
   "id": "35052752",
   "metadata": {},
   "source": [
    "The **global** keyword within the function, we declare that we want to modify the **global** variable **X**. This allows us to change the value of the outer **X** variable from within the function. "
   ]
  },
  {
   "cell_type": "markdown",
   "id": "6612cd6f",
   "metadata": {},
   "source": [
    "# Q5.\n",
    "### What about this code—what’s the output, and why?\n",
    "### &gt;&gt;&gt; X = &#39;iNeuron&#39;\n",
    "### &gt;&gt;&gt; def func():\n",
    "### X = &#39;NI&#39;\n",
    "### def nested():\n",
    "### print(X)\n",
    "### nested()\n",
    "\n",
    "### &gt;&gt;&gt; func()\n",
    "### &gt;&gt;&gt; X"
   ]
  },
  {
   "cell_type": "code",
   "execution_count": 16,
   "id": "92f22e09",
   "metadata": {},
   "outputs": [
    {
     "name": "stdout",
     "output_type": "stream",
     "text": [
      "iNeuron\n"
     ]
    },
    {
     "data": {
      "text/plain": [
       "'iNeuron'"
      ]
     },
     "execution_count": 16,
     "metadata": {},
     "output_type": "execute_result"
    }
   ],
   "source": [
    ">>> X = 'iNeuron'\n",
    ">>> def func():\n",
    "    X = 'NI'\n",
    "def nested():\n",
    "    print(X)\n",
    "nested()\n",
    ">>> func()\n",
    ">>> X"
   ]
  },
  {
   "cell_type": "markdown",
   "id": "ec9a9448",
   "metadata": {},
   "source": [
    "The local variable X defined within the **func()** function does not affect the outer variable **X**. Therefore, when we print **X** after calling the func() function, it will output the value assigned outside the function, which is **'iNeuron'**."
   ]
  },
  {
   "cell_type": "markdown",
   "id": "19cf78b7",
   "metadata": {},
   "source": [
    "# Q6.\n",
    "### How about this code: what is its output in Python 3, and explain?\n",
    "\n",
    "### &gt;&gt;&gt; def func():\n",
    "### X = &#39;NI&#39;\n",
    "### def nested():\n",
    "### nonlocal X\n",
    "### X = &#39;Spam&#39;\n",
    "### nested()\n",
    "### print(X)\n",
    "\n",
    "### &gt;&gt;&gt; func()"
   ]
  },
  {
   "cell_type": "code",
   "execution_count": 9,
   "id": "11e7479e",
   "metadata": {},
   "outputs": [
    {
     "name": "stdout",
     "output_type": "stream",
     "text": [
      "1 ['x'] {'a': 'y'}\n"
     ]
    }
   ],
   "source": [
    "def func(a, b, c): \n",
    "\n",
    "    a = 2\n",
    "\n",
    "    b[0] = 'x'\n",
    "\n",
    "    c['a'] = 'y'\n",
    "\n",
    "\n",
    "l=1\n",
    "\n",
    "m =[1]\n",
    "\n",
    "n = {'a':0}\n",
    "\n",
    "func(l, m, n)\n",
    "\n",
    "print(l, m, n)"
   ]
  },
  {
   "cell_type": "markdown",
   "id": "766b0a24",
   "metadata": {},
   "source": [
    "The use of the **nonlocal** keyword allows us to modify a variable in the nearest enclosing scope. In this case, it allows us to modify the **X** variable defined in the func() function from within the **nested()** function."
   ]
  }
 ],
 "metadata": {
  "kernelspec": {
   "display_name": "Python 3 (ipykernel)",
   "language": "python",
   "name": "python3"
  },
  "language_info": {
   "codemirror_mode": {
    "name": "ipython",
    "version": 3
   },
   "file_extension": ".py",
   "mimetype": "text/x-python",
   "name": "python",
   "nbconvert_exporter": "python",
   "pygments_lexer": "ipython3",
   "version": "3.10.9"
  }
 },
 "nbformat": 4,
 "nbformat_minor": 5
}
