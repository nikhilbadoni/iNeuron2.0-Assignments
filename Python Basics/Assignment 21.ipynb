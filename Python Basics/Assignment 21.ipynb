{
 "cells": [
  {
   "cell_type": "markdown",
   "id": "d0ce1f11",
   "metadata": {},
   "source": [
    "# Python Basics | Assignment 21"
   ]
  },
  {
   "cell_type": "markdown",
   "id": "73c23078",
   "metadata": {},
   "source": [
    "# Q1.\n",
    "### Add the current date to the text file today.txt as a string."
   ]
  },
  {
   "cell_type": "code",
   "execution_count": 1,
   "id": "4d6e4b26",
   "metadata": {},
   "outputs": [
    {
     "name": "stdout",
     "output_type": "stream",
     "text": [
      "File today.txt created Successfully\n"
     ]
    }
   ],
   "source": [
    "from datetime import date\n",
    "\n",
    "current_date = date.today()\n",
    "\n",
    "date_string = str(current_date)\n",
    "\n",
    "with open(\"today.txt\", \"a\") as file:\n",
    "    file.write(date_string)\n",
    "\n",
    "print(\"File today.txt created Successfully\")"
   ]
  },
  {
   "cell_type": "markdown",
   "id": "23e8525e",
   "metadata": {},
   "source": [
    "# Q2.\n",
    "### Read the text file today.txt into the string today_string"
   ]
  },
  {
   "cell_type": "code",
   "execution_count": 2,
   "id": "21642634",
   "metadata": {},
   "outputs": [
    {
     "name": "stdout",
     "output_type": "stream",
     "text": [
      "2023-07-01\n"
     ]
    }
   ],
   "source": [
    "with open('today.txt', 'r') as file:\n",
    "    today_string= file.read()\n",
    "\n",
    "print(today_string)"
   ]
  },
  {
   "cell_type": "markdown",
   "id": "13001f15",
   "metadata": {},
   "source": [
    "# Q3.\n",
    "### Parse the date from today_string."
   ]
  },
  {
   "cell_type": "code",
   "execution_count": 3,
   "id": "4a7b9951",
   "metadata": {},
   "outputs": [
    {
     "name": "stdout",
     "output_type": "stream",
     "text": [
      "01 July 2023\n"
     ]
    }
   ],
   "source": [
    "from datetime import datetime\n",
    "\n",
    "parsed_date = datetime.strptime(today_string, \"%Y-%m-%d\").strftime(\"%d %B %Y\")\n",
    "\n",
    "print(parsed_date)\n"
   ]
  },
  {
   "cell_type": "markdown",
   "id": "7988c7fa",
   "metadata": {},
   "source": [
    "# Q4.\n",
    "### List the files in your current directory"
   ]
  },
  {
   "cell_type": "code",
   "execution_count": 4,
   "id": "f4c4e87a",
   "metadata": {},
   "outputs": [
    {
     "name": "stdout",
     "output_type": "stream",
     "text": [
      "today.txt\n",
      "books.csv\n",
      "Assignment 20.ipynb\n",
      "test.txt\n",
      ".ipynb_checkpoints\n",
      "Programming_Assignment 1.ipynb\n",
      "books.db\n",
      "Assignment 21.ipynb\n"
     ]
    }
   ],
   "source": [
    "import os\n",
    "\n",
    "current_directory = os.getcwd()\n",
    "\n",
    "files = os.listdir(current_directory)\n",
    "\n",
    "for file in files:\n",
    "    print(file)\n"
   ]
  },
  {
   "cell_type": "markdown",
   "id": "6612cd6f",
   "metadata": {},
   "source": [
    "# Q5.\n",
    "### Create a list of all of the files in your parent directory (minimum five files should be available)."
   ]
  },
  {
   "cell_type": "code",
   "execution_count": 5,
   "id": "92f22e09",
   "metadata": {},
   "outputs": [
    {
     "name": "stdout",
     "output_type": "stream",
     "text": [
      "Python Advanced\n",
      "Python Basics\n",
      "DL Assignment\n",
      "ML Assignment\n",
      ".ipynb_checkpoints\n"
     ]
    }
   ],
   "source": [
    "import os\n",
    "\n",
    "parent_directory = os.path.abspath(os.path.join(os.getcwd(), os.pardir))\n",
    "\n",
    "files = os.listdir(parent_directory)\n",
    "\n",
    "for file in files:\n",
    "    print(file)\n"
   ]
  },
  {
   "cell_type": "markdown",
   "id": "19cf78b7",
   "metadata": {},
   "source": [
    "# Q6.\n",
    "### Use multiprocessing to create three separate processes. Make each one wait a random number of seconds between one and five, print the current time, and then exit."
   ]
  },
  {
   "cell_type": "code",
   "execution_count": 17,
   "id": "076071ff",
   "metadata": {},
   "outputs": [
    {
     "name": "stdout",
     "output_type": "stream",
     "text": [
      "Process MainProcess waited for 3 seconds and printed at 22:01:30\n",
      "Process MainProcess waited for 1 seconds and printed at 22:01:31\n",
      "Process MainProcess waited for 1 seconds and printed at 22:01:32\n"
     ]
    }
   ],
   "source": [
    "import multiprocessing\n",
    "import random\n",
    "import time\n",
    "from datetime import datetime\n",
    "\n",
    "def wait_and_print():\n",
    "    wait_time = random.randint(1, 5)\n",
    "    time.sleep(wait_time)\n",
    "    current_time = datetime.now().strftime(\"%H:%M:%S\")\n",
    "    print(f\"Process {multiprocessing.current_process().name} waited for {wait_time} seconds and printed at {current_time}\")\n",
    "\n",
    "if __name__ == '__main__':\n",
    "    processes = []\n",
    "    for i in range(3):\n",
    "        p = multiprocessing.Process(target=wait_and_print(), name=f\"Process-{i+1}\")\n",
    "        processes.append(p)\n",
    "        p.start()\n",
    "\n",
    "    for p in processes:\n",
    "        p.join()"
   ]
  },
  {
   "cell_type": "markdown",
   "id": "dae88e1f",
   "metadata": {},
   "source": [
    "# Q7.\n",
    "### Create a date object of your day of birth."
   ]
  },
  {
   "cell_type": "code",
   "execution_count": 7,
   "id": "211c34f8",
   "metadata": {},
   "outputs": [
    {
     "name": "stdout",
     "output_type": "stream",
     "text": [
      "2001-09-06\n"
     ]
    }
   ],
   "source": [
    "from datetime import date\n",
    "\n",
    "birth_date = date(2001, 9, 6)  \n",
    "\n",
    "print(birth_date)\n"
   ]
  },
  {
   "cell_type": "markdown",
   "id": "059bcbcc",
   "metadata": {},
   "source": [
    "# Q8.\n",
    "### What day of the week was your day of birth?"
   ]
  },
  {
   "cell_type": "code",
   "execution_count": 16,
   "id": "27207f99",
   "metadata": {},
   "outputs": [
    {
     "name": "stdout",
     "output_type": "stream",
     "text": [
      "Thursday\n"
     ]
    }
   ],
   "source": [
    "from datetime import date\n",
    "\n",
    "birth_date = date(2001, 9, 6) \n",
    "day_of_week = birth_date.strftime(\"%A\")\n",
    "print(day_of_week)"
   ]
  },
  {
   "cell_type": "markdown",
   "id": "e8b4f1af",
   "metadata": {},
   "source": [
    "# Q9.\n",
    "### When will you be (or when were you) 10,000 days old?"
   ]
  },
  {
   "cell_type": "code",
   "execution_count": 15,
   "id": "e3333d82",
   "metadata": {},
   "outputs": [
    {
     "name": "stdout",
     "output_type": "stream",
     "text": [
      "You will be 10,000 days old on 2029-01-22\n"
     ]
    }
   ],
   "source": [
    "import datetime\n",
    "\n",
    "birth_date = date(2001, 9, 6) \n",
    "ten_thousand_days = datetime.timedelta(days=10000)\n",
    "ten_thousand_days_old_date = birth_date + ten_thousand_days\n",
    "\n",
    "print(f\"You will be 10,000 days old on {ten_thousand_days_old_date}\")"
   ]
  }
 ],
 "metadata": {
  "kernelspec": {
   "display_name": "Python 3 (ipykernel)",
   "language": "python",
   "name": "python3"
  },
  "language_info": {
   "codemirror_mode": {
    "name": "ipython",
    "version": 3
   },
   "file_extension": ".py",
   "mimetype": "text/x-python",
   "name": "python",
   "nbconvert_exporter": "python",
   "pygments_lexer": "ipython3",
   "version": "3.10.9"
  }
 },
 "nbformat": 4,
 "nbformat_minor": 5
}
