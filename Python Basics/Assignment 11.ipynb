{
 "cells": [
  {
   "cell_type": "markdown",
   "id": "68aa4cff",
   "metadata": {},
   "source": [
    "# Python Basics | Assignment 11"
   ]
  },
  {
   "cell_type": "markdown",
   "id": "4a74e8e7",
   "metadata": {},
   "source": [
    "# Q1.\n",
    "### Create an assert statement that throws an AssertionError if the variable spam is a negative integer."
   ]
  },
  {
   "cell_type": "code",
   "execution_count": 5,
   "id": "52543592",
   "metadata": {},
   "outputs": [
    {
     "name": "stdout",
     "output_type": "stream",
     "text": [
      "Enter value:-1\n"
     ]
    },
    {
     "ename": "AssertionError",
     "evalue": "spam should be a non-negative integer",
     "output_type": "error",
     "traceback": [
      "\u001b[0;31m---------------------------------------------------------------------------\u001b[0m",
      "\u001b[0;31mAssertionError\u001b[0m                            Traceback (most recent call last)",
      "Cell \u001b[0;32mIn[5], line 2\u001b[0m\n\u001b[1;32m      1\u001b[0m spam\u001b[38;5;241m=\u001b[39m \u001b[38;5;28mint\u001b[39m(\u001b[38;5;28minput\u001b[39m(\u001b[38;5;124m\"\u001b[39m\u001b[38;5;124mEnter value:\u001b[39m\u001b[38;5;124m\"\u001b[39m))\n\u001b[0;32m----> 2\u001b[0m \u001b[38;5;28;01massert\u001b[39;00m spam \u001b[38;5;241m>\u001b[39m\u001b[38;5;241m=\u001b[39m \u001b[38;5;241m0\u001b[39m, \u001b[38;5;124m\"\u001b[39m\u001b[38;5;124mspam should be a non-negative integer\u001b[39m\u001b[38;5;124m\"\u001b[39m\n",
      "\u001b[0;31mAssertionError\u001b[0m: spam should be a non-negative integer"
     ]
    }
   ],
   "source": [
    "spam= int(input(\"Enter value:\"))\n",
    "assert spam >= 0, \"spam should be a non-negative integer\"\n"
   ]
  },
  {
   "cell_type": "markdown",
   "id": "a8e3ed59",
   "metadata": {},
   "source": [
    "# Q2.\n",
    "### Write an assert statement that triggers an AssertionError if the variables eggs and bacon contain strings that are the same as each other, even if their cases are different (that is, &#39;hello&#39; and &#39;hello&#39; are considered the same, and &#39;goodbye&#39; and &#39;GOODbye&#39; are also considered the same)."
   ]
  },
  {
   "cell_type": "code",
   "execution_count": 6,
   "id": "bad57b8c",
   "metadata": {},
   "outputs": [
    {
     "ename": "AssertionError",
     "evalue": "eggs and bacon should not have the same value",
     "output_type": "error",
     "traceback": [
      "\u001b[0;31m---------------------------------------------------------------------------\u001b[0m",
      "\u001b[0;31mAssertionError\u001b[0m                            Traceback (most recent call last)",
      "Cell \u001b[0;32mIn[6], line 3\u001b[0m\n\u001b[1;32m      1\u001b[0m eggs \u001b[38;5;241m=\u001b[39m \u001b[38;5;124m\"\u001b[39m\u001b[38;5;124mHello\u001b[39m\u001b[38;5;124m\"\u001b[39m\n\u001b[1;32m      2\u001b[0m bacon \u001b[38;5;241m=\u001b[39m \u001b[38;5;124m\"\u001b[39m\u001b[38;5;124mHello\u001b[39m\u001b[38;5;124m\"\u001b[39m\n\u001b[0;32m----> 3\u001b[0m \u001b[38;5;28;01massert\u001b[39;00m eggs\u001b[38;5;241m.\u001b[39mlower() \u001b[38;5;241m!=\u001b[39m bacon\u001b[38;5;241m.\u001b[39mlower(), \u001b[38;5;124m\"\u001b[39m\u001b[38;5;124meggs and bacon should not have the same value\u001b[39m\u001b[38;5;124m\"\u001b[39m\n",
      "\u001b[0;31mAssertionError\u001b[0m: eggs and bacon should not have the same value"
     ]
    }
   ],
   "source": [
    "eggs = \"Hello\"\n",
    "bacon = \"Hello\"\n",
    "assert eggs.lower() != bacon.lower(), \"eggs and bacon should not have the same value\"\n"
   ]
  },
  {
   "cell_type": "markdown",
   "id": "c87e62e3",
   "metadata": {},
   "source": [
    "# Q3.\n",
    "### Create an assert statement that throws an AssertionError every time."
   ]
  },
  {
   "cell_type": "code",
   "execution_count": 7,
   "id": "a32051d5",
   "metadata": {},
   "outputs": [
    {
     "ename": "AssertionError",
     "evalue": "This assert statement always triggers an AssertionError",
     "output_type": "error",
     "traceback": [
      "\u001b[0;31m---------------------------------------------------------------------------\u001b[0m",
      "\u001b[0;31mAssertionError\u001b[0m                            Traceback (most recent call last)",
      "Cell \u001b[0;32mIn[7], line 1\u001b[0m\n\u001b[0;32m----> 1\u001b[0m \u001b[38;5;28;01massert\u001b[39;00m \u001b[38;5;28;01mFalse\u001b[39;00m, \u001b[38;5;124m\"\u001b[39m\u001b[38;5;124mThis assert statement always triggers an AssertionError\u001b[39m\u001b[38;5;124m\"\u001b[39m\n",
      "\u001b[0;31mAssertionError\u001b[0m: This assert statement always triggers an AssertionError"
     ]
    }
   ],
   "source": [
    "assert False, \"This assert statement always triggers an AssertionError\"\n"
   ]
  },
  {
   "cell_type": "markdown",
   "id": "bf099604",
   "metadata": {},
   "source": [
    "# Q4.\n",
    "### What are the two lines that must be present in your software in order to call logging.debug()?"
   ]
  },
  {
   "cell_type": "markdown",
   "id": "550bb04c",
   "metadata": {},
   "source": [
    "To use the **logging.debug()** function in your software, we need to include two lines: one to import the logging module and another to configure the logging settings appropriately.\n",
    "###### Below is the **Example**"
   ]
  },
  {
   "cell_type": "code",
   "execution_count": 8,
   "id": "bafdc109",
   "metadata": {},
   "outputs": [],
   "source": [
    "import logging\n",
    "logging.basicConfig(level=logging.DEBUG)"
   ]
  },
  {
   "cell_type": "markdown",
   "id": "7eb6c37f",
   "metadata": {},
   "source": [
    "# Q5.\n",
    "### What are the two lines that your program must have in order to have logging.debug() send a logging message to a file named programLog.txt?"
   ]
  },
  {
   "cell_type": "markdown",
   "id": "56425d4f",
   "metadata": {},
   "source": [
    "To configure logging.debug() to send logging messages to a file named \"programLog.txt\", we need to include two lines in the program."
   ]
  },
  {
   "cell_type": "markdown",
   "id": "d5d006bd",
   "metadata": {},
   "source": [
    "# Q6.\n",
    "### What are the five levels of logging?"
   ]
  },
  {
   "cell_type": "markdown",
   "id": "9bc7387a",
   "metadata": {},
   "source": [
    "The five levels of logging, in increasing order of severity, are:\n",
    "\n",
    "**DEBUG**: This level is used for detailed diagnostic information useful during development and debugging processes.\n",
    "\n",
    "**INFO**: The INFO level is used to confirm that things are functioning as expected. It provides high-level information about the program's execution.\n",
    "\n",
    "**WARNING**: The WARNING level indicates potential issues or unexpected situations that are not critical but could lead to problems in the future.\n",
    "\n",
    "**ERROR**: This level represents errors that occur during the execution of the program. Errors indicate more severe problems that prevent normal execution or result in incorrect behavior. \n",
    "\n",
    "**CRITICAL**: The CRITICAL level represents the most severe level of logging. It indicates critical errors or failures that may result in the termination of the program or a significant failure of a system or application"
   ]
  },
  {
   "cell_type": "markdown",
   "id": "294d08b2",
   "metadata": {},
   "source": [
    "# Q7.\n",
    "### What line of code would you add to your software to disable all logging messages?"
   ]
  },
  {
   "cell_type": "markdown",
   "id": "75aa5161",
   "metadata": {},
   "source": [
    "To disable all logging messages in your software, we can add the following line of code.\n",
    "By calling logging.disable() and passing **logging.CRITICAL** as the argument, you instruct the logging system to disable all logging messages below the critical level.\n",
    "###### Below is the Example"
   ]
  },
  {
   "cell_type": "code",
   "execution_count": 9,
   "id": "e0b325c0",
   "metadata": {},
   "outputs": [],
   "source": [
    "import logging\n",
    "logging.disable(logging.CRITICAL)"
   ]
  },
  {
   "cell_type": "markdown",
   "id": "b2532825",
   "metadata": {},
   "source": [
    "# Q8.\n",
    "### Why is using logging messages better than using print() to display the same message?"
   ]
  },
  {
   "cell_type": "markdown",
   "id": "15f28454",
   "metadata": {},
   "source": [
    "Using logging messages is better than using print() for several reasons:\n",
    "\n",
    "- Flexibility and configurability\n",
    "- Granular control \n",
    "- Centralized logging\n",
    "- Runtime configurability\n",
    "- Performance optimization"
   ]
  },
  {
   "cell_type": "markdown",
   "id": "c0a7727a",
   "metadata": {},
   "source": [
    "# Q9.\n",
    "### What are the differences between the Step Over, Step In, and Step Out buttons in the debugger?"
   ]
  },
  {
   "cell_type": "markdown",
   "id": "5754d50c",
   "metadata": {},
   "source": [
    "The Step Over, Step In, and Step Out buttons are commonly found in debuggers and are used for controlling the execution flow during debugging.\n",
    "\n",
    "**Step Over**: The Step Over button allows us to execute the current line of code and move to the next line in the same scope.\n",
    "\n",
    "**Step In**: The Step In button is used to step into a function call. When we encounter a function call on the current line, clicking Step In move the debugger to the first line inside the called function.\n",
    "\n",
    "**Step Out**: The Step Out button is used to quickly execute the remaining lines of the current function and return to the calling function"
   ]
  },
  {
   "cell_type": "markdown",
   "id": "6034b6f1",
   "metadata": {},
   "source": [
    "# Q10.\n",
    "### After you click Continue, when will the debugger stop ?"
   ]
  },
  {
   "cell_type": "markdown",
   "id": "76c148ae",
   "metadata": {},
   "source": [
    "After clicking the \"Continue\" button in the debugger, the debugger continue executing the code without interruption until it encounters a breakpoint, an exception/error occurs, or the program's execution completes."
   ]
  },
  {
   "cell_type": "markdown",
   "id": "7cc37693",
   "metadata": {},
   "source": [
    "# Q11.\n",
    "### What is the concept of a breakpoint?"
   ]
  },
  {
   "cell_type": "markdown",
   "id": "79d3bab9",
   "metadata": {},
   "source": [
    "The concept of a breakpoint is a fundamental feature in debugging that allows us to pause the execution of a program at a specific line or condition during runtime. A breakpoint serves as a deliberate interruption point."
   ]
  }
 ],
 "metadata": {
  "kernelspec": {
   "display_name": "Python 3 (ipykernel)",
   "language": "python",
   "name": "python3"
  },
  "language_info": {
   "codemirror_mode": {
    "name": "ipython",
    "version": 3
   },
   "file_extension": ".py",
   "mimetype": "text/x-python",
   "name": "python",
   "nbconvert_exporter": "python",
   "pygments_lexer": "ipython3",
   "version": "3.10.9"
  }
 },
 "nbformat": 4,
 "nbformat_minor": 5
}
