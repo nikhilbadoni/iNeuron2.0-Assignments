{
 "cells": [
  {
   "cell_type": "markdown",
   "id": "68aa4cff",
   "metadata": {},
   "source": [
    "# Python Basics | Assignment 10"
   ]
  },
  {
   "cell_type": "markdown",
   "id": "4a74e8e7",
   "metadata": {},
   "source": [
    "# Q1.\n",
    "### How do you distinguish between shutil.copy() and shutil.copytree()?"
   ]
  },
  {
   "cell_type": "markdown",
   "id": "958004b2",
   "metadata": {},
   "source": [
    "**shutil.copy(src, dst)**: This function is used to copy a single file from the source (src) to the destination (dst) location. It takes two parameters:\n",
    "- src: The path to the source file you want to copy.\n",
    "- dst: The destination path where you want to place the copied file.\n",
    "\n",
    "**shutil.copytree(src, dst)**: This function is used to recursively copy an entire directory tree from the source (src) to the destination (dst) location. It takes two parameters:\n",
    "- src: The path to the source directory you want to copy.\n",
    "- dst: The destination path where you want to place the copied directory."
   ]
  },
  {
   "cell_type": "markdown",
   "id": "a8e3ed59",
   "metadata": {},
   "source": [
    "# Q2.\n",
    "### What function is used to rename files?"
   ]
  },
  {
   "cell_type": "markdown",
   "id": "73a9adb0",
   "metadata": {},
   "source": [
    "The **shutil.move()** function is commonly used to rename files in Python. It is part of the shutil module.\n",
    "The shutil.move() function takes two parameters: the source path of the file you want to rename (path/to/old/file.txt) and the destination path with the new name (path/to/new/file.txt)"
   ]
  },
  {
   "cell_type": "markdown",
   "id": "c87e62e3",
   "metadata": {},
   "source": [
    "# Q3.\n",
    "### What is the difference between the delete functions in the send2trash and shutil modules?"
   ]
  },
  {
   "cell_type": "markdown",
   "id": "ef2e19c8",
   "metadata": {},
   "source": [
    "**send2trash module**:\n",
    "The send2trash module provides a send2trash() function that sends files or directories to the operating system's trash or recycle bin instead of permanently deleting them.\n",
    "\n",
    "**shutil module**:\n",
    "The shutil module also provides a function called shutil.rmtree() that is commonly used to delete directories and their contents recursively. This function permanently deletes files and directories"
   ]
  },
  {
   "cell_type": "markdown",
   "id": "bf099604",
   "metadata": {},
   "source": [
    "# Q4.\n",
    "### ZipFile objects have a close() method just like File objects’ close() method. What ZipFile method is equivalent to File objects’ open() method?"
   ]
  },
  {
   "cell_type": "markdown",
   "id": "f24a6518",
   "metadata": {},
   "source": [
    "The equivalent method in ZipFile objects to the open() method in File objects is the **ZipFile.open() method**.\n",
    "\n",
    "The open() method in File objects is used to open a file in a specific mode (r, w, a, etc.) for reading or writing data. The open() method in ZipFile objects is used to open a file inside a ZIP archive for reading or writing."
   ]
  },
  {
   "cell_type": "markdown",
   "id": "7eb6c37f",
   "metadata": {},
   "source": [
    "# Q5.\n",
    "### Create a programme that searches a folder tree for files with a certain file extension (such as .pdf or .jpg). Copy these files from whatever location they are in to a new folder."
   ]
  },
  {
   "cell_type": "code",
   "execution_count": 4,
   "id": "f0688d98",
   "metadata": {},
   "outputs": [],
   "source": [
    "import os\n",
    "import shutil\n",
    "\n",
    "def search_and_copy_files(source_folder, destination_folder, extension):\n",
    "    for root, dirs, files in os.walk(source_folder):\n",
    "        for file in files:\n",
    "            if file.endswith(extension):\n",
    "                source_path = os.path.join(root, file)\n",
    "                destination_path = os.path.join(destination_folder, file)\n",
    "                shutil.copy2(source_path, destination_path)\n",
    "                print(f\"Copied {file} to {destination_path}\")\n",
    "\n",
    "# Example usage\n",
    "source_folder = 'Documents/FSDS Assignment/Python Basics'\n",
    "destination_folder = 'Documents/FSDS Assignment/Python Basics/TestFolder'\n",
    "extension = '.txt'\n",
    "\n",
    "search_and_copy_files(source_folder, destination_folder, extension)\n"
   ]
  }
 ],
 "metadata": {
  "kernelspec": {
   "display_name": "Python 3 (ipykernel)",
   "language": "python",
   "name": "python3"
  },
  "language_info": {
   "codemirror_mode": {
    "name": "ipython",
    "version": 3
   },
   "file_extension": ".py",
   "mimetype": "text/x-python",
   "name": "python",
   "nbconvert_exporter": "python",
   "pygments_lexer": "ipython3",
   "version": "3.10.9"
  }
 },
 "nbformat": 4,
 "nbformat_minor": 5
}
