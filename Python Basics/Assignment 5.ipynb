{
 "cells": [
  {
   "cell_type": "markdown",
   "id": "a2641968",
   "metadata": {},
   "source": [
    "# Python Basics | Assignment 5"
   ]
  },
  {
   "cell_type": "markdown",
   "id": "7d0bc14b",
   "metadata": {},
   "source": [
    "# Q1.\n",
    "### What does an empty dictionary&#39;s code look like?"
   ]
  },
  {
   "cell_type": "markdown",
   "id": "d2decf38",
   "metadata": {},
   "source": [
    "An empty dictionary can be represented by a pair of curly braces with no key-value pairs inside\n",
    "###### Below is the **Example**\n"
   ]
  },
  {
   "cell_type": "code",
   "execution_count": 6,
   "id": "ee13ca42",
   "metadata": {},
   "outputs": [],
   "source": [
    "my_dict = {}"
   ]
  },
  {
   "cell_type": "markdown",
   "id": "6221ebff",
   "metadata": {},
   "source": [
    "# Q2.\n",
    "### What is the value of a dictionary value with the key &#39;foo&#39; and the value 42?"
   ]
  },
  {
   "cell_type": "markdown",
   "id": "14041029",
   "metadata": {},
   "source": [
    "The value of the dictionary with the key 'foo' and the value 42 would be 42.\n",
    "###### Below is the **Example**"
   ]
  },
  {
   "cell_type": "code",
   "execution_count": 7,
   "id": "1f1e9b55",
   "metadata": {},
   "outputs": [
    {
     "name": "stdout",
     "output_type": "stream",
     "text": [
      "42\n"
     ]
    }
   ],
   "source": [
    "my_dict = {'foo': 42}\n",
    "value = my_dict['foo']\n",
    "print(value)\n"
   ]
  },
  {
   "cell_type": "markdown",
   "id": "7131444b",
   "metadata": {},
   "source": [
    "# Q3.\n",
    "### What is the most significant distinction between a dictionary and a list?"
   ]
  },
  {
   "cell_type": "markdown",
   "id": "66f16f93",
   "metadata": {},
   "source": [
    "There are many distinction between a dictionary and a list but the most significant difference his how they store and access data.\n",
    "In dictionary the data is stored in a key-value pair and list stores the data in ordered manner.\n",
    "Dictionary is unordered while List is ordered. \n",
    "###### Below is the **Example**"
   ]
  },
  {
   "cell_type": "code",
   "execution_count": 3,
   "id": "b6864537",
   "metadata": {},
   "outputs": [
    {
     "name": "stdout",
     "output_type": "stream",
     "text": [
      "John\n",
      "3.8\n",
      "apple\n",
      "orange\n"
     ]
    }
   ],
   "source": [
    "# Dictionary example\n",
    "student = {\n",
    "    'name': 'John',\n",
    "    'age': 20,\n",
    "    'major': 'Computer Science',\n",
    "    'gpa': 3.8\n",
    "}\n",
    "\n",
    "print(student['name'])  \n",
    "print(student['gpa'])   \n",
    "\n",
    "# List example\n",
    "fruits = ['apple', 'banana', 'orange', 'apple']\n",
    "\n",
    "print(fruits[0])    \n",
    "print(fruits[2])    \n",
    "\n"
   ]
  },
  {
   "cell_type": "markdown",
   "id": "bbc27a77",
   "metadata": {},
   "source": [
    "# Q4.\n",
    "### What happens if you try to access spam[&#39;foo&#39;] if spam is {&#39;bar&#39;: 100}?"
   ]
  },
  {
   "cell_type": "markdown",
   "id": "5390fdad",
   "metadata": {},
   "source": [
    "If we try to access spam['foo'] when spam is {'bar': 100}, we encounter a KeyError. This error occurs because the dictionary spam does not have a key named 'foo'.\n",
    "###### Below is the **Example**"
   ]
  },
  {
   "cell_type": "code",
   "execution_count": 4,
   "id": "ecb11c42",
   "metadata": {},
   "outputs": [
    {
     "ename": "KeyError",
     "evalue": "'foo'",
     "output_type": "error",
     "traceback": [
      "\u001b[0;31m---------------------------------------------------------------------------\u001b[0m",
      "\u001b[0;31mKeyError\u001b[0m                                  Traceback (most recent call last)",
      "Cell \u001b[0;32mIn[4], line 2\u001b[0m\n\u001b[1;32m      1\u001b[0m spam \u001b[38;5;241m=\u001b[39m {\u001b[38;5;124m'\u001b[39m\u001b[38;5;124mbar\u001b[39m\u001b[38;5;124m'\u001b[39m: \u001b[38;5;241m100\u001b[39m}\n\u001b[0;32m----> 2\u001b[0m value \u001b[38;5;241m=\u001b[39m \u001b[43mspam\u001b[49m\u001b[43m[\u001b[49m\u001b[38;5;124;43m'\u001b[39;49m\u001b[38;5;124;43mfoo\u001b[39;49m\u001b[38;5;124;43m'\u001b[39;49m\u001b[43m]\u001b[49m\n",
      "\u001b[0;31mKeyError\u001b[0m: 'foo'"
     ]
    }
   ],
   "source": [
    "spam = {'bar': 100}\n",
    "value = spam['foo']\n"
   ]
  },
  {
   "cell_type": "markdown",
   "id": "ca5b6265",
   "metadata": {},
   "source": [
    "# Q5.\n",
    "### If a dictionary is stored in spam, what is the difference between the expressions &#39;cat&#39; in spam and &#39;cat&#39; in spam.keys()?"
   ]
  },
  {
   "cell_type": "markdown",
   "id": "5cb7f370",
   "metadata": {},
   "source": [
    "The expressions 'cat' in spam and 'cat' in spam.keys() have the same result but differ in their implementation and efficiency.\n",
    "'cat' in spam is faster because it directly checks the existence of the key within the dictionary's internal data structure. 'cat' in spam.keys() involves additional step of creating an intermediate list-like object and iterating over it to perform the membership check.\n",
    "###### Below is the **Example**"
   ]
  },
  {
   "cell_type": "code",
   "execution_count": 5,
   "id": "2f8d0715",
   "metadata": {},
   "outputs": [
    {
     "name": "stdout",
     "output_type": "stream",
     "text": [
      "Execution time for 'cat' in spam: 0.042520708055235445\n",
      "Execution time for 'cat' in spam.keys(): 0.04647874995134771\n"
     ]
    }
   ],
   "source": [
    "import timeit\n",
    "\n",
    "spam = {'cat': 'meow', 'dog': 'woof', 'bird': 'tweet'}\n",
    "\n",
    "# Measure execution time of 'cat' in spam\n",
    "time_taken = timeit.timeit(\"'cat' in spam\", globals=globals(), number=1000000)\n",
    "print(\"Execution time for 'cat' in spam:\", time_taken)\n",
    "\n",
    "# Measure execution time of 'cat' in spam.keys()\n",
    "time_taken = timeit.timeit(\"'cat' in spam.keys()\", globals=globals(), number=1000000)\n",
    "print(\"Execution time for 'cat' in spam.keys():\", time_taken)\n"
   ]
  },
  {
   "cell_type": "markdown",
   "id": "77d6532c",
   "metadata": {},
   "source": [
    "# Q6.\n",
    "### If a dictionary is stored in spam, what is the difference between the expressions &#39;cat&#39; in spam and &#39;cat&#39; in spam.values()?"
   ]
  },
  {
   "cell_type": "markdown",
   "id": "efb10290",
   "metadata": {},
   "source": [
    "The expressions 'cat' in spam and 'cat' in spam.values() have different meanings and behaviors when used with a dictionary. 'cat' in spam checks if the  key 'cat'present within the dictionary, while 'cat' in spam.values() checks if the value 'cat' present within the dictionary's values.\n",
    "###### Below is the **Example**"
   ]
  },
  {
   "cell_type": "code",
   "execution_count": 8,
   "id": "6b988116",
   "metadata": {},
   "outputs": [
    {
     "name": "stdout",
     "output_type": "stream",
     "text": [
      "False\n",
      "True\n"
     ]
    }
   ],
   "source": [
    "spam = {'animal': 'cat', 'sound': 'meow'}\n",
    "\n",
    "print('cat' in spam)  \n",
    "\n",
    "print('cat' in spam.values())  \n"
   ]
  },
  {
   "cell_type": "markdown",
   "id": "eff0ac7e",
   "metadata": {},
   "source": [
    "# Q7.\n",
    "### What is a shortcut for the following code? \n",
    "### if &#39;color&#39; not in spam:\n",
    "### spam[&#39;color&#39;] = &#39;black&#39;\n"
   ]
  },
  {
   "cell_type": "markdown",
   "id": "c4de43c6",
   "metadata": {},
   "source": [
    " The shortcut for the given code is to use the **dict.setdefault()** method. This method provides a concise way to set a default value for a key in a dictionary if the key does not already exist. It only works if the key is not present.\n",
    " ###### Below is the **Example**"
   ]
  },
  {
   "cell_type": "code",
   "execution_count": 10,
   "id": "8ee8300a",
   "metadata": {},
   "outputs": [
    {
     "name": "stdout",
     "output_type": "stream",
     "text": [
      "{'name': 'Nik', 'age': 25, 'color': 'black'}\n",
      "{'name': 'Nik', 'age': 25, 'color': 'black'}\n"
     ]
    }
   ],
   "source": [
    "spam = {'name': 'Nik', 'age': 25}\n",
    "\n",
    "spam.setdefault('color', 'black')  \n",
    "\n",
    "print(spam)  \n",
    "\n",
    "spam.setdefault('age', 30)\n",
    "\n",
    "print(spam) "
   ]
  },
  {
   "cell_type": "markdown",
   "id": "fa7f7964",
   "metadata": {},
   "source": [
    "# Q8. \n",
    "### How do you &quot;pretty print&quot; dictionary values using which module and function?"
   ]
  },
  {
   "cell_type": "markdown",
   "id": "b5656e17",
   "metadata": {},
   "source": [
    "We can use the **pprint** module in Python. The **pprint** module provides the **pprint()** function, which formats the output in a better manner. It is good for complex data structures like dictionaries to print data using this module. \n",
    "###### Below is the **Example**"
   ]
  },
  {
   "cell_type": "code",
   "execution_count": 13,
   "id": "23974482",
   "metadata": {},
   "outputs": [
    {
     "name": "stdout",
     "output_type": "stream",
     "text": [
      "Printing without using pprint:\n",
      "{'name': 'Niko', 'age': 25, 'occupation': 'ML Engineer', 'city': 'Gurugram', 'projects': ['Project A', 'Project B', 'Project C'], 'skills': {'programming': ['Python', 'Java', 'C++'], 'data analysis': ['SQL', 'R']}}\n",
      "\n",
      "Printing with pprint:\n",
      "{'age': 25,\n",
      " 'city': 'Gurugram',\n",
      " 'name': 'Niko',\n",
      " 'occupation': 'ML Engineer',\n",
      " 'projects': ['Project A', 'Project B', 'Project C'],\n",
      " 'skills': {'data analysis': ['SQL', 'R'],\n",
      "            'programming': ['Python', 'Java', 'C++']}}\n"
     ]
    }
   ],
   "source": [
    "my_dict = {\n",
    "    'name': 'Niko',\n",
    "    'age': 25,\n",
    "    'occupation': 'ML Engineer',\n",
    "    'city': 'Gurugram',\n",
    "    'projects': ['Project A', 'Project B', 'Project C'],\n",
    "    'skills': {'programming': ['Python', 'Java', 'C++'], 'data analysis': ['SQL', 'R']}\n",
    "}\n",
    "\n",
    "# Without using pprint\n",
    "print(\"Printing without using pprint:\")\n",
    "print(my_dict)\n",
    "\n",
    "# Using pprint\n",
    "import pprint\n",
    "print(\"\\nPrinting with pprint:\")\n",
    "pprint.pprint(my_dict)\n"
   ]
  }
 ],
 "metadata": {
  "kernelspec": {
   "display_name": "Python 3 (ipykernel)",
   "language": "python",
   "name": "python3"
  },
  "language_info": {
   "codemirror_mode": {
    "name": "ipython",
    "version": 3
   },
   "file_extension": ".py",
   "mimetype": "text/x-python",
   "name": "python",
   "nbconvert_exporter": "python",
   "pygments_lexer": "ipython3",
   "version": "3.10.9"
  }
 },
 "nbformat": 4,
 "nbformat_minor": 5
}
