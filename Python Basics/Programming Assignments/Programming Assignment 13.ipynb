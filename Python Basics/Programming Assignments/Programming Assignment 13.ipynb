{
 "cells": [
  {
   "cell_type": "markdown",
   "id": "68aa4cff",
   "metadata": {},
   "source": [
    "# Python Basics | Programming_Assignment 13"
   ]
  },
  {
   "cell_type": "markdown",
   "id": "4a74e8e7",
   "metadata": {},
   "source": [
    "# Q1.\n",
    "### Write a program that calculates and prints the value according to the given formula:\n",
    "### Q = Square root of [(2 * C * D)/H]\n",
    "### Following are the fixed values of C and H:\n",
    "### C is 50. H is 30.\n",
    "### D is the variable whose values should be input to your program in a comma-separated sequence. Example\n",
    "### Let us assume the following comma separated input sequence is given to the program:\n",
    "### 100,150,180\n",
    "### The output of the program should be:\n",
    "### 18,22,24"
   ]
  },
  {
   "cell_type": "code",
   "execution_count": null,
   "id": "52543592",
   "metadata": {},
   "outputs": [],
   "source": []
  },
  {
   "cell_type": "markdown",
   "id": "a8e3ed59",
   "metadata": {},
   "source": [
    "# Q2.\n",
    "### Write a program which takes 2 digits, X,Y as input and generates a 2-dimensional array. The element value in the i-th row and j-th column of the array should be i*j.\n",
    "### Note: i=0,1.., X-1; j=0,1,¡Y-1.\n",
    "### Example\n",
    "### Suppose the following inputs are given to the program:\n",
    "### 3,5\n",
    "### Then, the output of the program should be:\n",
    "### [[0, 0, 0, 0, 0], [0, 1, 2, 3, 4], [0, 2, 4, 6, 8]]"
   ]
  },
  {
   "cell_type": "code",
   "execution_count": null,
   "id": "bad57b8c",
   "metadata": {},
   "outputs": [],
   "source": []
  },
  {
   "cell_type": "markdown",
   "id": "c87e62e3",
   "metadata": {},
   "source": [
    "# Q3.\n",
    "### Write a program that accepts a comma separated sequence of words as input and prints the words in a comma-separated sequence after sorting them alphabetically.\n",
    "### Suppose the following input is supplied to the program:\n",
    "### without,hello,bag,world\n",
    "### Then, the output should be:\n",
    "### bag,hello,without,world"
   ]
  },
  {
   "cell_type": "code",
   "execution_count": null,
   "id": "a32051d5",
   "metadata": {},
   "outputs": [],
   "source": []
  },
  {
   "cell_type": "markdown",
   "id": "bf099604",
   "metadata": {},
   "source": [
    "# Q4.\n",
    "### Write a program that accepts a sequence of whitespace separated words as input and prints the words after removing all duplicate words and sorting them alphanumerically.\n",
    "### Suppose the following input is supplied to the program:\n",
    "### hello world and practice makes perfect and hello world again\n",
    "### Then, the output should be:\n",
    "### again and hello makes perfect practice world"
   ]
  },
  {
   "cell_type": "code",
   "execution_count": null,
   "id": "d80c5aaf",
   "metadata": {},
   "outputs": [],
   "source": []
  },
  {
   "cell_type": "markdown",
   "id": "7eb6c37f",
   "metadata": {},
   "source": [
    "# Q5.\n",
    "### Write a program that accepts a sentence and calculate the number of letters and digits.\n",
    "### Suppose the following input is supplied to the program:\n",
    "### hello world! 123\n",
    "### Then, the output should be:\n",
    "### LETTERS 10\n",
    "### DIGITS 3"
   ]
  },
  {
   "cell_type": "code",
   "execution_count": null,
   "id": "f0688d98",
   "metadata": {},
   "outputs": [],
   "source": []
  },
  {
   "cell_type": "markdown",
   "id": "d5d006bd",
   "metadata": {},
   "source": [
    "# Q6.\n",
    "### A website requires the users to input username and password to register. Write a program to check the validity of password input by users.\n",
    "### Following are the criteria for checking the password:\n",
    "### 1. At least 1 letter between [a-z]\n",
    "### 2. At least 1 number between [0-9]\n",
    "### 1. At least 1 letter between [A-Z]\n",
    "### 3. At least 1 character from [#@]\n",
    "### 4. Minimum length of transaction password: 6\n",
    "### 5. Maximum length of transaction password: 12\n",
    "### Your program should accept a sequence of comma separated passwords and will check them according to the above criteria. Passwords that match the criteria are to be printed, each separated by a comma.\n",
    "### Example\n",
    "### If the following passwords are given as input to the program:\n",
    "### ABd1234@1,a F1#,2w3E*,2We3345\n",
    "### Then, the output of the program should be:\n",
    "### ABd1234@1"
   ]
  },
  {
   "cell_type": "code",
   "execution_count": null,
   "id": "986b27e5",
   "metadata": {},
   "outputs": [],
   "source": []
  }
 ],
 "metadata": {
  "kernelspec": {
   "display_name": "Python 3 (ipykernel)",
   "language": "python",
   "name": "python3"
  },
  "language_info": {
   "codemirror_mode": {
    "name": "ipython",
    "version": 3
   },
   "file_extension": ".py",
   "mimetype": "text/x-python",
   "name": "python",
   "nbconvert_exporter": "python",
   "pygments_lexer": "ipython3",
   "version": "3.10.9"
  }
 },
 "nbformat": 4,
 "nbformat_minor": 5
}
