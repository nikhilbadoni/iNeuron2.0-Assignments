{
 "cells": [
  {
   "cell_type": "markdown",
   "id": "68aa4cff",
   "metadata": {},
   "source": [
    "# Python Basics | Programming_Assignment 11"
   ]
  },
  {
   "cell_type": "markdown",
   "id": "4a74e8e7",
   "metadata": {},
   "source": [
    "# Q1.\n",
    "### Write a Python program to find words which are greater than given length k?"
   ]
  },
  {
   "cell_type": "code",
   "execution_count": 5,
   "id": "52543592",
   "metadata": {},
   "outputs": [
    {
     "name": "stdout",
     "output_type": "stream",
     "text": [
      "Enter a list of words separated by spaces: greater than k\n",
      "Enter the value of 'k': 2\n",
      "Words present in the given list greater than 2: greater, than\n"
     ]
    }
   ],
   "source": [
    "def words_greater_than_k(word_list,k):\n",
    "    result = []\n",
    "    for word in word_list:\n",
    "        if len(word) > k:\n",
    "            result.append(word)\n",
    "    return result\n",
    "\n",
    "word_list = input(\"Enter a list of words separated by spaces: \").split()\n",
    "\n",
    "k = int(input(\"Enter the value of 'k': \"))\n",
    "\n",
    "greater_words = words_greater_than_k(word_list,k)\n",
    "\n",
    "if greater_words:\n",
    "    print(f\"Words present in the given list greater than {k}: {', '.join(greater_words)}\")\n",
    "else:\n",
    "    print(f\"No words present in given list greater than {k}\")"
   ]
  },
  {
   "cell_type": "markdown",
   "id": "a8e3ed59",
   "metadata": {},
   "source": [
    "# Q2.\n",
    "### Write a Python program for removing i-th character from a string?"
   ]
  },
  {
   "cell_type": "code",
   "execution_count": 11,
   "id": "bad57b8c",
   "metadata": {},
   "outputs": [
    {
     "name": "stdout",
     "output_type": "stream",
     "text": [
      "Enter a string: hello\n",
      "Enter the index 'i' to remove: 2\n",
      "String after removing character at index 2: helo\n"
     ]
    }
   ],
   "source": [
    "def remove_char(input_str,i):\n",
    "    if i<0 or i > len(input_str):\n",
    "        return \"Invalid Index\"\n",
    "    new_str = input_str.replace(input_str[i], \"\", 1)\n",
    "    return new_str\n",
    "input_string = input(\"Enter a string: \")\n",
    "\n",
    "i = int(input(\"Enter the index 'i' to remove: \"))\n",
    "\n",
    "new_str = remove_char(input_string,i)\n",
    "print(f\"String after removing character at index {i}: {new_str}\")"
   ]
  },
  {
   "cell_type": "markdown",
   "id": "c87e62e3",
   "metadata": {},
   "source": [
    "# Q3.\n",
    "### Write a Python program to split and join a string?"
   ]
  },
  {
   "cell_type": "code",
   "execution_count": 13,
   "id": "a32051d5",
   "metadata": {},
   "outputs": [
    {
     "name": "stdout",
     "output_type": "stream",
     "text": [
      "Enter a string: Hello,World !!!\n",
      "Enter the delimiter for splitting: ,\n",
      "Enter the delimiter for joining:  \n",
      "List after splitting: ['Hello', 'World !!!']\n",
      "String after joining: Hello World !!!\n"
     ]
    }
   ],
   "source": [
    "def split_string(input_string, delimiter):\n",
    "    split_list = input_string.split(delimiter)\n",
    "    return split_list\n",
    "\n",
    "def join_list(substring_list, delimiter):\n",
    "    joined_string = delimiter.join(substring_list)\n",
    "    return joined_string\n",
    "\n",
    "input_string = input(\"Enter a string: \")\n",
    "\n",
    "delimiter1 = input(\"Enter the delimiter for splitting: \")\n",
    "\n",
    "delimiter2 = input(\"Enter the delimiter for joining: \")\n",
    "\n",
    "#Splitting\n",
    "split_list = split_string(input_string, delimiter1)\n",
    "print(\"List after splitting:\", split_list)\n",
    "\n",
    "#Joining\n",
    "joined_string = join_list(split_list, delimiter2)\n",
    "print(\"String after joining:\", joined_string)\n"
   ]
  },
  {
   "cell_type": "markdown",
   "id": "bf099604",
   "metadata": {},
   "source": [
    "# Q4.\n",
    "### Write a Python to check if a given string is binary string or not?"
   ]
  },
  {
   "cell_type": "code",
   "execution_count": 14,
   "id": "d80c5aaf",
   "metadata": {},
   "outputs": [
    {
     "name": "stdout",
     "output_type": "stream",
     "text": [
      "Enter a string: 100011\n",
      "The given string is a binary string.\n"
     ]
    }
   ],
   "source": [
    "def binary_string(input_string):\n",
    "    for char in input_string:\n",
    "        if char != '0' and char != '1':\n",
    "            return False\n",
    "    return True\n",
    "\n",
    "input_string = input(\"Enter a string: \")\n",
    "\n",
    "if binary_string(input_string):\n",
    "    print(\"The given string is a binary string.\")\n",
    "else:\n",
    "    print(\"The given string is not a binary string.\")\n"
   ]
  },
  {
   "cell_type": "markdown",
   "id": "7eb6c37f",
   "metadata": {},
   "source": [
    "# Q5.\n",
    "### Write a Python program to find uncommon words from two Strings?"
   ]
  },
  {
   "cell_type": "code",
   "execution_count": 18,
   "id": "f0688d98",
   "metadata": {},
   "outputs": [
    {
     "name": "stdout",
     "output_type": "stream",
     "text": [
      "Enter the first string: Hello World I am Python\n",
      "Enter the second string: Hello I am Java\n",
      "Uncommon words: World, Java, Python\n"
     ]
    }
   ],
   "source": [
    "def uncommon_words(str1, str2):\n",
    "    words1 = set(str1.split())\n",
    "    words2 = set(str2.split())\n",
    "    \n",
    "    uncommon_words = list(words1.symmetric_difference(words2))\n",
    "    return uncommon_words\n",
    "\n",
    "str1 = input(\"Enter the first string: \")\n",
    "str2 = input(\"Enter the second string: \")\n",
    "\n",
    "uncommon_word = uncommon_words(str1, str2)\n",
    "\n",
    "if uncommon_word:\n",
    "    print(\"Uncommon words:\", ', '.join(uncommon_word))\n",
    "else:\n",
    "    print(\"No uncommon words found.\")\n"
   ]
  },
  {
   "cell_type": "markdown",
   "id": "d5d006bd",
   "metadata": {},
   "source": [
    "# Q6.\n",
    "### Write a Python to find all duplicate characters in string?"
   ]
  },
  {
   "cell_type": "code",
   "execution_count": 20,
   "id": "986b27e5",
   "metadata": {},
   "outputs": [
    {
     "name": "stdout",
     "output_type": "stream",
     "text": [
      "Enter a string: Hello World \n",
      "Duplicate characters: l, o,  \n"
     ]
    }
   ],
   "source": [
    "def duplicate_characters(input_string):\n",
    "    char_count = {}\n",
    "    duplicates = []\n",
    "\n",
    "    for char in input_string:\n",
    "        if char in char_count:\n",
    "            char_count[char] += 1\n",
    "        else:\n",
    "            char_count[char] = 1\n",
    "\n",
    "    for char, count in char_count.items():\n",
    "        if count > 1:\n",
    "            duplicates.append(char)\n",
    "\n",
    "    return duplicates\n",
    "\n",
    "input_string = input(\"Enter a string: \")\n",
    "\n",
    "duplicate_chars = duplicate_characters(input_string)\n",
    "\n",
    "if duplicate_chars:\n",
    "    print(\"Duplicate characters:\", ', '.join(duplicate_chars))\n",
    "else:\n",
    "    print(\"No duplicate characters found.\")\n"
   ]
  },
  {
   "cell_type": "markdown",
   "id": "294d08b2",
   "metadata": {},
   "source": [
    "# Q7.\n",
    "### Write a Python Program to check if a string contains any special character?"
   ]
  },
  {
   "cell_type": "code",
   "execution_count": 22,
   "id": "404cddc7",
   "metadata": {},
   "outputs": [
    {
     "name": "stdout",
     "output_type": "stream",
     "text": [
      "Enter a string: HELLO !!\n",
      "The string contains special characters.\n"
     ]
    }
   ],
   "source": [
    "def special_characters(input_string):\n",
    "    special_characters = \"!@#$%^&*()_+{}[]|\\\\;:'\\\",.<>?`~\"\n",
    "    \n",
    "    for char in input_string:\n",
    "        if char in special_characters:\n",
    "            return True\n",
    "    return False\n",
    "\n",
    "input_string = input(\"Enter a string: \")\n",
    "\n",
    "if special_characters(input_string):\n",
    "    print(\"The string contains special characters.\")\n",
    "else:\n",
    "    print(\"The string does not contain any special characters.\")\n"
   ]
  }
 ],
 "metadata": {
  "kernelspec": {
   "display_name": "Python 3 (ipykernel)",
   "language": "python",
   "name": "python3"
  },
  "language_info": {
   "codemirror_mode": {
    "name": "ipython",
    "version": 3
   },
   "file_extension": ".py",
   "mimetype": "text/x-python",
   "name": "python",
   "nbconvert_exporter": "python",
   "pygments_lexer": "ipython3",
   "version": "3.10.9"
  }
 },
 "nbformat": 4,
 "nbformat_minor": 5
}
