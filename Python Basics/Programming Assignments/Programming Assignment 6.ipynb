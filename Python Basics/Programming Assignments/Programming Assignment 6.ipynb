{
 "cells": [
  {
   "cell_type": "markdown",
   "id": "68aa4cff",
   "metadata": {},
   "source": [
    "# Python Basics | Programming_Assignment 6"
   ]
  },
  {
   "cell_type": "markdown",
   "id": "4a74e8e7",
   "metadata": {},
   "source": [
    "# Q1.\n",
    "### Write a Python Program to Display Fibonacci Sequence Using Recursion?"
   ]
  },
  {
   "cell_type": "code",
   "execution_count": 1,
   "id": "52543592",
   "metadata": {},
   "outputs": [
    {
     "name": "stdout",
     "output_type": "stream",
     "text": [
      "Enter the number of terms: 10\n",
      "Fibonacci sequence:\n",
      "0\n",
      "1\n",
      "1\n",
      "2\n",
      "3\n",
      "5\n",
      "8\n",
      "13\n",
      "21\n",
      "34\n"
     ]
    }
   ],
   "source": [
    "def fibonacci(n):\n",
    "    if n <= 0:\n",
    "        return []\n",
    "    elif n == 1:\n",
    "        return [0]\n",
    "    elif n == 2:\n",
    "        return [0, 1]\n",
    "    else:\n",
    "        fib_seq = fibonacci(n-1)\n",
    "        fib_seq.append(fib_seq[-1] + fib_seq[-2])\n",
    "        return fib_seq\n",
    "\n",
    "# Example usage\n",
    "num_terms = int(input(\"Enter the number of terms: \"))\n",
    "fibonacci_seq = fibonacci(num_terms)\n",
    "print(\"Fibonacci sequence:\")\n",
    "for term in fibonacci_seq:\n",
    "    print(term)"
   ]
  },
  {
   "cell_type": "markdown",
   "id": "a8e3ed59",
   "metadata": {},
   "source": [
    "# Q2.\n",
    "### Write a Python Program to Find Factorial of Number Using Recursion?"
   ]
  },
  {
   "cell_type": "code",
   "execution_count": 2,
   "id": "bad57b8c",
   "metadata": {},
   "outputs": [
    {
     "name": "stdout",
     "output_type": "stream",
     "text": [
      "Enter a number: 5\n",
      "Factorial: 120\n"
     ]
    }
   ],
   "source": [
    "def factorial(n):\n",
    "    if n == 0:\n",
    "        return 1\n",
    "    else:\n",
    "        return n * factorial(n - 1)\n",
    "\n",
    "num = int(input(\"Enter a number: \"))\n",
    "factorial_result = factorial(num)\n",
    "print(\"Factorial:\", factorial_result)"
   ]
  },
  {
   "cell_type": "markdown",
   "id": "c87e62e3",
   "metadata": {},
   "source": [
    "# Q3.\n",
    "### Write a Python Program to calculate your Body Mass Index?"
   ]
  },
  {
   "cell_type": "code",
   "execution_count": 3,
   "id": "a32051d5",
   "metadata": {},
   "outputs": [
    {
     "name": "stdout",
     "output_type": "stream",
     "text": [
      "Enter your weight in kilograms: 56\n",
      "Enter your height in meters: 1.61\n",
      "Your BMI: 21.60410477990818\n"
     ]
    }
   ],
   "source": [
    "def calculate_bmi(weight, height):\n",
    "    bmi = weight / (height ** 2)\n",
    "    return bmi\n",
    "\n",
    "weight = float(input(\"Enter your weight in kilograms: \"))\n",
    "height = float(input(\"Enter your height in meters: \"))\n",
    "\n",
    "bmi = calculate_bmi(weight, height)\n",
    "print(\"Your BMI:\", bmi)"
   ]
  },
  {
   "cell_type": "markdown",
   "id": "bf099604",
   "metadata": {},
   "source": [
    "# Q4.\n",
    "### Write a Python Program to calculate the natural logarithm of any number?"
   ]
  },
  {
   "cell_type": "code",
   "execution_count": 5,
   "id": "d80c5aaf",
   "metadata": {},
   "outputs": [
    {
     "name": "stdout",
     "output_type": "stream",
     "text": [
      "Enter a number: 10\n",
      "Natural logarithm: 2.302585092994046\n"
     ]
    }
   ],
   "source": [
    "import math\n",
    "\n",
    "def calculate_natural_log(number):\n",
    "    natural_log = math.log(number)\n",
    "    return natural_log\n",
    "\n",
    "# Example usage\n",
    "number = float(input(\"Enter a number: \"))\n",
    "\n",
    "natural_log_result = calculate_natural_log(number)\n",
    "print(\"Natural logarithm:\", natural_log_result)"
   ]
  },
  {
   "cell_type": "markdown",
   "id": "7eb6c37f",
   "metadata": {},
   "source": [
    "# Q5.\n",
    "### Write a Python Program for cube sum of first n natural numbers?"
   ]
  },
  {
   "cell_type": "code",
   "execution_count": 6,
   "id": "8c6000e2",
   "metadata": {},
   "outputs": [
    {
     "name": "stdout",
     "output_type": "stream",
     "text": [
      "Enter the value of n: 10\n",
      "Cube sum of the first 10 natural numbers: 3025\n"
     ]
    }
   ],
   "source": [
    "def cube_sum(n):\n",
    "    sum_of_cubes = (n * (n + 1) // 2) ** 2\n",
    "    return sum_of_cubes\n",
    "\n",
    "# Example usage\n",
    "n = int(input(\"Enter the value of n: \"))\n",
    "\n",
    "cube_sum_result = cube_sum(n)\n",
    "print(\"Cube sum of the first\", n, \"natural numbers:\", cube_sum_result)"
   ]
  }
 ],
 "metadata": {
  "kernelspec": {
   "display_name": "Python 3 (ipykernel)",
   "language": "python",
   "name": "python3"
  },
  "language_info": {
   "codemirror_mode": {
    "name": "ipython",
    "version": 3
   },
   "file_extension": ".py",
   "mimetype": "text/x-python",
   "name": "python",
   "nbconvert_exporter": "python",
   "pygments_lexer": "ipython3",
   "version": "3.10.9"
  }
 },
 "nbformat": 4,
 "nbformat_minor": 5
}
