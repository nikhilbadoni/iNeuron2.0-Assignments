{
 "cells": [
  {
   "cell_type": "markdown",
   "id": "68aa4cff",
   "metadata": {},
   "source": [
    "# Python Basics | Programming_Assignment 12"
   ]
  },
  {
   "cell_type": "markdown",
   "id": "4a74e8e7",
   "metadata": {},
   "source": [
    "# Q1.\n",
    "### Write a Python program to Extract Unique values dictionary values?"
   ]
  },
  {
   "cell_type": "code",
   "execution_count": 1,
   "id": "52543592",
   "metadata": {},
   "outputs": [
    {
     "name": "stdout",
     "output_type": "stream",
     "text": [
      "Unique values: {1, 2, 3, 4, 5, 6}\n"
     ]
    }
   ],
   "source": [
    "def extract_unique_values(input_dict):\n",
    "    unique_values = set()\n",
    "    for values in input_dict.values():\n",
    "        unique_values.update(values)\n",
    "    return unique_values\n",
    "\n",
    "input_dict = {\n",
    "    'a': [1, 2, 3],\n",
    "    'b': [2, 3, 4],\n",
    "    'c': [4, 5, 6]\n",
    "}\n",
    "\n",
    "unique_values = extract_unique_values(input_dict)\n",
    "\n",
    "print(\"Unique values:\", unique_values)\n"
   ]
  },
  {
   "cell_type": "markdown",
   "id": "a8e3ed59",
   "metadata": {},
   "source": [
    "# Q2.\n",
    "### Write a Python program to find the sum of all items in a dictionary?"
   ]
  },
  {
   "cell_type": "code",
   "execution_count": 3,
   "id": "bad57b8c",
   "metadata": {},
   "outputs": [
    {
     "name": "stdout",
     "output_type": "stream",
     "text": [
      "Sum of dictionary values: 60\n"
     ]
    }
   ],
   "source": [
    "def sum_of_values(input_dict):\n",
    "    total_sum = sum(input_dict.values())\n",
    "    return total_sum\n",
    "\n",
    "\n",
    "input_dict = {\n",
    "    'a': 10,\n",
    "    'b': 20,\n",
    "    'c': 30\n",
    "}\n",
    "\n",
    "total_sum = sum_of_values(input_dict)\n",
    "\n",
    "print(\"Sum of dictionary values:\", total_sum)\n"
   ]
  },
  {
   "cell_type": "markdown",
   "id": "c87e62e3",
   "metadata": {},
   "source": [
    "# Q3.\n",
    "### Write a Python program to Merging two Dictionaries?"
   ]
  },
  {
   "cell_type": "code",
   "execution_count": 7,
   "id": "a32051d5",
   "metadata": {},
   "outputs": [
    {
     "name": "stdout",
     "output_type": "stream",
     "text": [
      "Merged dictionary: {'a': 1, 'b': 2, 'c': 3, 'd': 4}\n"
     ]
    }
   ],
   "source": [
    "def merge_dictionaries(dict1, dict2):\n",
    "    merged_dict = dict1.copy()\n",
    "    merged_dict.update(dict2)\n",
    "    return merged_dict\n",
    "\n",
    "dict1 = {'a': 1, 'b': 2}\n",
    "dict2 = {'c': 3, 'd': 4}\n",
    "\n",
    "merged_dict = merge_dictionaries(dict1, dict2)\n",
    "\n",
    "print(\"Merged dictionary:\", merged_dict)\n"
   ]
  },
  {
   "cell_type": "markdown",
   "id": "bf099604",
   "metadata": {},
   "source": [
    "# Q4.\n",
    "### Write a Python program to convert key-values list to flat dictionary?"
   ]
  },
  {
   "cell_type": "code",
   "execution_count": 12,
   "id": "d80c5aaf",
   "metadata": {},
   "outputs": [
    {
     "name": "stdout",
     "output_type": "stream",
     "text": [
      "Original dictionary:  {'day': [1, 2, 3], 'name': ['Mon', 'Tues', 'Wed']}\n",
      "Flattened Dictionary:  {1: 'Mon', 2: 'Tues', 3: 'Wed'}\n"
     ]
    }
   ],
   "source": [
    "dic= { \"day\": [1, 2, 3], \"name\": ['Mon', 'Tues', 'Wed' ] }\n",
    "print(\"Original dictionary: \",dic)\n",
    "\n",
    "flat_dic = dict(zip(dic['day'],dic['name']))\n",
    "\n",
    "print(\"Flattened Dictionary: \", flat_dic)\n"
   ]
  },
  {
   "cell_type": "markdown",
   "id": "7eb6c37f",
   "metadata": {},
   "source": [
    "# Q5.\n",
    "### Write a Python program to insertion at the beginning in OrderedDict?"
   ]
  },
  {
   "cell_type": "code",
   "execution_count": 13,
   "id": "f0688d98",
   "metadata": {},
   "outputs": [
    {
     "name": "stdout",
     "output_type": "stream",
     "text": [
      "Enter the new key: d\n",
      "Enter the new value: 4\n",
      "Updated OrderedDict: OrderedDict([('d', '4'), ('a', 1), ('b', 2), ('c', 3)])\n"
     ]
    }
   ],
   "source": [
    "from collections import OrderedDict\n",
    "\n",
    "def insert_at_beginning(ordered_dict, key, value):\n",
    "    ordered_dict[key] = value\n",
    "    ordered_dict.move_to_end(key, last=False)\n",
    "\n",
    "ordered_dict = OrderedDict([('a', 1), ('b', 2), ('c', 3)])\n",
    "\n",
    "new_key = input(\"Enter the new key: \")\n",
    "new_value = input(\"Enter the new value: \")\n",
    "\n",
    "insert_at_beginning(ordered_dict, new_key, new_value)\n",
    "\n",
    "print(\"Updated OrderedDict:\", ordered_dict)\n"
   ]
  },
  {
   "cell_type": "markdown",
   "id": "d5d006bd",
   "metadata": {},
   "source": [
    "# Q6.\n",
    "### Write a Python program to check order of character in string using OrderedDict()?"
   ]
  },
  {
   "cell_type": "code",
   "execution_count": 21,
   "id": "986b27e5",
   "metadata": {},
   "outputs": [
    {
     "name": "stdout",
     "output_type": "stream",
     "text": [
      "Enter a string: hello\n",
      "Enter the reference string: eo\n",
      "The order of characters in the string matches the reference.\n"
     ]
    }
   ],
   "source": [
    "from collections import OrderedDict\n",
    "\n",
    "def order_of_characters(input_string, reference_string):\n",
    "    ordered_dict = OrderedDict.fromkeys(reference_string)\n",
    "    reference_index = 0\n",
    "    \n",
    "    for char in input_string:\n",
    "        if char == reference_string[reference_index]:\n",
    "            reference_index += 1\n",
    "            if reference_index == len(reference_string):\n",
    "                return True\n",
    "    \n",
    "    return False\n",
    "\n",
    "input_string = input(\"Enter a string: \")\n",
    "reference_string = input(\"Enter the reference string: \")\n",
    "\n",
    "if order_of_characters(input_string, reference_string):\n",
    "    print(\"The order of characters in the string matches the reference.\")\n",
    "else:\n",
    "    print(\"The order of characters in the string does not match the reference.\")\n"
   ]
  },
  {
   "cell_type": "markdown",
   "id": "294d08b2",
   "metadata": {},
   "source": [
    "# Q7.\n",
    "### Write a Python program to sort Python Dictionaries by Key or Value?"
   ]
  },
  {
   "cell_type": "code",
   "execution_count": 23,
   "id": "404cddc7",
   "metadata": {},
   "outputs": [
    {
     "name": "stdout",
     "output_type": "stream",
     "text": [
      "Sorted by key: {'a': 1, 'b': 3, 'c': 2}\n",
      "Sorted by value: {'a': 1, 'c': 2, 'b': 3}\n"
     ]
    }
   ],
   "source": [
    "def sort_dictionary_by_key(input_dict):\n",
    "    sorted_dict = dict(sorted(input_dict.items()))\n",
    "    return sorted_dict\n",
    "\n",
    "def sort_dictionary_by_value(input_dict):\n",
    "    sorted_dict = dict(sorted(input_dict.items(), key=lambda item: item[1]))\n",
    "    return sorted_dict\n",
    "\n",
    "input_dict = {'b': 3, 'a': 1, 'c': 2}\n",
    "\n",
    "# By Key\n",
    "sorted_by_key = sort_dictionary_by_key(input_dict)\n",
    "print(\"Sorted by key:\", sorted_by_key)\n",
    "\n",
    "# By Value\n",
    "sorted_by_value = sort_dictionary_by_value(input_dict)\n",
    "print(\"Sorted by value:\", sorted_by_value)\n",
    "\n"
   ]
  }
 ],
 "metadata": {
  "kernelspec": {
   "display_name": "Python 3 (ipykernel)",
   "language": "python",
   "name": "python3"
  },
  "language_info": {
   "codemirror_mode": {
    "name": "ipython",
    "version": 3
   },
   "file_extension": ".py",
   "mimetype": "text/x-python",
   "name": "python",
   "nbconvert_exporter": "python",
   "pygments_lexer": "ipython3",
   "version": "3.10.9"
  }
 },
 "nbformat": 4,
 "nbformat_minor": 5
}
