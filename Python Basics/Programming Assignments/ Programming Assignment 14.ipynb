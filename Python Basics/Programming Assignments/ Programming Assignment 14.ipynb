{
 "cells": [
  {
   "cell_type": "markdown",
   "id": "68aa4cff",
   "metadata": {},
   "source": [
    "# Python Basics | Programming_Assignment"
   ]
  },
  {
   "cell_type": "markdown",
   "id": "4a74e8e7",
   "metadata": {},
   "source": [
    "# Q1.\n",
    "### Define a class with a generator which can iterate the numbers, which are divisible by\n",
    "### 7, between a given range 0 and n."
   ]
  },
  {
   "cell_type": "code",
   "execution_count": 1,
   "id": "52543592",
   "metadata": {},
   "outputs": [
    {
     "name": "stdout",
     "output_type": "stream",
     "text": [
      "0\n",
      "7\n"
     ]
    }
   ],
   "source": [
    "class DivisibleBySeven:\n",
    "    def __init__(self, n):\n",
    "        self.n = n\n",
    "\n",
    "    def generator(self):\n",
    "        for i in range(self.n + 1):\n",
    "            if i % 7 == 0:\n",
    "                yield i\n",
    "\n",
    "# Example usage:\n",
    "n = int(input(\"Enter the range (n): \"))\n",
    "div_by_seven = DivisibleBySeven(n)\n",
    "\n",
    "for number in div_by_seven.generator():\n",
    "    print(number)\n"
   ]
  },
  {
   "cell_type": "markdown",
   "id": "a8e3ed59",
   "metadata": {},
   "source": [
    "# Q2.\n",
    "### Write a program to compute the frequency of the words from the input. The output\n",
    "### should output after sorting the key alphanumerically.\n",
    "### Suppose the following input is supplied to the program:\n",
    "### New to Python or choosing between Python 2 and Python 3? Read Python 2 or\n",
    "### Python 3.\n",
    "### Then, the output should be:\n",
    "### 2:2\n",
    "### 3.:1\n",
    "### 3?:1\n",
    "### New:1\n",
    "### Python:5\n",
    "### Read:1\n",
    "### and:1\n",
    "### between:1\n",
    "### choosing:1\n",
    "### or:2\n",
    "### to:1"
   ]
  },
  {
   "cell_type": "code",
   "execution_count": 2,
   "id": "bad57b8c",
   "metadata": {},
   "outputs": [
    {
     "name": "stdout",
     "output_type": "stream",
     "text": [
      "2:2\n",
      "3.:1\n",
      "3?:1\n",
      "New:1\n",
      "Python:5\n",
      "Read:1\n",
      "and:1\n",
      "between:1\n",
      "choosing:1\n",
      "or:2\n",
      "to:1\n"
     ]
    }
   ],
   "source": [
    "def compute_word_frequency(input_text):\n",
    "    # Split the input text into words\n",
    "    words = input_text.split()\n",
    "\n",
    "    # Initialize a dictionary to store the frequency of each word\n",
    "    frequency = {}\n",
    "\n",
    "    # Count the frequency of each word\n",
    "    for word in words:\n",
    "        frequency[word] = frequency.get(word, 0) + 1\n",
    "\n",
    "    # Sort the dictionary keys alphanumerically\n",
    "    sorted_keys = sorted(frequency.keys())\n",
    "\n",
    "    # Print the frequency of each word\n",
    "    for key in sorted_keys:\n",
    "        print(f\"{key}:{frequency[key]}\")\n",
    "\n",
    "# Input: a sentence\n",
    "input_text = input(\"Enter a sentence: \")\n",
    "\n",
    "# Compute and print the word frequency\n",
    "compute_word_frequency(input_text)\n"
   ]
  },
  {
   "cell_type": "markdown",
   "id": "c87e62e3",
   "metadata": {},
   "source": [
    "# Q3.\n",
    "### Define a class Person and its two child classes: Male and Female. All classes have a method &quot;getGender&quot; ### which can print &quot;Male&quot; for Male class and &quot;Female&quot; for Female class."
   ]
  },
  {
   "cell_type": "code",
   "execution_count": 3,
   "id": "a32051d5",
   "metadata": {},
   "outputs": [
    {
     "name": "stdout",
     "output_type": "stream",
     "text": [
      "Male\n",
      "Female\n"
     ]
    }
   ],
   "source": [
    "class Person:\n",
    "    def getGender(self):\n",
    "        raise NotImplementedError(\"Subclass must implement abstract method\")\n",
    "\n",
    "class Male(Person):\n",
    "    def getGender(self):\n",
    "        return \"Male\"\n",
    "\n",
    "class Female(Person):\n",
    "    def getGender(self):\n",
    "        return \"Female\"\n",
    "\n",
    "# Example usage:\n",
    "male = Male()\n",
    "female = Female()\n",
    "\n",
    "print(male.getGender())   # Output: Male\n",
    "print(female.getGender()) # Output: Female\n"
   ]
  },
  {
   "cell_type": "markdown",
   "id": "bf099604",
   "metadata": {},
   "source": [
    "# Q4.\n",
    "### Please write a program to generate all sentences where subject is in [&quot;I&quot;, &quot;You&quot;] and\n",
    "### verb is in [&quot;Play&quot;, &quot;Love&quot;] and the object is in [&quot;Hockey&quot;,&quot;Football&quot;]."
   ]
  },
  {
   "cell_type": "code",
   "execution_count": 4,
   "id": "d80c5aaf",
   "metadata": {},
   "outputs": [
    {
     "name": "stdout",
     "output_type": "stream",
     "text": [
      "I Play Hockey\n",
      "I Play Football\n",
      "I Love Hockey\n",
      "I Love Football\n",
      "You Play Hockey\n",
      "You Play Football\n",
      "You Love Hockey\n",
      "You Love Football\n"
     ]
    }
   ],
   "source": [
    "def generate_sentences(subjects, verbs, objects):\n",
    "    sentences = []\n",
    "    for subject in subjects:\n",
    "        for verb in verbs:\n",
    "            for obj in objects:\n",
    "                sentences.append(f\"{subject} {verb} {obj}\")\n",
    "    return sentences\n",
    "\n",
    "# Define the lists for subjects, verbs, and objects\n",
    "subjects = [\"I\", \"You\"]\n",
    "verbs = [\"Play\", \"Love\"]\n",
    "objects = [\"Hockey\", \"Football\"]\n",
    "\n",
    "# Generate all possible sentences\n",
    "sentences = generate_sentences(subjects, verbs, objects)\n",
    "\n",
    "# Print each sentence\n",
    "for sentence in sentences:\n",
    "    print(sentence)\n"
   ]
  },
  {
   "cell_type": "markdown",
   "id": "7eb6c37f",
   "metadata": {},
   "source": [
    "# Q5.\n",
    "### Please write a program to compress and decompress the string &quot;hello world!hello\n",
    "### world!hello world!hello world!&quot;."
   ]
  },
  {
   "cell_type": "code",
   "execution_count": 5,
   "id": "f0688d98",
   "metadata": {},
   "outputs": [
    {
     "name": "stdout",
     "output_type": "stream",
     "text": [
      "Compressed data: b'x\\x9c\\xcbH\\xcd\\xc9\\xc9W(\\xcf/\\xcaIQ\\xcc \\x82\\r\\x00\\xbd[\\x11\\xf5'\n",
      "Decompressed data: hello world!hello world!hello world!hello world!\n"
     ]
    }
   ],
   "source": [
    "import zlib\n",
    "\n",
    "# Original string\n",
    "original_string = \"hello world!hello world!hello world!hello world!\"\n",
    "\n",
    "# Compress the string\n",
    "compressed_data = zlib.compress(original_string.encode())\n",
    "print(\"Compressed data:\", compressed_data)\n",
    "\n",
    "# Decompress the string\n",
    "decompressed_data = zlib.decompress(compressed_data).decode()\n",
    "print(\"Decompressed data:\", decompressed_data)\n"
   ]
  },
  {
   "cell_type": "markdown",
   "id": "d5d006bd",
   "metadata": {},
   "source": [
    "# Q6.\n",
    "### Please write a binary search function which searches an item in a sorted list. The\n",
    "### function should return the index of element to be searched in the list."
   ]
  },
  {
   "cell_type": "code",
   "execution_count": 6,
   "id": "986b27e5",
   "metadata": {},
   "outputs": [
    {
     "name": "stdout",
     "output_type": "stream",
     "text": [
      "Index of 7 in the list: 3\n"
     ]
    }
   ],
   "source": [
    "def binary_search(sorted_list, target):\n",
    "    \"\"\"\n",
    "    Perform binary search to find the index of target in sorted_list.\n",
    "\n",
    "    :param sorted_list: List of elements sorted in ascending order.\n",
    "    :param target: The element to search for.\n",
    "    :return: Index of the target element if found, otherwise -1.\n",
    "    \"\"\"\n",
    "    left, right = 0, len(sorted_list) - 1\n",
    "\n",
    "    while left <= right:\n",
    "        mid = (left + right) // 2\n",
    "\n",
    "        # Check if target is present at mid\n",
    "        if sorted_list[mid] == target:\n",
    "            return mid\n",
    "        # If target is greater, ignore left half\n",
    "        elif sorted_list[mid] < target:\n",
    "            left = mid + 1\n",
    "        # If target is smaller, ignore right half\n",
    "        else:\n",
    "            right = mid - 1\n",
    "\n",
    "    # Target was not found in the list\n",
    "    return -1\n",
    "\n",
    "# Example usage:\n",
    "sorted_list = [1, 3, 5, 7, 9, 11, 13, 15]\n",
    "target = 7\n",
    "\n",
    "# Perform binary search\n",
    "index = binary_search(sorted_list, target)\n",
    "\n",
    "print(f\"Index of {target} in the list: {index}\")\n"
   ]
  },
  {
   "cell_type": "code",
   "execution_count": null,
   "id": "8bf04fa7",
   "metadata": {},
   "outputs": [],
   "source": []
  }
 ],
 "metadata": {
  "kernelspec": {
   "display_name": "Python 3 (ipykernel)",
   "language": "python",
   "name": "python3"
  },
  "language_info": {
   "codemirror_mode": {
    "name": "ipython",
    "version": 3
   },
   "file_extension": ".py",
   "mimetype": "text/x-python",
   "name": "python",
   "nbconvert_exporter": "python",
   "pygments_lexer": "ipython3",
   "version": "3.10.11"
  }
 },
 "nbformat": 4,
 "nbformat_minor": 5
}
