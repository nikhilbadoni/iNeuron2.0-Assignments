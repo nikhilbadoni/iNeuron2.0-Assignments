{
 "cells": [
  {
   "cell_type": "markdown",
   "id": "68aa4cff",
   "metadata": {},
   "source": [
    "# Python Basics | Programming_Assignment 9"
   ]
  },
  {
   "cell_type": "markdown",
   "id": "4a74e8e7",
   "metadata": {},
   "source": [
    "# Q1.\n",
    "### Write a Python program to check if the given number is a Disarium Number?"
   ]
  },
  {
   "cell_type": "code",
   "execution_count": 1,
   "id": "52543592",
   "metadata": {},
   "outputs": [
    {
     "name": "stdout",
     "output_type": "stream",
     "text": [
      "Enter a number: 12\n",
      "12 is not a Disarium number.\n"
     ]
    }
   ],
   "source": [
    "def is_disarium_number(number):\n",
    "    \n",
    "    num_str = str(number)\n",
    "    length = len(num_str)\n",
    "\n",
    "    sum_of_digits = 0\n",
    "    for i in range(length):\n",
    "        digit = int(num_str[i])\n",
    "        sum_of_digits += digit ** (i + 1)\n",
    "\n",
    "    if sum_of_digits == number:\n",
    "        return True\n",
    "    else:\n",
    "        return False\n",
    "\n",
    "num = int(input(\"Enter a number: \"))\n",
    "\n",
    "if is_disarium_number(num):\n",
    "    print(num, \"is a Disarium number.\")\n",
    "else:\n",
    "    print(num, \"is not a Disarium number.\")\n"
   ]
  },
  {
   "cell_type": "markdown",
   "id": "a8e3ed59",
   "metadata": {},
   "source": [
    "# Q2.\n",
    "### Write a Python program to print all disarium numbers between 1 to 100?"
   ]
  },
  {
   "cell_type": "code",
   "execution_count": 2,
   "id": "bad57b8c",
   "metadata": {},
   "outputs": [
    {
     "name": "stdout",
     "output_type": "stream",
     "text": [
      "Disarium numbers between 1 and 100 :\n",
      "1\n",
      "2\n",
      "3\n",
      "4\n",
      "5\n",
      "6\n",
      "7\n",
      "8\n",
      "9\n",
      "89\n"
     ]
    }
   ],
   "source": [
    "def is_disarium_number(number):\n",
    "    num_str = str(number)\n",
    "    length = len(num_str)\n",
    "\n",
    "    sum_of_digits = 0\n",
    "    for i in range(length):\n",
    "        digit = int(num_str[i])\n",
    "        sum_of_digits += digit ** (i + 1)\n",
    "\n",
    "    if sum_of_digits == number:\n",
    "        return True\n",
    "    else:\n",
    "        return False\n",
    "\n",
    "lower_limit = 1\n",
    "upper_limit = 100\n",
    "\n",
    "print(\"Disarium numbers between\", lower_limit, \"and\", upper_limit, \":\")\n",
    "\n",
    "for num in range(lower_limit, upper_limit + 1):\n",
    "    if is_disarium_number(num):\n",
    "        print(num)\n"
   ]
  },
  {
   "cell_type": "markdown",
   "id": "c87e62e3",
   "metadata": {},
   "source": [
    "# Q3.\n",
    "### Write a Python program to check if the given number is Happy Number?"
   ]
  },
  {
   "cell_type": "code",
   "execution_count": null,
   "id": "a32051d5",
   "metadata": {},
   "outputs": [
    {
     "name": "stdout",
     "output_type": "stream",
     "text": [
      "Enter a number: 93\n"
     ]
    }
   ],
   "source": [
    "def find_happy(n):\n",
    "    initial = n\n",
    "    n = str(n)\n",
    "    \n",
    "    sum = 0\n",
    "    ending_num = 0\n",
    "    \n",
    "    while ending_num != 1:\n",
    "        for i in range(len(n)):\n",
    "            sum = int(sum + (int(n[i]) ** 2))\n",
    "            \n",
    "        n = str(sum)\n",
    "        ending_num = sum\n",
    "        sum = 0\n",
    "        \n",
    "    return True\n",
    "\n",
    "# Take user input\n",
    "num = int(input(\"Enter a number: \"))\n",
    "result = find_happy(num)\n",
    "print(f\"The number {num} is {'a happy number.' if result else 'not a happy number.'}\")\n"
   ]
  },
  {
   "cell_type": "markdown",
   "id": "bf099604",
   "metadata": {},
   "source": [
    "# Q4.\n",
    "### Write a Python program to print all happy numbers between 1 and 100?"
   ]
  },
  {
   "cell_type": "code",
   "execution_count": null,
   "id": "d80c5aaf",
   "metadata": {},
   "outputs": [],
   "source": []
  },
  {
   "cell_type": "markdown",
   "id": "7eb6c37f",
   "metadata": {},
   "source": [
    "# Q5.\n",
    "### Write a Python program to determine whether the given number is a Harshad Number?"
   ]
  },
  {
   "cell_type": "code",
   "execution_count": null,
   "id": "f0688d98",
   "metadata": {},
   "outputs": [],
   "source": [
    "def is_harshad_number(number):\n",
    "\n",
    "    digit_sum = sum(int(digit) for digit in str(number))\n",
    "\n",
    "    if number % digit_sum == 0:\n",
    "        return True\n",
    "    else:\n",
    "        return False\n",
    "\n",
    "num = int(input(\"Enter a number: \"))\n",
    "\n",
    "if is_harshad_number(num):\n",
    "    print(num, \"is a Harshad number.\")\n",
    "else:\n",
    "    print(num, \"is not a Harshad number.\")\n"
   ]
  },
  {
   "cell_type": "markdown",
   "id": "d5d006bd",
   "metadata": {},
   "source": [
    "# Q6.\n",
    "### Write a Python program to print all pronic numbers between 1 and 100?"
   ]
  },
  {
   "cell_type": "code",
   "execution_count": null,
   "id": "986b27e5",
   "metadata": {},
   "outputs": [],
   "source": [
    "def is_pronic_number(number):\n",
    "\n",
    "    root = int(number ** 0.5)\n",
    "\n",
    "    if root * (root + 1) == number:\n",
    "        return True\n",
    "    else:\n",
    "        return False\n",
    "\n",
    "lower_limit = 1\n",
    "upper_limit = 100\n",
    "\n",
    "print(\"Pronic numbers between\", lower_limit, \"and\", upper_limit, \":\")\n",
    "\n",
    "for num in range(lower_limit, upper_limit + 1):\n",
    "    if is_pronic_number(num):\n",
    "        print(num)\n"
   ]
  },
  {
   "cell_type": "code",
   "execution_count": 12,
   "id": "d8c6eba8",
   "metadata": {},
   "outputs": [
    {
     "name": "stdout",
     "output_type": "stream",
     "text": [
      "Enter a number: 93\n",
      "The number 93 is not a happy number.\n"
     ]
    }
   ],
   "source": [
    "def find_happy(n):\n",
    "    def calculate_sum_of_squares(num):\n",
    "        square_sum = 0\n",
    "        while num > 0:\n",
    "            digit = num % 10\n",
    "            square_sum += digit ** 2\n",
    "            num //= 10\n",
    "        return square_sum\n",
    "\n",
    "    seen = set()\n",
    "    while n != 1:\n",
    "        n = calculate_sum_of_squares(n)\n",
    "        if n in seen:\n",
    "            return False\n",
    "        seen.add(n)\n",
    "\n",
    "    return True\n",
    "\n",
    "# Take user input\n",
    "num = int(input(\"Enter a number: \"))\n",
    "result = find_happy(num)\n",
    "print(f\"The number {num} is {'a happy number.' if result else 'not a happy number.'}\")\n"
   ]
  },
  {
   "cell_type": "code",
   "execution_count": null,
   "id": "bc939157",
   "metadata": {},
   "outputs": [],
   "source": []
  }
 ],
 "metadata": {
  "kernelspec": {
   "display_name": "Python 3 (ipykernel)",
   "language": "python",
   "name": "python3"
  },
  "language_info": {
   "codemirror_mode": {
    "name": "ipython",
    "version": 3
   },
   "file_extension": ".py",
   "mimetype": "text/x-python",
   "name": "python",
   "nbconvert_exporter": "python",
   "pygments_lexer": "ipython3",
   "version": "3.10.9"
  }
 },
 "nbformat": 4,
 "nbformat_minor": 5
}
