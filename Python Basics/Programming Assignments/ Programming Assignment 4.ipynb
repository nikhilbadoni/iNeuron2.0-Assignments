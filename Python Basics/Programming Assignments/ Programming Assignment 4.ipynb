{
 "cells": [
  {
   "cell_type": "markdown",
   "id": "f8a0e383",
   "metadata": {},
   "source": [
    "# Python Basics | Programming_Assignment 4"
   ]
  },
  {
   "cell_type": "markdown",
   "id": "db29e269",
   "metadata": {},
   "source": [
    "# Q1.\n",
    "### Write a Python Program to Find the Factorial of a Number?"
   ]
  },
  {
   "cell_type": "code",
   "execution_count": null,
   "id": "6d3c84d0",
   "metadata": {},
   "outputs": [],
   "source": []
  },
  {
   "cell_type": "markdown",
   "id": "3019ee41",
   "metadata": {},
   "source": [
    "# Q2.\n",
    "### Write a Python Program to Display the multiplication Table?"
   ]
  },
  {
   "cell_type": "code",
   "execution_count": null,
   "id": "97052837",
   "metadata": {},
   "outputs": [],
   "source": []
  },
  {
   "cell_type": "markdown",
   "id": "faf81361",
   "metadata": {},
   "source": [
    "# Q3.\n",
    "### Write a Python Program to Print the Fibonacci sequence?"
   ]
  },
  {
   "cell_type": "code",
   "execution_count": null,
   "id": "bd1a6e05",
   "metadata": {},
   "outputs": [],
   "source": []
  },
  {
   "cell_type": "markdown",
   "id": "77ec5c54",
   "metadata": {},
   "source": [
    "# Q4.\n",
    "### Write a Python Program to Check Armstrong Number?"
   ]
  },
  {
   "cell_type": "code",
   "execution_count": null,
   "id": "407e9587",
   "metadata": {},
   "outputs": [],
   "source": []
  },
  {
   "cell_type": "markdown",
   "id": "967c54fd",
   "metadata": {},
   "source": [
    "# Q5.\n",
    "### Write a Python Program to Find Armstrong Number in an Interval?"
   ]
  },
  {
   "cell_type": "code",
   "execution_count": null,
   "id": "2b530f0e",
   "metadata": {},
   "outputs": [],
   "source": []
  },
  {
   "cell_type": "markdown",
   "id": "b3405b62",
   "metadata": {},
   "source": [
    "# Q6.\n",
    "### Write a Python Program to Find the Sum of Natural Numbers?"
   ]
  },
  {
   "cell_type": "code",
   "execution_count": null,
   "id": "1cd4d250",
   "metadata": {},
   "outputs": [],
   "source": []
  }
 ],
 "metadata": {
  "kernelspec": {
   "display_name": "Python 3 (ipykernel)",
   "language": "python",
   "name": "python3"
  },
  "language_info": {
   "codemirror_mode": {
    "name": "ipython",
    "version": 3
   },
   "file_extension": ".py",
   "mimetype": "text/x-python",
   "name": "python",
   "nbconvert_exporter": "python",
   "pygments_lexer": "ipython3",
   "version": "3.10.9"
  }
 },
 "nbformat": 4,
 "nbformat_minor": 5
}
