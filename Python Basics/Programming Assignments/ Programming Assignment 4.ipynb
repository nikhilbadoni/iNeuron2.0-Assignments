{
 "cells": [
  {
   "cell_type": "markdown",
   "id": "f8a0e383",
   "metadata": {},
   "source": [
    "# Python Basics | Programming_Assignment 4"
   ]
  },
  {
   "cell_type": "markdown",
   "id": "db29e269",
   "metadata": {},
   "source": [
    "# Q1.\n",
    "### Write a Python Program to Find the Factorial of a Number?"
   ]
  },
  {
   "cell_type": "code",
   "execution_count": 1,
   "id": "6d3c84d0",
   "metadata": {},
   "outputs": [
    {
     "name": "stdout",
     "output_type": "stream",
     "text": [
      "Enter the number you want to find factorial: 5\n",
      "The factorial of 5 is 120\n"
     ]
    }
   ],
   "source": [
    "def factorial(number):\n",
    "    if number<0:\n",
    "        print(\"Factorial is not defined for negative numbers.\")\n",
    "        return None\n",
    "    if number == 0:\n",
    "        return 1\n",
    "    return number*factorial(number-1)\n",
    "\n",
    "num = int(input(\"Enter the number you want to find factorial: \"))\n",
    "result = factorial(num)\n",
    "if result is not None:\n",
    "    print(f\"The factorial of {num} is {result}\")"
   ]
  },
  {
   "cell_type": "markdown",
   "id": "3019ee41",
   "metadata": {},
   "source": [
    "# Q2.\n",
    "### Write a Python Program to Display the multiplication Table?"
   ]
  },
  {
   "cell_type": "code",
   "execution_count": 3,
   "id": "97052837",
   "metadata": {},
   "outputs": [
    {
     "name": "stdout",
     "output_type": "stream",
     "text": [
      "Enter a number: 5\n",
      "Multiplication Table of 5\n",
      "5 x 1 = 5\n",
      "5 x 2 = 10\n",
      "5 x 3 = 15\n",
      "5 x 4 = 20\n",
      "5 x 5 = 25\n",
      "5 x 6 = 30\n",
      "5 x 7 = 35\n",
      "5 x 8 = 40\n",
      "5 x 9 = 45\n",
      "5 x 10 = 50\n"
     ]
    }
   ],
   "source": [
    "def multiplication_table(number):\n",
    "    print(f\"Multiplication Table of {number}\")\n",
    "    for i in range(1,11):\n",
    "        result = number*i\n",
    "        print(f\"{number} x {i} = {result}\")\n",
    "        \n",
    "num = int(input(\"Enter a number: \"))\n",
    "multiplication_table(num)"
   ]
  },
  {
   "cell_type": "markdown",
   "id": "faf81361",
   "metadata": {},
   "source": [
    "# Q3.\n",
    "### Write a Python Program to Print the Fibonacci sequence?"
   ]
  },
  {
   "cell_type": "code",
   "execution_count": 11,
   "id": "bd1a6e05",
   "metadata": {},
   "outputs": [
    {
     "name": "stdout",
     "output_type": "stream",
     "text": [
      "Enter the number of terms: 5\n",
      "Fibonacci series:\n",
      "[0, 1, 1, 2, 3]\n"
     ]
    }
   ],
   "source": [
    "def fibonacci(n):\n",
    "    if n <= 0:\n",
    "        return []\n",
    "    elif n == 1:\n",
    "        return [0]\n",
    "    elif n == 2:\n",
    "        return [0, 1]\n",
    "    else:\n",
    "        series = fibonacci(n - 1)\n",
    "        next_num = series[-1] + series[-2]\n",
    "        series.append(next_num)\n",
    "        return series\n",
    "\n",
    "\n",
    "num = int(input(\"Enter the number of terms: \"))\n",
    "fibonacci_series = fibonacci(num)\n",
    "print(\"Fibonacci series:\")\n",
    "print(fibonacci_series)\n"
   ]
  },
  {
   "cell_type": "markdown",
   "id": "77ec5c54",
   "metadata": {},
   "source": [
    "# Q4.\n",
    "### Write a Python Program to Check Armstrong Number?"
   ]
  },
  {
   "cell_type": "code",
   "execution_count": 12,
   "id": "407e9587",
   "metadata": {},
   "outputs": [
    {
     "name": "stdout",
     "output_type": "stream",
     "text": [
      "Enter a number: 153\n",
      "153 is an Armstrong number.\n"
     ]
    }
   ],
   "source": [
    "def check_armstrong_number(number):\n",
    "    num_str = str(number)\n",
    "    num_len = len(num_str)\n",
    "    armstrong_sum = 0\n",
    "\n",
    "    for digit in num_str:\n",
    "        armstrong_sum += int(digit) ** num_len\n",
    "\n",
    "    if armstrong_sum == number:\n",
    "        print(number, \"is an Armstrong number.\")\n",
    "    else:\n",
    "        print(number, \"is not an Armstrong number.\")\n",
    "\n",
    "\n",
    "# Test the function\n",
    "num = int(input(\"Enter a number: \"))\n",
    "check_armstrong_number(num)\n"
   ]
  },
  {
   "cell_type": "markdown",
   "id": "967c54fd",
   "metadata": {},
   "source": [
    "# Q5.\n",
    "### Write a Python Program to Find Armstrong Number in an Interval?"
   ]
  },
  {
   "cell_type": "code",
   "execution_count": 15,
   "id": "2b530f0e",
   "metadata": {},
   "outputs": [
    {
     "name": "stdout",
     "output_type": "stream",
     "text": [
      "Enter the lower limit of the interval: 100\n",
      "Enter the upper limit of the interval: 200\n",
      "Armstrong numbers between 100 and 200 are:\n",
      "153\n"
     ]
    }
   ],
   "source": [
    "def check_armstrong_number(number):\n",
    "    num_str = str(number)\n",
    "    num_len = len(num_str)\n",
    "    armstrong_sum = 0\n",
    "\n",
    "    for digit in num_str:\n",
    "        armstrong_sum += int(digit) ** num_len\n",
    "\n",
    "    if armstrong_sum == number:\n",
    "        return True\n",
    "    else:\n",
    "        return False\n",
    "\n",
    "\n",
    "# Test the function for an interval\n",
    "lower_limit = int(input(\"Enter the lower limit of the interval: \"))\n",
    "upper_limit = int(input(\"Enter the upper limit of the interval: \"))\n",
    "\n",
    "print(\"Armstrong numbers between\", lower_limit, \"and\", upper_limit, \"are:\")\n",
    "for num in range(lower_limit, upper_limit + 1):\n",
    "    if check_armstrong_number(num):\n",
    "        print(num)\n"
   ]
  },
  {
   "cell_type": "markdown",
   "id": "b3405b62",
   "metadata": {},
   "source": [
    "# Q6.\n",
    "### Write a Python Program to Find the Sum of Natural Numbers?"
   ]
  },
  {
   "cell_type": "code",
   "execution_count": 16,
   "id": "6738cce1",
   "metadata": {},
   "outputs": [
    {
     "name": "stdout",
     "output_type": "stream",
     "text": [
      "Enter the limit: 9\n",
      "The sum of natural numbers up to 9 is 45\n"
     ]
    }
   ],
   "source": [
    "def sum_of_natural_numbers(limit):\n",
    "    if limit < 1:\n",
    "        return 0\n",
    "\n",
    "    sum = 0\n",
    "    for num in range(1, limit + 1):\n",
    "        sum += num\n",
    "\n",
    "    return sum\n",
    "\n",
    "num_limit = int(input(\"Enter the limit: \"))\n",
    "sum_of_numbers = sum_of_natural_numbers(num_limit)\n",
    "print(\"The sum of natural numbers up to\", num_limit, \"is\", sum_of_numbers)\n"
   ]
  }
 ],
 "metadata": {
  "kernelspec": {
   "display_name": "Python 3 (ipykernel)",
   "language": "python",
   "name": "python3"
  },
  "language_info": {
   "codemirror_mode": {
    "name": "ipython",
    "version": 3
   },
   "file_extension": ".py",
   "mimetype": "text/x-python",
   "name": "python",
   "nbconvert_exporter": "python",
   "pygments_lexer": "ipython3",
   "version": "3.10.9"
  }
 },
 "nbformat": 4,
 "nbformat_minor": 5
}
