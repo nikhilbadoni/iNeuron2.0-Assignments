{
 "cells": [
  {
   "cell_type": "markdown",
   "id": "68aa4cff",
   "metadata": {},
   "source": [
    "# Python Basics | Programming_Assignment\n"
   ]
  },
  {
   "cell_type": "markdown",
   "id": "4a74e8e7",
   "metadata": {},
   "source": [
    "# Q1.\n",
    "### Please write a program using generator to print the numbers which can be divisible by 5 and\n",
    "### 7 between 0 and n in comma separated form while n is input by console.\n",
    "##### Example:\n",
    "##### If the following n is given as input to the program:\n",
    "##### 100\n",
    "##### Then, the output of the program should be:\n",
    "##### 0,35,70"
   ]
  },
  {
   "cell_type": "code",
   "execution_count": 2,
   "id": "52543592",
   "metadata": {},
   "outputs": [
    {
     "name": "stdout",
     "output_type": "stream",
     "text": [
      "0,35\n"
     ]
    }
   ],
   "source": [
    "def divisible_by_5_and_7(n):\n",
    "    \"\"\"\n",
    "    Generator that yields numbers divisible by both 5 and 7 between 0 and n (inclusive).\n",
    "\n",
    "    :param n: The upper limit of the range (inclusive).\n",
    "    \"\"\"\n",
    "    for num in range(n + 1):\n",
    "        if num % 5 == 0 and num % 7 == 0:\n",
    "            yield num\n",
    "\n",
    "# Input: upper limit n\n",
    "n = int(input(\"Enter the upper limit (n): \"))\n",
    "\n",
    "# Generate the numbers divisible by 5 and 7\n",
    "result = divisible_by_5_and_7(n)\n",
    "\n",
    "# Convert the generated numbers to a comma-separated string\n",
    "result_str = ','.join(map(str, result))\n",
    "\n",
    "# Print the result\n",
    "print(result_str)\n"
   ]
  },
  {
   "cell_type": "markdown",
   "id": "a8e3ed59",
   "metadata": {},
   "source": [
    "# Q2.\n",
    "### Please write a program using generator to print the even numbers between 0 and n in comma\n",
    "### separated form while n is input by console.\n",
    "##### Example:\n",
    "##### If the following n is given as input to the program:\n",
    "##### 10\n",
    "##### Then, the output of the program should be:\n",
    "##### 0,2,4,6,8,10"
   ]
  },
  {
   "cell_type": "code",
   "execution_count": 4,
   "id": "bad57b8c",
   "metadata": {},
   "outputs": [
    {
     "name": "stdout",
     "output_type": "stream",
     "text": [
      "0,2,4,6,8,10\n"
     ]
    }
   ],
   "source": [
    "def even_numbers(n):\n",
    "    \"\"\"\n",
    "    Generator that yields even numbers between 0 and n (inclusive).\n",
    "\n",
    "    :param n: The upper limit of the range (inclusive).\n",
    "    \"\"\"\n",
    "    for num in range(0, n + 1, 2):  # Start at 0 and step by 2 to get even numbers\n",
    "        yield num\n",
    "\n",
    "# Input: upper limit n\n",
    "n = int(input(\"Enter the upper limit (n): \"))\n",
    "\n",
    "# Generate the even numbers\n",
    "result = even_numbers(n)\n",
    "\n",
    "# Convert the generated numbers to a comma-separated string\n",
    "result_str = ','.join(map(str, result))\n",
    "\n",
    "# Print the result\n",
    "print(result_str)\n"
   ]
  },
  {
   "cell_type": "markdown",
   "id": "c87e62e3",
   "metadata": {},
   "source": [
    "# Q3.\n",
    "### The Fibonacci Sequence is computed based on the following formula:\n",
    "### f(n)=0 if n=0\n",
    "### f(n)=1 if n=1\n",
    "### f(n)=f(n-1)+f(n-2) if n&gt;1\n",
    "### Please write a program using list comprehension to print the Fibonacci Sequence in comma\n",
    "### separated form with a given n input by console.\n",
    "##### Example:\n",
    "##### If the following n is given as input to the program:\n",
    "##### 7\n",
    "##### Then, the output of the program should be:\n",
    "##### 0,1,1,2,3,5,8,13"
   ]
  },
  {
   "cell_type": "code",
   "execution_count": 5,
   "id": "a32051d5",
   "metadata": {},
   "outputs": [
    {
     "name": "stdout",
     "output_type": "stream",
     "text": [
      "0,1,1,2,3,5,8,13\n"
     ]
    }
   ],
   "source": [
    "def fibonacci_sequence(n):\n",
    "    \"\"\"\n",
    "    Generate Fibonacci sequence up to the nth term using list comprehension.\n",
    "    \n",
    "    :param n: The number of terms in the Fibonacci sequence.\n",
    "    :return: List of Fibonacci sequence terms up to the nth term.\n",
    "    \"\"\"\n",
    "    # Initialize the first two terms\n",
    "    fib = [0, 1]\n",
    "    \n",
    "    # Compute Fibonacci terms up to the nth term\n",
    "    [fib.append(fib[-1] + fib[-2]) for _ in range(2, n + 1) if len(fib) <= n]\n",
    "    \n",
    "    return fib[:n + 1]\n",
    "\n",
    "# Input: number of terms in the Fibonacci sequence\n",
    "n = int(input(\"Enter the number of terms (n): \"))\n",
    "\n",
    "# Generate the Fibonacci sequence\n",
    "fib_sequence = fibonacci_sequence(n)\n",
    "\n",
    "# Convert the Fibonacci sequence to a comma-separated string\n",
    "result_str = ','.join(map(str, fib_sequence))\n",
    "\n",
    "# Print the result\n",
    "print(result_str)\n"
   ]
  },
  {
   "cell_type": "markdown",
   "id": "bf099604",
   "metadata": {},
   "source": [
    "# Q4.\n",
    "### Assuming that we have some email addresses in the &quot;username@companyname.com&quot; format,\n",
    "### please write program to print the user name of a given email address. Both user names and\n",
    "### company names are composed of letters only.\n",
    "##### Example:\n",
    "##### If the following email address is given as input to the program:\n",
    "##### john@google.com\n",
    "##### Then, the output of the program should be:\n",
    "##### john"
   ]
  },
  {
   "cell_type": "code",
   "execution_count": 6,
   "id": "d80c5aaf",
   "metadata": {},
   "outputs": [
    {
     "name": "stdout",
     "output_type": "stream",
     "text": [
      "john\n"
     ]
    }
   ],
   "source": [
    "def extract_username(email):\n",
    "    \"\"\"\n",
    "    Extract the username from an email address.\n",
    "\n",
    "    :param email: The email address in the format \"username@companyname.com\".\n",
    "    :return: The username part of the email address.\n",
    "    \"\"\"\n",
    "    # Split the email address at the '@' character\n",
    "    username, _ = email.split('@')\n",
    "    return username\n",
    "\n",
    "# Input: email address\n",
    "email_address = input(\"Enter the email address: \")\n",
    "\n",
    "# Extract the username\n",
    "username = extract_username(email_address)\n",
    "\n",
    "# Print the username\n",
    "print(username)\n"
   ]
  },
  {
   "cell_type": "markdown",
   "id": "7eb6c37f",
   "metadata": {},
   "source": [
    "# Q5.\n",
    "### Define a class named Shape and its subclass Square. The Square class has an init function\n",
    "### which takes a length as argument. Both classes have a area function which can print the area\n",
    "### of the shape where Shape&#39;s area is 0 by default."
   ]
  },
  {
   "cell_type": "code",
   "execution_count": 7,
   "id": "f0688d98",
   "metadata": {},
   "outputs": [
    {
     "name": "stdout",
     "output_type": "stream",
     "text": [
      "Area of the shape is 0 by default.\n",
      "Area of the square: 25\n"
     ]
    }
   ],
   "source": [
    "class Shape:\n",
    "    def __init__(self):\n",
    "        # Initialize Shape with default parameters\n",
    "        pass\n",
    "\n",
    "    def area(self):\n",
    "        # Default area method for Shape\n",
    "        print(\"Area of the shape is 0 by default.\")\n",
    "\n",
    "class Square(Shape):\n",
    "    def __init__(self, length):\n",
    "        super().__init__()\n",
    "        self.length = length\n",
    "\n",
    "    def area(self):\n",
    "        # Override the area method to compute area of the square\n",
    "        return self.length * self.length\n",
    "\n",
    "# Example usage:\n",
    "# Create an instance of Shape\n",
    "shape = Shape()\n",
    "shape.area()  # Output: Area of the shape is 0 by default.\n",
    "\n",
    "# Create an instance of Square with length 5\n",
    "square = Square(5)\n",
    "print(f\"Area of the square: {square.area()}\")  # Output: Area of the square: 25\n"
   ]
  }
 ],
 "metadata": {
  "kernelspec": {
   "display_name": "Python 3 (ipykernel)",
   "language": "python",
   "name": "python3"
  },
  "language_info": {
   "codemirror_mode": {
    "name": "ipython",
    "version": 3
   },
   "file_extension": ".py",
   "mimetype": "text/x-python",
   "name": "python",
   "nbconvert_exporter": "python",
   "pygments_lexer": "ipython3",
   "version": "3.10.11"
  }
 },
 "nbformat": 4,
 "nbformat_minor": 5
}
