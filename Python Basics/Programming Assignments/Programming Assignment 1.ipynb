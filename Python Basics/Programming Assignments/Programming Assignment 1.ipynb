{
 "cells": [
  {
   "cell_type": "markdown",
   "id": "33a1053e",
   "metadata": {},
   "source": [
    "# Python Basics | Programming_Assignment 1"
   ]
  },
  {
   "cell_type": "markdown",
   "id": "93ffdbe3",
   "metadata": {},
   "source": [
    "# Q1.\n",
    "### Write a Python program to print &quot;Hello Python&quot;?"
   ]
  },
  {
   "cell_type": "code",
   "execution_count": 2,
   "id": "0d5c5026",
   "metadata": {},
   "outputs": [
    {
     "name": "stdout",
     "output_type": "stream",
     "text": [
      "Hello Python\n"
     ]
    }
   ],
   "source": [
    "print(\"Hello Python\")"
   ]
  },
  {
   "cell_type": "markdown",
   "id": "efd737c7",
   "metadata": {},
   "source": [
    "# Q2.\n",
    "### Write a Python program to do arithmetical operations addition and division.?"
   ]
  },
  {
   "cell_type": "code",
   "execution_count": 4,
   "id": "821a1ecd",
   "metadata": {},
   "outputs": [
    {
     "name": "stdout",
     "output_type": "stream",
     "text": [
      "The sum is: 15\n",
      "The division result is: 5.0\n"
     ]
    }
   ],
   "source": [
    "# Addition\n",
    "num1 = 10\n",
    "num2 = 5\n",
    "\n",
    "sum_result = num1 + num2\n",
    "print(\"The sum is:\", sum_result)\n",
    "\n",
    "# Division\n",
    "num3 = 10\n",
    "num4 = 2\n",
    "\n",
    "division_result = num3 / num4\n",
    "print(\"The division result is:\", division_result)"
   ]
  },
  {
   "cell_type": "markdown",
   "id": "1e039f24",
   "metadata": {},
   "source": [
    "# Q3.\n",
    "### Write a Python program to find the area of a triangle?"
   ]
  },
  {
   "cell_type": "code",
   "execution_count": 6,
   "id": "16e177ff",
   "metadata": {},
   "outputs": [
    {
     "name": "stdout",
     "output_type": "stream",
     "text": [
      "Enter the length of the base of the triangle: 12\n",
      "Enter the height of the triangle: 5\n",
      "The area of the triangle is: 30.0\n"
     ]
    }
   ],
   "source": [
    "base = float(input(\"Enter the length of the base of the triangle: \"))\n",
    "height = float(input(\"Enter the height of the triangle: \"))\n",
    "\n",
    "area = 0.5 * base * height\n",
    "\n",
    "print(\"The area of the triangle is:\", area)"
   ]
  },
  {
   "cell_type": "markdown",
   "id": "439f0540",
   "metadata": {},
   "source": [
    "# Q4.\n",
    "### Write a Python program to swap two variables?"
   ]
  },
  {
   "cell_type": "code",
   "execution_count": 8,
   "id": "940b6b3f",
   "metadata": {},
   "outputs": [
    {
     "name": "stdout",
     "output_type": "stream",
     "text": [
      "Before swapping:\n",
      "x = 5\n",
      "y = 10\n",
      "After swapping:\n",
      "x = 10\n",
      "y = 5\n"
     ]
    }
   ],
   "source": [
    "# Input variables\n",
    "x = 5\n",
    "y = 10\n",
    "\n",
    "print(\"Before swapping:\")\n",
    "print(\"x =\", x)\n",
    "print(\"y =\", y)\n",
    "\n",
    "# Swapping the variables\n",
    "temp = x\n",
    "x = y\n",
    "y = temp\n",
    "\n",
    "print(\"After swapping:\")\n",
    "print(\"x =\", x)\n",
    "print(\"y =\", y)\n"
   ]
  },
  {
   "cell_type": "markdown",
   "id": "dc36a61d",
   "metadata": {},
   "source": [
    "# Q5.\n",
    "### Write a Python program to generate a random number?"
   ]
  },
  {
   "cell_type": "code",
   "execution_count": 10,
   "id": "c0bad4d7",
   "metadata": {},
   "outputs": [
    {
     "name": "stdout",
     "output_type": "stream",
     "text": [
      "Random number: 0.5430321164879467\n"
     ]
    }
   ],
   "source": [
    "import random\n",
    "\n",
    "random_number = random.random()\n",
    "\n",
    "print(\"Random number:\", random_number)\n"
   ]
  }
 ],
 "metadata": {
  "kernelspec": {
   "display_name": "Python 3 (ipykernel)",
   "language": "python",
   "name": "python3"
  },
  "language_info": {
   "codemirror_mode": {
    "name": "ipython",
    "version": 3
   },
   "file_extension": ".py",
   "mimetype": "text/x-python",
   "name": "python",
   "nbconvert_exporter": "python",
   "pygments_lexer": "ipython3",
   "version": "3.10.9"
  }
 },
 "nbformat": 4,
 "nbformat_minor": 5
}
