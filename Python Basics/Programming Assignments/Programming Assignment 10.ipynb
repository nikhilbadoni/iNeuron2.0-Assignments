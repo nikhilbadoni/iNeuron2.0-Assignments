{
 "cells": [
  {
   "cell_type": "markdown",
   "id": "68aa4cff",
   "metadata": {},
   "source": [
    "# Python Basics | Programming_Assignment 10"
   ]
  },
  {
   "cell_type": "markdown",
   "id": "4a74e8e7",
   "metadata": {},
   "source": [
    "# Q1.\n",
    "### Write a Python program to find sum of elements in list?"
   ]
  },
  {
   "cell_type": "code",
   "execution_count": 2,
   "id": "52543592",
   "metadata": {},
   "outputs": [
    {
     "name": "stdout",
     "output_type": "stream",
     "text": [
      "Sum of the elements in the list [1, 2, 3, 4, 5] is 15\n"
     ]
    }
   ],
   "source": [
    "list1 = [1,2,3,4,5]\n",
    "total = 0\n",
    "for i in list1:\n",
    "    total += i\n",
    "    \n",
    "print(f'Sum of the elements in the list {list1} is {total}')"
   ]
  },
  {
   "cell_type": "markdown",
   "id": "a8e3ed59",
   "metadata": {},
   "source": [
    "# Q2.\n",
    "### Write a Python program to Multiply all numbers in the list?"
   ]
  },
  {
   "cell_type": "code",
   "execution_count": 7,
   "id": "bad57b8c",
   "metadata": {},
   "outputs": [
    {
     "name": "stdout",
     "output_type": "stream",
     "text": [
      "Sum of the elements in the list [1, 2, 3, 4, 5] is 120\n"
     ]
    }
   ],
   "source": [
    "list1 = [1,2,3,4,5]\n",
    "product = 1 \n",
    "for i in list1:\n",
    "    product *= i\n",
    "    \n",
    "print(f'Sum of the elements in the list {list1} is {product}')"
   ]
  },
  {
   "cell_type": "markdown",
   "id": "c87e62e3",
   "metadata": {},
   "source": [
    "# Q3.\n",
    "### Write a Python program to find smallest number in a list?"
   ]
  },
  {
   "cell_type": "code",
   "execution_count": 10,
   "id": "a32051d5",
   "metadata": {},
   "outputs": [
    {
     "name": "stdout",
     "output_type": "stream",
     "text": [
      "The smallest number in the list [5, 2, 8, 1, 9, 3] is: 1\n"
     ]
    }
   ],
   "source": [
    "def smallest_number(numbers):\n",
    "    smallest = numbers[0]\n",
    "    for i in numbers:\n",
    "        if i < smallest:\n",
    "            smallest = i\n",
    "    return smallest\n",
    "list1 = [5, 2, 8, 1, 9, 3]\n",
    "\n",
    "result = smallest_number(list1)\n",
    "print(f\"The smallest number in the list {list1} is: {result}\")"
   ]
  },
  {
   "cell_type": "markdown",
   "id": "bf099604",
   "metadata": {},
   "source": [
    "# Q4.\n",
    "### Write a Python program to find largest number in a list?"
   ]
  },
  {
   "cell_type": "code",
   "execution_count": 13,
   "id": "d80c5aaf",
   "metadata": {},
   "outputs": [
    {
     "name": "stdout",
     "output_type": "stream",
     "text": [
      "The largest number in the list [5, 2, 8, 1, 9, 3] is: 9\n"
     ]
    }
   ],
   "source": [
    "def largest_number(numbers):\n",
    "    largest = numbers[0]\n",
    "    for i in numbers:\n",
    "        if i > largest:\n",
    "            smallest = i\n",
    "    return smallest\n",
    "list1 = [5, 2, 8, 1, 9, 3]\n",
    "\n",
    "result = largest_number(list1)\n",
    "print(f\"The largest number in the list {list1} is: {result}\")"
   ]
  },
  {
   "cell_type": "markdown",
   "id": "7eb6c37f",
   "metadata": {},
   "source": [
    "# Q5.\n",
    "### Write a Python program to find second largest number in a list?"
   ]
  },
  {
   "cell_type": "code",
   "execution_count": 14,
   "id": "f0688d98",
   "metadata": {},
   "outputs": [
    {
     "name": "stdout",
     "output_type": "stream",
     "text": [
      "The second largest number in the list [5, 2, 8, 1, 9, 3, 8] is: 8\n"
     ]
    }
   ],
   "source": [
    "def find_second_largest(numbers):\n",
    "    largest = float('-inf')\n",
    "    second_largest = float('-inf')\n",
    "    \n",
    "    for i in numbers:\n",
    "        if i > largest:\n",
    "            second_largest = largest\n",
    "            largest = i\n",
    "        elif i > second_largest and i != largest:\n",
    "            second_largest = i\n",
    "            \n",
    "    return second_largest\n",
    "\n",
    "numbers_list = [5, 2, 8, 1, 9, 3, 8]\n",
    "\n",
    "second_largest_number = find_second_largest(numbers_list)\n",
    "print(f\"The second largest number in the list {numbers_list} is: {second_largest_number}\")\n"
   ]
  },
  {
   "cell_type": "markdown",
   "id": "d5d006bd",
   "metadata": {},
   "source": [
    "# Q6.\n",
    "### Write a Python program to find N largest elements from a list?"
   ]
  },
  {
   "cell_type": "code",
   "execution_count": 15,
   "id": "986b27e5",
   "metadata": {},
   "outputs": [
    {
     "name": "stdout",
     "output_type": "stream",
     "text": [
      "The 3 largest numbers in the list [5, 2, 8, 1, 9, 3, 8] are: [5, 8, 9]\n"
     ]
    }
   ],
   "source": [
    "def find_n_largest(numbers, n):\n",
    "    largest_elements = []\n",
    "    \n",
    "    for _ in range(n):\n",
    "        current_max = max(numbers)\n",
    "        largest_elements = [current_max] + largest_elements\n",
    "        numbers = [num for num in numbers if num != current_max]\n",
    "    \n",
    "    return largest_elements\n",
    "\n",
    "numbers_list = [5, 2, 8, 1, 9, 3, 8]\n",
    "N = 3\n",
    "\n",
    "n_largest_numbers = find_n_largest(numbers_list, N)\n",
    "print(f\"The {N} largest numbers in the list {numbers_list} are: {n_largest_numbers}\")\n"
   ]
  },
  {
   "cell_type": "markdown",
   "id": "294d08b2",
   "metadata": {},
   "source": [
    "# Q7.\n",
    "### Write a Python program to print even numbers in a list?"
   ]
  },
  {
   "cell_type": "code",
   "execution_count": 16,
   "id": "404cddc7",
   "metadata": {},
   "outputs": [
    {
     "name": "stdout",
     "output_type": "stream",
     "text": [
      "The even numbers in list [5, 2, 8, 1, 9, 3, 8] are [2, 8, 8]\n"
     ]
    }
   ],
   "source": [
    "def even_numbers(numbers):\n",
    "    list1 = []\n",
    "    for i in numbers:\n",
    "        if i%2 == 0:\n",
    "            list1.append(i)\n",
    "    return list1\n",
    "\n",
    "numbers_list = [5, 2, 8, 1, 9, 3, 8]\n",
    "even_list = even_numbers(numbers_list)\n",
    "print(f\"The even numbers in list {numbers_list} are {even_list}\")"
   ]
  },
  {
   "cell_type": "markdown",
   "id": "b2532825",
   "metadata": {},
   "source": [
    "# Q8.\n",
    "### Write a Python program to print odd numbers in a List?"
   ]
  },
  {
   "cell_type": "code",
   "execution_count": 17,
   "id": "a7a06c59",
   "metadata": {},
   "outputs": [
    {
     "name": "stdout",
     "output_type": "stream",
     "text": [
      "The odd numbers in list [5, 2, 8, 1, 9, 3, 8] are [5, 1, 9, 3]\n"
     ]
    }
   ],
   "source": [
    "def odd_numbers(numbers):\n",
    "    list1 = []\n",
    "    for i in numbers:\n",
    "        if i%2 != 0:\n",
    "            list1.append(i)\n",
    "    return list1\n",
    "\n",
    "numbers_list = [5, 2, 8, 1, 9, 3, 8]\n",
    "odd_list = odd_numbers(numbers_list)\n",
    "print(f\"The odd numbers in list {numbers_list} are {odd_list}\")"
   ]
  },
  {
   "cell_type": "markdown",
   "id": "c0a7727a",
   "metadata": {},
   "source": [
    "# Q9.\n",
    "### Write a Python program to Remove empty List from List?"
   ]
  },
  {
   "cell_type": "code",
   "execution_count": 19,
   "id": "055b69a3",
   "metadata": {},
   "outputs": [
    {
     "name": "stdout",
     "output_type": "stream",
     "text": [
      "List without empty lists:[[1, 2], [3, 4], [5]]\n"
     ]
    }
   ],
   "source": [
    "def remove_empty_lists(lst):\n",
    "    return [sublist for sublist in lst if sublist != []]\n",
    "\n",
    "with_empty = [[], [1, 2], [], [3, 4], [], [], [5], []]\n",
    "\n",
    "without_empty = remove_empty_lists(with_empty)\n",
    "print(f\"List without empty lists:{without_empty}\")\n"
   ]
  },
  {
   "cell_type": "markdown",
   "id": "6034b6f1",
   "metadata": {},
   "source": [
    "# Q10.\n",
    "### Write a Python program to Cloning or Copying a list?"
   ]
  },
  {
   "cell_type": "code",
   "execution_count": 20,
   "id": "2a290c8b",
   "metadata": {},
   "outputs": [
    {
     "name": "stdout",
     "output_type": "stream",
     "text": [
      "Original list:[1, 2, 3, 4, 5]\n",
      "Cloned list:[1, 2, 3, 4, 5]\n"
     ]
    }
   ],
   "source": [
    "def clone_list(original_list):\n",
    "    cloned_list = original_list.copy()  \n",
    "    return cloned_list\n",
    "\n",
    "original_list = [1, 2, 3, 4, 5]\n",
    "\n",
    "cloned_list = clone_list(original_list)\n",
    "print(f\"Original list:{original_list}\")\n",
    "print(f\"Cloned list:{cloned_list}\")\n"
   ]
  },
  {
   "cell_type": "markdown",
   "id": "7eec0f4d",
   "metadata": {},
   "source": [
    "# Q11.\n",
    "### Write a Python program to Count occurrences of an element in a list?"
   ]
  },
  {
   "cell_type": "code",
   "execution_count": 21,
   "id": "b5c4b220",
   "metadata": {},
   "outputs": [
    {
     "name": "stdout",
     "output_type": "stream",
     "text": [
      "The element 2 occurs 4 times in the list.\n"
     ]
    }
   ],
   "source": [
    "def count_occurrences(lst, target):\n",
    "    count = 0\n",
    "    for element in lst:\n",
    "        if element == target:\n",
    "            count += 1\n",
    "    return count\n",
    "\n",
    "number_list = [1, 2, 3, 4, 2, 2, 5, 2]\n",
    "\n",
    "target_element = 2\n",
    "\n",
    "occurrences = count_occurrences(number_list, target_element)\n",
    "print(f\"The element {target_element} occurs {occurrences} times in the list.\")\n"
   ]
  }
 ],
 "metadata": {
  "kernelspec": {
   "display_name": "Python 3 (ipykernel)",
   "language": "python",
   "name": "python3"
  },
  "language_info": {
   "codemirror_mode": {
    "name": "ipython",
    "version": 3
   },
   "file_extension": ".py",
   "mimetype": "text/x-python",
   "name": "python",
   "nbconvert_exporter": "python",
   "pygments_lexer": "ipython3",
   "version": "3.10.9"
  }
 },
 "nbformat": 4,
 "nbformat_minor": 5
}
