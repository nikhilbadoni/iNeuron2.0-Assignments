{
 "cells": [
  {
   "cell_type": "markdown",
   "id": "68aa4cff",
   "metadata": {},
   "source": [
    "# Python Basics | Programming_Assignment 7"
   ]
  },
  {
   "cell_type": "markdown",
   "id": "4a74e8e7",
   "metadata": {},
   "source": [
    "# Q1.\n",
    "### Write a Python Program to find sum of array?"
   ]
  },
  {
   "cell_type": "code",
   "execution_count": 1,
   "id": "52543592",
   "metadata": {},
   "outputs": [
    {
     "name": "stdout",
     "output_type": "stream",
     "text": [
      "Enter the size of the array: 5\n",
      "Enter the 1th element: 1\n",
      "Enter the 2th element: 2\n",
      "Enter the 3th element: 3\n",
      "Enter the 4th element: 4\n",
      "Enter the 5th element: 5\n",
      "Sum of the array: 15\n"
     ]
    }
   ],
   "source": [
    "def array_sum(arr):\n",
    "    total = 0\n",
    "    for number in arr:\n",
    "        total += number\n",
    "    return total\n",
    "\n",
    "arr = []  \n",
    "\n",
    "size = int(input(\"Enter the size of the array: \"))\n",
    "\n",
    "for i in range(size):\n",
    "    element = int(input(f\"Enter the {i+1}th element: \"))\n",
    "    arr.append(element)\n",
    "\n",
    "array_sum_result = array_sum(arr)\n",
    "print(\"Sum of the array:\", array_sum_result)"
   ]
  },
  {
   "cell_type": "markdown",
   "id": "a8e3ed59",
   "metadata": {},
   "source": [
    "# Q2.\n",
    "### Write a Python Program to find largest element in an array?"
   ]
  },
  {
   "cell_type": "code",
   "execution_count": 2,
   "id": "bad57b8c",
   "metadata": {},
   "outputs": [
    {
     "name": "stdout",
     "output_type": "stream",
     "text": [
      "Enter the size of list: 5\n",
      "Enter the 1th element of list: 2\n",
      "Enter the 2th element of list: 22\n",
      "Enter the 3th element of list: 12\n",
      "Enter the 4th element of list: 3\n",
      "Enter the 5th element of list: 4\n",
      "Largest element in given list is 22\n"
     ]
    }
   ],
   "source": [
    " def find_largest_element(input_list):\n",
    "    if not input_list:\n",
    "        return None\n",
    "    largest_element = input_list[0]\n",
    "    for element in input_list:\n",
    "        if element > largest_element:\n",
    "            largest_element = element\n",
    "    return largest_element\n",
    "\n",
    "size = int(input(\"Enter the size of list: \"))\n",
    "my_list = []\n",
    "for i in range(size):\n",
    "    element = int(input(f\"Enter the {i+1}th element of list: \"))\n",
    "    my_list.append(element)\n",
    "    \n",
    "largest_element = find_largest_element(my_list)\n",
    "print(f\"Largest element in given list is {largest_element}\")"
   ]
  },
  {
   "cell_type": "markdown",
   "id": "c87e62e3",
   "metadata": {},
   "source": [
    "# Q3.\n",
    "### Write a Python Program for array rotation?"
   ]
  },
  {
   "cell_type": "code",
   "execution_count": 5,
   "id": "a32051d5",
   "metadata": {},
   "outputs": [
    {
     "name": "stdout",
     "output_type": "stream",
     "text": [
      "Enter the size of the array: 5\n",
      "Enter the 1th element: 1\n",
      "Enter the 2th element: 2\n",
      "Enter the 3th element: 3\n",
      "Enter the 4th element: 4\n",
      "Enter the 5th element: 5\n",
      "Enter the rotation count: 3\n",
      "Rotated array: [4, 5, 1, 2, 3]\n"
     ]
    }
   ],
   "source": [
    "def rotate_array(arr, rotation):\n",
    "    n = len(arr)\n",
    "    rotation %= n  \n",
    "    rotated_arr = arr[rotation:] + arr[:rotation]\n",
    "    return rotated_arr\n",
    "\n",
    "arr = [] \n",
    "\n",
    "size = int(input(\"Enter the size of the array: \"))\n",
    "\n",
    "for i in range(size):\n",
    "    element = int(input(f\"Enter the {i+1}th element: \"))\n",
    "    arr.append(element)\n",
    "\n",
    "rotation = int(input(\"Enter the rotation count: \"))\n",
    "\n",
    "rotated_array = rotate_array(arr, rotation)\n",
    "print(\"Rotated array:\", rotated_array)\n"
   ]
  },
  {
   "cell_type": "markdown",
   "id": "bf099604",
   "metadata": {},
   "source": [
    "# Q4.\n",
    "### Write a Python Program to Split the array and add the first part to the end?"
   ]
  },
  {
   "cell_type": "code",
   "execution_count": 6,
   "id": "d80c5aaf",
   "metadata": {},
   "outputs": [
    {
     "name": "stdout",
     "output_type": "stream",
     "text": [
      "Enter the size of the array: 5\n",
      "Enter the 1th element: 1\n",
      "Enter the 2th element: 2\n",
      "Enter the 3th element: 3\n",
      "Enter the 4th element: 4\n",
      "Enter the 5th element: 5\n",
      "Enter the split index: 3\n",
      "Resulting array: [4, 5, 1, 2, 3]\n"
     ]
    }
   ],
   "source": [
    "def split_and_add(arr, split_index):\n",
    "    if split_index >= len(arr) or split_index < 0:\n",
    "        return arr\n",
    "    return arr[split_index:] + arr[:split_index]\n",
    "\n",
    "arr = []  \n",
    "\n",
    "size = int(input(\"Enter the size of the array: \"))\n",
    "\n",
    "for i in range(size):\n",
    "    element = int(input(f\"Enter the {i+1}th element: \"))\n",
    "    arr.append(element)\n",
    "\n",
    "split_index = int(input(\"Enter the split index: \"))\n",
    "\n",
    "result = split_and_add(arr, split_index)\n",
    "print(\"Resulting array:\", result)\n"
   ]
  },
  {
   "cell_type": "markdown",
   "id": "7eb6c37f",
   "metadata": {},
   "source": [
    "# Q5.\n",
    "### Write a Python Program to check if given array is Monotonic?"
   ]
  },
  {
   "cell_type": "code",
   "execution_count": 19,
   "id": "f0688d98",
   "metadata": {},
   "outputs": [
    {
     "name": "stdout",
     "output_type": "stream",
     "text": [
      "Enter the size of the array: 5\n",
      "Enter the 1th element: 1\n",
      "Enter the 2th element: 2\n",
      "Enter the 3th element: 3\n",
      "Enter the 4th element: 4\n",
      "Enter the 5th element: 5\n",
      "True\n"
     ]
    }
   ],
   "source": [
    "def isMonotonic(A):\n",
    "    x, y = [], []\n",
    "    x.extend(A)\n",
    "    y.extend(A)\n",
    "    x.sort()\n",
    "    y.sort(reverse=True)\n",
    "    if(x == A or y == A):\n",
    "        return True\n",
    "    return False\n",
    "arr = []  \n",
    "\n",
    "size = int(input(\"Enter the size of the array: \"))\n",
    "\n",
    "for i in range(size):\n",
    "    element = int(input(f\"Enter the {i+1}th element: \"))\n",
    "    arr.append(element)\n",
    "\n",
    "result = isMonotonic(arr)\n",
    "print(arr)\n",
    "print(f\"The given array is Monotonic: {result}\")\n",
    " \n",
    "\n"
   ]
  }
 ],
 "metadata": {
  "kernelspec": {
   "display_name": "Python 3 (ipykernel)",
   "language": "python",
   "name": "python3"
  },
  "language_info": {
   "codemirror_mode": {
    "name": "ipython",
    "version": 3
   },
   "file_extension": ".py",
   "mimetype": "text/x-python",
   "name": "python",
   "nbconvert_exporter": "python",
   "pygments_lexer": "ipython3",
   "version": "3.10.9"
  }
 },
 "nbformat": 4,
 "nbformat_minor": 5
}
