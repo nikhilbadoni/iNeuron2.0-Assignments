{
 "cells": [
  {
   "cell_type": "markdown",
   "id": "f8a0e383",
   "metadata": {},
   "source": [
    "# Python Basics | Programming_Assignment 2"
   ]
  },
  {
   "cell_type": "markdown",
   "id": "db29e269",
   "metadata": {},
   "source": [
    "# Q1.\n",
    "### Write a Python program to convert kilometers to miles?"
   ]
  },
  {
   "cell_type": "code",
   "execution_count": 3,
   "id": "6d3c84d0",
   "metadata": {},
   "outputs": [
    {
     "name": "stdout",
     "output_type": "stream",
     "text": [
      "Enter distance in kilometers: 12\n",
      "12.0 kilometers is equal to 7.46 miles.\n"
     ]
    }
   ],
   "source": [
    "def convert_kilometers_to_miles(kilometers):\n",
    "    miles = kilometers * 0.621371\n",
    "    return miles\n",
    "\n",
    "kilometers = float(input(\"Enter distance in kilometers: \"))\n",
    "miles = convert_kilometers_to_miles(kilometers)\n",
    "print(f\"{kilometers} kilometers is equal to {miles:.2f} miles.\")\n"
   ]
  },
  {
   "cell_type": "markdown",
   "id": "3019ee41",
   "metadata": {},
   "source": [
    "# Q2.\n",
    "### Write a Python program to convert Celsius to Fahrenheit?"
   ]
  },
  {
   "cell_type": "code",
   "execution_count": 4,
   "id": "97052837",
   "metadata": {},
   "outputs": [
    {
     "name": "stdout",
     "output_type": "stream",
     "text": [
      "Enter temperature in Celsius: 34\n",
      "34.0 degrees Celsius is equal to 93.20 degrees Fahrenheit.\n"
     ]
    }
   ],
   "source": [
    "def convert_celsius_to_fahrenheit(celsius):\n",
    "    fahrenheit = (celsius * 9/5) + 32\n",
    "    return fahrenheit\n",
    "\n",
    "celsius = float(input(\"Enter temperature in Celsius: \"))\n",
    "fahrenheit = convert_celsius_to_fahrenheit(celsius)\n",
    "print(f\"{celsius} degrees Celsius is equal to {fahrenheit:.2f} degrees Fahrenheit.\")\n"
   ]
  },
  {
   "cell_type": "markdown",
   "id": "faf81361",
   "metadata": {},
   "source": [
    "# Q3.\n",
    "### Write a Python program to display calendar?"
   ]
  },
  {
   "cell_type": "code",
   "execution_count": 5,
   "id": "bd1a6e05",
   "metadata": {},
   "outputs": [
    {
     "name": "stdout",
     "output_type": "stream",
     "text": [
      "Enter the year: 2001\n",
      "Enter the month: 9\n",
      "September 2001\n",
      "Mo Tu We Th Fr Sa Su\n",
      "                1  2 \n",
      " 3  4  5  6  7  8  9 \n",
      "10 11 12 13 14 15 16 \n",
      "17 18 19 20 21 22 23 \n",
      "24 25 26 27 28 29 30 \n"
     ]
    }
   ],
   "source": [
    "import calendar\n",
    "\n",
    "year = int(input(\"Enter the year: \"))\n",
    "month = int(input(\"Enter the month: \"))\n",
    "\n",
    "# Create a calendar object\n",
    "cal = calendar.monthcalendar(year, month)\n",
    "\n",
    "# Display the calendar\n",
    "print(calendar.month_name[month], year)\n",
    "print(\"Mo Tu We Th Fr Sa Su\")\n",
    "\n",
    "for week in cal:\n",
    "   \n",
    "    row = \"\"\n",
    "    for day in week:\n",
    "        if day == 0:\n",
    "            row += \"   \"  \n",
    "        else:\n",
    "            row += f\"{day:2d} \"  \n",
    "    print(row)\n"
   ]
  },
  {
   "cell_type": "markdown",
   "id": "77ec5c54",
   "metadata": {},
   "source": [
    "# Q4.\n",
    "### Write a Python program to solve quadratic equation?"
   ]
  },
  {
   "cell_type": "code",
   "execution_count": 6,
   "id": "407e9587",
   "metadata": {},
   "outputs": [
    {
     "name": "stdout",
     "output_type": "stream",
     "text": [
      "Enter the coefficient of x^2: 4\n",
      "Enter the coefficient of x: 3\n",
      "Enter the constant term: 12\n",
      "The solutions are:\n",
      "Root 1: (-0.375+1.6909686573085854j)\n",
      "Root 2: (-0.375-1.6909686573085854j)\n"
     ]
    }
   ],
   "source": [
    "import cmath\n",
    "\n",
    "a = float(input(\"Enter the coefficient of x^2: \"))\n",
    "b = float(input(\"Enter the coefficient of x: \"))\n",
    "c = float(input(\"Enter the constant term: \"))\n",
    "\n",
    "discriminant = b**2 - 4*a*c\n",
    "\n",
    "\n",
    "root1 = (-b + cmath.sqrt(discriminant)) / (2*a)\n",
    "root2 = (-b - cmath.sqrt(discriminant)) / (2*a)\n",
    "\n",
    "print(\"The solutions are:\")\n",
    "print(f\"Root 1: {root1}\")\n",
    "print(f\"Root 2: {root2}\")\n",
    "\n",
    "'''\n",
    "import math\n",
    "\n",
    "def solve_quadratic_equation(a, b, c):\n",
    "    discriminant = b**2 - 4*a*c\n",
    "\n",
    "    if discriminant > 0:\n",
    "        # Two real and distinct solutions\n",
    "        root1 = (-b + math.sqrt(discriminant)) / (2*a)\n",
    "        root2 = (-b - math.sqrt(discriminant)) / (2*a)\n",
    "        return root1, root2\n",
    "    elif discriminant == 0:\n",
    "        # One real solution (repeated roots)\n",
    "        root = -b / (2*a)\n",
    "        return root\n",
    "    else:\n",
    "        # Complex solutions (imaginary roots)\n",
    "        real_part = -b / (2*a)\n",
    "        imaginary_part = math.sqrt(-discriminant) / (2*a)\n",
    "        root1 = complex(real_part, imaginary_part)\n",
    "        root2 = complex(real_part, -imaginary_part)\n",
    "        return root1, root2\n",
    "\n",
    "# Prompt the user to enter the coefficients of the quadratic equation\n",
    "a = float(input(\"Enter the coefficient of x^2: \"))\n",
    "b = float(input(\"Enter the coefficient of x: \"))\n",
    "c = float(input(\"Enter the constant term: \"))\n",
    "\n",
    "# Solve the quadratic equation\n",
    "roots = solve_quadratic_equation(a, b, c)\n",
    "\n",
    "# Display the solutions\n",
    "if isinstance(roots, tuple):\n",
    "    root1, root2 = roots\n",
    "    print(f\"The solutions are: {root1} and {root2}\")\n",
    "else:\n",
    "    print(f\"The solution is: {roots}\")\n",
    "'''\n"
   ]
  },
  {
   "cell_type": "markdown",
   "id": "967c54fd",
   "metadata": {},
   "source": [
    "# Q5.\n",
    "### Write a Python program to swap two variables without temp variable?"
   ]
  },
  {
   "cell_type": "code",
   "execution_count": 10,
   "id": "2b530f0e",
   "metadata": {},
   "outputs": [
    {
     "name": "stdout",
     "output_type": "stream",
     "text": [
      "Enter the value of variable a: 12\n",
      "Enter the value of variable b: 4\n",
      "Before swapping:\n",
      "a = 12\n",
      "b = 4\n",
      "After swapping:\n",
      "a = 4\n",
      "b = 12\n"
     ]
    }
   ],
   "source": [
    "def swap_variables(a, b):\n",
    "    a = a + b\n",
    "    b = a - b\n",
    "    a = a - b\n",
    "    return a, b\n",
    "\n",
    "# Prompt the user to enter the values of the variables\n",
    "a = input(\"Enter the value of variable a: \")\n",
    "b = input(\"Enter the value of variable b: \")\n",
    "\n",
    "# Display the original values\n",
    "print(\"Before swapping:\")\n",
    "print(\"a =\", a)\n",
    "print(\"b =\", b)\n",
    "\n",
    "# Convert the values to the appropriate data type\n",
    "a = int(a)\n",
    "b = int(b)\n",
    "\n",
    "# Swap the variables\n",
    "a, b = swap_variables(a, b)\n",
    "\n",
    "# Display the swapped values\n",
    "print(\"After swapping:\")\n",
    "print(\"a =\", a)\n",
    "print(\"b =\", b)\n"
   ]
  },
  {
   "cell_type": "code",
   "execution_count": null,
   "id": "77aa5e74",
   "metadata": {},
   "outputs": [],
   "source": []
  }
 ],
 "metadata": {
  "kernelspec": {
   "display_name": "Python 3 (ipykernel)",
   "language": "python",
   "name": "python3"
  },
  "language_info": {
   "codemirror_mode": {
    "name": "ipython",
    "version": 3
   },
   "file_extension": ".py",
   "mimetype": "text/x-python",
   "name": "python",
   "nbconvert_exporter": "python",
   "pygments_lexer": "ipython3",
   "version": "3.10.9"
  }
 },
 "nbformat": 4,
 "nbformat_minor": 5
}
