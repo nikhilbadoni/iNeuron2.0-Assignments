{
 "cells": [
  {
   "cell_type": "markdown",
   "id": "68aa4cff",
   "metadata": {},
   "source": [
    "# Python Basics | Programming_Assignment 15"
   ]
  },
  {
   "cell_type": "markdown",
   "id": "4a74e8e7",
   "metadata": {},
   "source": [
    "# Q1.\n",
    "### Please write a program using generator to print the numbers which can be divisible by 5 and 7 between 0 and n in comma separated form while n is input by console.\n",
    "### Example:\n",
    "### If the following n is given as input to the program:\n",
    "### 100\n",
    "### Then, the output of the program should be:\n",
    "### 0,35,70"
   ]
  },
  {
   "cell_type": "code",
   "execution_count": null,
   "id": "52543592",
   "metadata": {},
   "outputs": [],
   "source": []
  },
  {
   "cell_type": "markdown",
   "id": "a8e3ed59",
   "metadata": {},
   "source": [
    "# Q2.\n",
    "### Please write a program using generator to print the even numbers between 0 and n in comma separated form while n is input by console.\n",
    "### Example:\n",
    "### If the following n is given as input to the program:\n",
    "### 10\n",
    "### Then, the output of the program should be:\n",
    "### 0,2,4,6,8,10"
   ]
  },
  {
   "cell_type": "code",
   "execution_count": null,
   "id": "bad57b8c",
   "metadata": {},
   "outputs": [],
   "source": []
  },
  {
   "cell_type": "markdown",
   "id": "c87e62e3",
   "metadata": {},
   "source": [
    "# Q3.\n",
    "### The Fibonacci Sequence is computed based on the following formula:\n",
    "### f(n)=0 if n=0\n",
    "### f(n)=1 if n=1\n",
    "### f(n)=f(n-1)+f(n-2) if n&gt;1\n",
    "### Please write a program using list comprehension to print the Fibonacci Sequence in comma separated form with a given n input by console.\n",
    "### Example:\n",
    "### If the following n is given as input to the program:\n",
    "### 7\n",
    "### Then, the output of the program should be:\n",
    "### 0,1,1,2,3,5,8,13"
   ]
  },
  {
   "cell_type": "code",
   "execution_count": null,
   "id": "a32051d5",
   "metadata": {},
   "outputs": [],
   "source": []
  },
  {
   "cell_type": "markdown",
   "id": "bf099604",
   "metadata": {},
   "source": [
    "# Q4.\n",
    "### Assuming that we have some email addresses in the &quot;username@companyname.com&quot; format, please write program to print the user name of a given email address. Both user names and company names are composed of letters only.\n",
    "### Example:\n",
    "### If the following email address is given as input to the program:\n",
    "### john@google.com\n",
    "### Then, the output of the program should be:\n",
    "### john"
   ]
  },
  {
   "cell_type": "code",
   "execution_count": null,
   "id": "d80c5aaf",
   "metadata": {},
   "outputs": [],
   "source": []
  },
  {
   "cell_type": "markdown",
   "id": "7eb6c37f",
   "metadata": {},
   "source": [
    "# Q5.\n",
    "### Define a class named Shape and its subclass Square. The Square class has an init function which takes a length as argument. Both classes have a area function which can print the area of the shape where Shape&#39;s area is 0 by default."
   ]
  },
  {
   "cell_type": "code",
   "execution_count": null,
   "id": "f0688d98",
   "metadata": {},
   "outputs": [],
   "source": []
  }
 ],
 "metadata": {
  "kernelspec": {
   "display_name": "Python 3 (ipykernel)",
   "language": "python",
   "name": "python3"
  },
  "language_info": {
   "codemirror_mode": {
    "name": "ipython",
    "version": 3
   },
   "file_extension": ".py",
   "mimetype": "text/x-python",
   "name": "python",
   "nbconvert_exporter": "python",
   "pygments_lexer": "ipython3",
   "version": "3.10.9"
  }
 },
 "nbformat": 4,
 "nbformat_minor": 5
}
