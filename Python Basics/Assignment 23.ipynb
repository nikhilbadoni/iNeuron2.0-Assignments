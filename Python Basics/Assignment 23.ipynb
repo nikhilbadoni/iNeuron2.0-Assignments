{
 "cells": [
  {
   "cell_type": "markdown",
   "id": "97ff1f00",
   "metadata": {},
   "source": [
    "# Python Basics | Assignment 22"
   ]
  },
  {
   "cell_type": "markdown",
   "id": "39a24997",
   "metadata": {},
   "source": [
    "# Q1.\n",
    "### What is the result of the code, and why?\n",
    "### &gt;&gt;&gt; def func(a, b=6, c=8):\n",
    "### print(a, b, c)\n",
    "### &gt;&gt;&gt; func(1, 2)"
   ]
  },
  {
   "cell_type": "code",
   "execution_count": null,
   "id": "7da01f5d",
   "metadata": {},
   "outputs": [],
   "source": []
  },
  {
   "cell_type": "markdown",
   "id": "3fe41e6e",
   "metadata": {},
   "source": [
    "# Q2.\n",
    "### What is the result of this code, and why?\n",
    "### &gt;&gt;&gt; def func(a, b, c=5):\n",
    "### print(a, b, c)\n",
    "### &gt;&gt;&gt; func(1, c=3, b=2)"
   ]
  },
  {
   "cell_type": "code",
   "execution_count": null,
   "id": "ebeb6187",
   "metadata": {},
   "outputs": [],
   "source": []
  },
  {
   "cell_type": "markdown",
   "id": "936b5e3e",
   "metadata": {},
   "source": [
    "# Q3.\n",
    "### How about this code: what is its result, and why?\n",
    "### &gt;&gt;&gt; def func(a, *pargs):\n",
    "### print(a, pargs)\n",
    "### &gt;&gt;&gt; func(1, 2, 3)"
   ]
  },
  {
   "cell_type": "code",
   "execution_count": null,
   "id": "62652b20",
   "metadata": {},
   "outputs": [],
   "source": []
  },
  {
   "cell_type": "markdown",
   "id": "1d554242",
   "metadata": {},
   "source": [
    "# Q4.\n",
    "### What does this code print, and why?\n",
    "### &gt;&gt;&gt; def func(a, **kargs):\n",
    "### print(a, kargs)\n",
    "### &gt;&gt;&gt; func(a=1, c=3, b=2)"
   ]
  },
  {
   "cell_type": "code",
   "execution_count": null,
   "id": "c2b573c6",
   "metadata": {},
   "outputs": [],
   "source": []
  },
  {
   "cell_type": "markdown",
   "id": "16fdaae4",
   "metadata": {},
   "source": [
    "# Q5.\n",
    "### What gets printed by this, and explain?\n",
    "### &gt;&gt;&gt; def func(a, b, c=8, d=5): print(a, b, c, d)\n",
    "### &gt;&gt;&gt; func(1, *(5, 6))"
   ]
  },
  {
   "cell_type": "markdown",
   "id": "91567108",
   "metadata": {},
   "source": [
    "# Q6.\n",
    "### what is the result of this, and explain?\n",
    "### &gt;&gt;&gt; def func(a, b, c): a = 2; b[0] = &#39;x&#39;; c[&#39;a&#39;] = &#39;y&#39;\n",
    "### &gt;&gt;&gt; l=1; m=[1]; n={&#39;a&#39;:0}\n",
    "### &gt;&gt;&gt; func(l, m, n)\n",
    "### &gt;&gt;&gt; l, m, n"
   ]
  },
  {
   "cell_type": "code",
   "execution_count": null,
   "id": "b9be6550",
   "metadata": {},
   "outputs": [],
   "source": []
  }
 ],
 "metadata": {
  "kernelspec": {
   "display_name": "Python 3 (ipykernel)",
   "language": "python",
   "name": "python3"
  },
  "language_info": {
   "codemirror_mode": {
    "name": "ipython",
    "version": 3
   },
   "file_extension": ".py",
   "mimetype": "text/x-python",
   "name": "python",
   "nbconvert_exporter": "python",
   "pygments_lexer": "ipython3",
   "version": "3.10.9"
  }
 },
 "nbformat": 4,
 "nbformat_minor": 5
}
