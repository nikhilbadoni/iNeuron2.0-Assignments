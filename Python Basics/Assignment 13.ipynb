{
 "cells": [
  {
   "cell_type": "markdown",
   "id": "68aa4cff",
   "metadata": {},
   "source": [
    "# Python Basics | Assignment"
   ]
  },
  {
   "cell_type": "markdown",
   "id": "4a74e8e7",
   "metadata": {},
   "source": [
    "# Q1.\n",
    "### Write a program that calculates and prints the value according to the given formula:\n",
    "### Q = Square root of [(2 * C * D)/H]\n",
    "### Following are the fixed values of C and H:\n",
    "### C is 50. H is 30.\n",
    "### D is the variable whose values should be input to your program in a comma-separated sequence.\n",
    "##### Example\n",
    "##### Let us assume the following comma separated input sequence is given to the program:\n",
    "##### 100,150,180\n",
    "##### The output of the program should be:\n",
    "##### 18,22,24"
   ]
  },
  {
   "cell_type": "code",
   "execution_count": 1,
   "id": "52543592",
   "metadata": {},
   "outputs": [
    {
     "name": "stdout",
     "output_type": "stream",
     "text": [
      "18,22,24\n"
     ]
    }
   ],
   "source": [
    "import math\n",
    "\n",
    "# Fixed values\n",
    "C = 50\n",
    "H = 30\n",
    "\n",
    "# Function to calculate Q\n",
    "def calculate_Q(D):\n",
    "    return int(math.sqrt((2 * C * D) / H))\n",
    "\n",
    "# Input: comma-separated sequence of values for D\n",
    "input_values = input(\"Enter comma-separated values for D: \")\n",
    "\n",
    "# Converting input string to a list of integers\n",
    "D_values = list(map(int, input_values.split(',')))\n",
    "\n",
    "# Calculate Q for each D and store the results in a list\n",
    "Q_values = [calculate_Q(D) for D in D_values]\n",
    "\n",
    "# Printing the results as a comma-separated sequence\n",
    "print(','.join(map(str, Q_values)))\n"
   ]
  },
  {
   "cell_type": "markdown",
   "id": "a8e3ed59",
   "metadata": {},
   "source": [
    "# Q2.\n",
    "### Write a program which takes 2 digits, X,Y as input and generates a 2-dimensional array. The\n",
    "### element value in the i-th row and j-th column of the array should be i*j.\n",
    "### Note: i=0,1.., X-1; j=0,1,¡Y-1.\n",
    "##### Example\n",
    "##### Suppose the following inputs are given to the program:\n",
    "##### 3,5\n",
    "##### Then, the output of the program should be:\n",
    "##### [[0, 0, 0, 0, 0], [0, 1, 2, 3, 4], [0, 2, 4, 6, 8]]"
   ]
  },
  {
   "cell_type": "code",
   "execution_count": 2,
   "id": "bad57b8c",
   "metadata": {},
   "outputs": [
    {
     "name": "stdout",
     "output_type": "stream",
     "text": [
      "[[0, 0, 0, 0, 0], [0, 1, 2, 3, 4], [0, 2, 4, 6, 8]]\n"
     ]
    }
   ],
   "source": [
    "def generate_2d_array(X, Y):\n",
    "    # Initialize the 2D array with zeros\n",
    "    array = [[i * j for j in range(Y)] for i in range(X)]\n",
    "    return array\n",
    "\n",
    "# Input: two digits X and Y\n",
    "X, Y = map(int, input(\"Enter two digits X and Y separated by a comma: \").split(','))\n",
    "\n",
    "# Generate the 2D array\n",
    "result_array = generate_2d_array(X, Y)\n",
    "\n",
    "# Print the resulting 2D array\n",
    "print(result_array)\n"
   ]
  },
  {
   "cell_type": "markdown",
   "id": "c87e62e3",
   "metadata": {},
   "source": [
    "# Q3.\n",
    "### Write a program that accepts a comma separated sequence of words as input and prints the\n",
    "### words in a comma-separated sequence after sorting them alphabetically.\n",
    "### Suppose the following input is supplied to the program:\n",
    "### without,hello,bag,world\n",
    "### Then, the output should be:\n",
    "### bag,hello,without,world"
   ]
  },
  {
   "cell_type": "code",
   "execution_count": 3,
   "id": "a32051d5",
   "metadata": {},
   "outputs": [
    {
     "name": "stdout",
     "output_type": "stream",
     "text": [
      "bag,hello,without,world\n"
     ]
    }
   ],
   "source": [
    "# Input: comma-separated sequence of words\n",
    "input_sequence = input(\"Enter comma-separated sequence of words: \")\n",
    "\n",
    "# Split the input string into a list of words\n",
    "words = input_sequence.split(',')\n",
    "\n",
    "# Sort the list of words alphabetically\n",
    "words.sort()\n",
    "\n",
    "# Join the sorted list back into a comma-separated sequence\n",
    "sorted_sequence = ','.join(words)\n",
    "\n",
    "# Print the sorted sequence\n",
    "print(sorted_sequence)\n"
   ]
  },
  {
   "cell_type": "markdown",
   "id": "bf099604",
   "metadata": {},
   "source": [
    "# Q4.\n",
    "### Write a program that accepts a sequence of whitespace separated words as input and prints\n",
    "### the words after removing all duplicate words and sorting them alphanumerically.\n",
    "### Suppose the following input is supplied to the program:\n",
    "### hello world and practice makes perfect and hello world again\n",
    "### Then, the output should be:\n",
    "### again and hello makes perfect practice world"
   ]
  },
  {
   "cell_type": "code",
   "execution_count": 4,
   "id": "d80c5aaf",
   "metadata": {},
   "outputs": [
    {
     "name": "stdout",
     "output_type": "stream",
     "text": [
      "again and hello makes perfect practice world\n"
     ]
    }
   ],
   "source": [
    "# Input: sequence of whitespace-separated words\n",
    "input_sequence = input(\"Enter a sequence of whitespace-separated words: \")\n",
    "\n",
    "# Split the input string into a list of words\n",
    "words = input_sequence.split()\n",
    "\n",
    "# Remove duplicates by converting the list to a set\n",
    "unique_words = set(words)\n",
    "\n",
    "# Sort the unique words alphanumerically\n",
    "sorted_words = sorted(unique_words)\n",
    "\n",
    "# Join the sorted list back into a whitespace-separated sequence\n",
    "sorted_sequence = ' '.join(sorted_words)\n",
    "\n",
    "# Print the sorted sequence\n",
    "print(sorted_sequence)\n"
   ]
  },
  {
   "cell_type": "markdown",
   "id": "7eb6c37f",
   "metadata": {},
   "source": [
    "# Q5.\n",
    "### Write a program that accepts a sentence and calculate the number of letters and digits.\n",
    "### Suppose the following input is supplied to the program:\n",
    "### hello world! 123\n",
    "### Then, the output should be:\n",
    "### LETTERS 10\n",
    "### DIGITS 3"
   ]
  },
  {
   "cell_type": "code",
   "execution_count": 5,
   "id": "f0688d98",
   "metadata": {},
   "outputs": [
    {
     "name": "stdout",
     "output_type": "stream",
     "text": [
      "LETTERS 10\n",
      "DIGITS 3\n"
     ]
    }
   ],
   "source": [
    "# Input: a sentence\n",
    "input_sentence = input(\"Enter a sentence: \")\n",
    "\n",
    "# Initialize counters for letters and digits\n",
    "letters_count = 0\n",
    "digits_count = 0\n",
    "\n",
    "# Iterate through each character in the sentence\n",
    "for char in input_sentence:\n",
    "    if char.isalpha():\n",
    "        letters_count += 1\n",
    "    elif char.isdigit():\n",
    "        digits_count += 1\n",
    "\n",
    "# Print the results\n",
    "print(f\"LETTERS {letters_count}\")\n",
    "print(f\"DIGITS {digits_count}\")\n"
   ]
  },
  {
   "cell_type": "markdown",
   "id": "d5d006bd",
   "metadata": {},
   "source": [
    "# Q6.\n",
    "### A website requires the users to input username and password to register. Write a program to\n",
    "### check the validity of password input by users.\n",
    "### Following are the criteria for checking the password:\n",
    "### 1. At least 1 letter between [a-z]\n",
    "### 2. At least 1 number between [0-9]\n",
    "### 1. At least 1 letter between [A-Z]\n",
    "### 3. At least 1 character from [$#@]\n",
    "### 4. Minimum length of transaction password: 6\n",
    "### 5. Maximum length of transaction password: 12\n",
    "### Your program should accept a sequence of comma separated passwords and will check them\n",
    "### according to the above criteria. Passwords that match the criteria are to be printed, each\n",
    "### separated by a comma.\n",
    "##### Example\n",
    "##### If the following passwords are given as input to the program:\n",
    "##### ABd1234@1,a F1#,2w3E*,2We3345\n",
    "##### Then, the output of the program should be:\n",
    "##### ABd1234@1"
   ]
  },
  {
   "cell_type": "code",
   "execution_count": 6,
   "id": "986b27e5",
   "metadata": {},
   "outputs": [
    {
     "name": "stdout",
     "output_type": "stream",
     "text": [
      "ABd1234@1\n"
     ]
    }
   ],
   "source": [
    "import re\n",
    "\n",
    "def check_password_validity(password):\n",
    "    # Check the length of the password\n",
    "    if len(password) < 6 or len(password) > 12:\n",
    "        return False\n",
    "\n",
    "    # Check for at least one lowercase letter\n",
    "    if not re.search(\"[a-z]\", password):\n",
    "        return False\n",
    "\n",
    "    # Check for at least one uppercase letter\n",
    "    if not re.search(\"[A-Z]\", password):\n",
    "        return False\n",
    "\n",
    "    # Check for at least one digit\n",
    "    if not re.search(\"[0-9]\", password):\n",
    "        return False\n",
    "\n",
    "    # Check for at least one special character from [$#@]\n",
    "    if not re.search(\"[$#@]\", password):\n",
    "        return False\n",
    "\n",
    "    return True\n",
    "\n",
    "# Input: comma-separated sequence of passwords\n",
    "input_passwords = input(\"Enter comma-separated passwords: \")\n",
    "\n",
    "# Split the input string into a list of passwords\n",
    "passwords = input_passwords.split(',')\n",
    "\n",
    "# Filter the valid passwords\n",
    "valid_passwords = [password for password in passwords if check_password_validity(password)]\n",
    "\n",
    "# Print the valid passwords as a comma-separated sequence\n",
    "print(','.join(valid_passwords))\n"
   ]
  },
  {
   "cell_type": "code",
   "execution_count": null,
   "id": "4c252ef6",
   "metadata": {},
   "outputs": [],
   "source": []
  }
 ],
 "metadata": {
  "kernelspec": {
   "display_name": "Python 3 (ipykernel)",
   "language": "python",
   "name": "python3"
  },
  "language_info": {
   "codemirror_mode": {
    "name": "ipython",
    "version": 3
   },
   "file_extension": ".py",
   "mimetype": "text/x-python",
   "name": "python",
   "nbconvert_exporter": "python",
   "pygments_lexer": "ipython3",
   "version": "3.10.11"
  }
 },
 "nbformat": 4,
 "nbformat_minor": 5
}
